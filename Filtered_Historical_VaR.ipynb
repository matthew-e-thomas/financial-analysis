{
 "cells": [
  {
   "cell_type": "markdown",
   "metadata": {},
   "source": [
    "## Various Examples of Taking Historical VaR"
   ]
  },
  {
   "cell_type": "code",
   "execution_count": 1,
   "metadata": {},
   "outputs": [],
   "source": [
    "import pandas as pd\n",
    "import numpy as np\n",
    "\n",
    "import re\n",
    "import quandl\n",
    "import matplotlib.pyplot as plt\n",
    "%matplotlib inline\n",
    "\n",
    "import seaborn as sns\n",
    "sns.set_style('darkgrid')\n",
    "sns.set_palette('coolwarm')"
   ]
  },
  {
   "cell_type": "code",
   "execution_count": 2,
   "metadata": {},
   "outputs": [
    {
     "data": {
      "text/html": [
       "<div>\n",
       "<style scoped>\n",
       "    .dataframe tbody tr th:only-of-type {\n",
       "        vertical-align: middle;\n",
       "    }\n",
       "\n",
       "    .dataframe tbody tr th {\n",
       "        vertical-align: top;\n",
       "    }\n",
       "\n",
       "    .dataframe thead th {\n",
       "        text-align: right;\n",
       "    }\n",
       "</style>\n",
       "<table border=\"1\" class=\"dataframe\">\n",
       "  <thead>\n",
       "    <tr style=\"text-align: right;\">\n",
       "      <th></th>\n",
       "      <th>WIKI/AAPL - Open</th>\n",
       "      <th>WIKI/AAPL - High</th>\n",
       "      <th>WIKI/AAPL - Low</th>\n",
       "      <th>WIKI/AAPL - Close</th>\n",
       "      <th>WIKI/AAPL - Volume</th>\n",
       "      <th>WIKI/AAPL - Ex-Dividend</th>\n",
       "      <th>WIKI/AAPL - Split Ratio</th>\n",
       "      <th>WIKI/AAPL - Adj. Open</th>\n",
       "      <th>WIKI/AAPL - Adj. High</th>\n",
       "      <th>WIKI/AAPL - Adj. Low</th>\n",
       "      <th>...</th>\n",
       "      <th>WIKI/JNJ - Low</th>\n",
       "      <th>WIKI/JNJ - Close</th>\n",
       "      <th>WIKI/JNJ - Volume</th>\n",
       "      <th>WIKI/JNJ - Ex-Dividend</th>\n",
       "      <th>WIKI/JNJ - Split Ratio</th>\n",
       "      <th>WIKI/JNJ - Adj. Open</th>\n",
       "      <th>WIKI/JNJ - Adj. High</th>\n",
       "      <th>WIKI/JNJ - Adj. Low</th>\n",
       "      <th>WIKI/JNJ - Adj. Close</th>\n",
       "      <th>WIKI/JNJ - Adj. Volume</th>\n",
       "    </tr>\n",
       "    <tr>\n",
       "      <th>Date</th>\n",
       "      <th></th>\n",
       "      <th></th>\n",
       "      <th></th>\n",
       "      <th></th>\n",
       "      <th></th>\n",
       "      <th></th>\n",
       "      <th></th>\n",
       "      <th></th>\n",
       "      <th></th>\n",
       "      <th></th>\n",
       "      <th></th>\n",
       "      <th></th>\n",
       "      <th></th>\n",
       "      <th></th>\n",
       "      <th></th>\n",
       "      <th></th>\n",
       "      <th></th>\n",
       "      <th></th>\n",
       "      <th></th>\n",
       "      <th></th>\n",
       "      <th></th>\n",
       "    </tr>\n",
       "  </thead>\n",
       "  <tbody>\n",
       "    <tr>\n",
       "      <th>2015-03-13</th>\n",
       "      <td>0.017088</td>\n",
       "      <td>0.003964</td>\n",
       "      <td>0.007811</td>\n",
       "      <td>-0.006910</td>\n",
       "      <td>0.071637</td>\n",
       "      <td>NaN</td>\n",
       "      <td>0.0</td>\n",
       "      <td>0.017088</td>\n",
       "      <td>0.003964</td>\n",
       "      <td>0.007811</td>\n",
       "      <td>...</td>\n",
       "      <td>-0.001930</td>\n",
       "      <td>-0.006211</td>\n",
       "      <td>-0.059654</td>\n",
       "      <td>NaN</td>\n",
       "      <td>0.0</td>\n",
       "      <td>0.008994</td>\n",
       "      <td>-0.001895</td>\n",
       "      <td>-0.001930</td>\n",
       "      <td>-0.006211</td>\n",
       "      <td>-0.059654</td>\n",
       "    </tr>\n",
       "    <tr>\n",
       "      <th>2015-03-16</th>\n",
       "      <td>-0.004180</td>\n",
       "      <td>-0.003550</td>\n",
       "      <td>0.002366</td>\n",
       "      <td>0.011004</td>\n",
       "      <td>-0.307811</td>\n",
       "      <td>NaN</td>\n",
       "      <td>0.0</td>\n",
       "      <td>-0.004180</td>\n",
       "      <td>-0.003550</td>\n",
       "      <td>0.002366</td>\n",
       "      <td>...</td>\n",
       "      <td>0.011159</td>\n",
       "      <td>0.018647</td>\n",
       "      <td>-0.012184</td>\n",
       "      <td>NaN</td>\n",
       "      <td>0.0</td>\n",
       "      <td>-0.001102</td>\n",
       "      <td>0.010195</td>\n",
       "      <td>0.011159</td>\n",
       "      <td>0.018647</td>\n",
       "      <td>-0.012184</td>\n",
       "    </tr>\n",
       "    <tr>\n",
       "      <th>2015-03-17</th>\n",
       "      <td>0.016306</td>\n",
       "      <td>0.018968</td>\n",
       "      <td>0.022626</td>\n",
       "      <td>0.016727</td>\n",
       "      <td>0.422275</td>\n",
       "      <td>NaN</td>\n",
       "      <td>0.0</td>\n",
       "      <td>0.016306</td>\n",
       "      <td>0.018968</td>\n",
       "      <td>0.022626</td>\n",
       "      <td>...</td>\n",
       "      <td>-0.003309</td>\n",
       "      <td>-0.011577</td>\n",
       "      <td>-0.055001</td>\n",
       "      <td>NaN</td>\n",
       "      <td>0.0</td>\n",
       "      <td>0.003710</td>\n",
       "      <td>-0.005442</td>\n",
       "      <td>-0.003309</td>\n",
       "      <td>-0.011577</td>\n",
       "      <td>-0.055001</td>\n",
       "    </tr>\n",
       "    <tr>\n",
       "      <th>2015-03-18</th>\n",
       "      <td>0.008737</td>\n",
       "      <td>0.014452</td>\n",
       "      <td>0.005730</td>\n",
       "      <td>0.011256</td>\n",
       "      <td>0.279243</td>\n",
       "      <td>NaN</td>\n",
       "      <td>0.0</td>\n",
       "      <td>0.008737</td>\n",
       "      <td>0.014452</td>\n",
       "      <td>0.005730</td>\n",
       "      <td>...</td>\n",
       "      <td>-0.002817</td>\n",
       "      <td>0.015717</td>\n",
       "      <td>0.091848</td>\n",
       "      <td>NaN</td>\n",
       "      <td>0.0</td>\n",
       "      <td>-0.002198</td>\n",
       "      <td>0.012137</td>\n",
       "      <td>-0.002817</td>\n",
       "      <td>0.015717</td>\n",
       "      <td>0.091848</td>\n",
       "    </tr>\n",
       "    <tr>\n",
       "      <th>2015-03-19</th>\n",
       "      <td>0.013780</td>\n",
       "      <td>0.000659</td>\n",
       "      <td>0.008151</td>\n",
       "      <td>-0.007589</td>\n",
       "      <td>-0.298164</td>\n",
       "      <td>NaN</td>\n",
       "      <td>0.0</td>\n",
       "      <td>0.013780</td>\n",
       "      <td>0.000659</td>\n",
       "      <td>0.008151</td>\n",
       "      <td>...</td>\n",
       "      <td>0.017956</td>\n",
       "      <td>0.002267</td>\n",
       "      <td>-0.139118</td>\n",
       "      <td>NaN</td>\n",
       "      <td>0.0</td>\n",
       "      <td>0.011513</td>\n",
       "      <td>0.002113</td>\n",
       "      <td>0.017956</td>\n",
       "      <td>0.002267</td>\n",
       "      <td>-0.139118</td>\n",
       "    </tr>\n",
       "  </tbody>\n",
       "</table>\n",
       "<p>5 rows × 48 columns</p>\n",
       "</div>"
      ],
      "text/plain": [
       "            WIKI/AAPL - Open  WIKI/AAPL - High  WIKI/AAPL - Low  \\\n",
       "Date                                                              \n",
       "2015-03-13          0.017088          0.003964         0.007811   \n",
       "2015-03-16         -0.004180         -0.003550         0.002366   \n",
       "2015-03-17          0.016306          0.018968         0.022626   \n",
       "2015-03-18          0.008737          0.014452         0.005730   \n",
       "2015-03-19          0.013780          0.000659         0.008151   \n",
       "\n",
       "            WIKI/AAPL - Close  WIKI/AAPL - Volume  WIKI/AAPL - Ex-Dividend  \\\n",
       "Date                                                                         \n",
       "2015-03-13          -0.006910            0.071637                      NaN   \n",
       "2015-03-16           0.011004           -0.307811                      NaN   \n",
       "2015-03-17           0.016727            0.422275                      NaN   \n",
       "2015-03-18           0.011256            0.279243                      NaN   \n",
       "2015-03-19          -0.007589           -0.298164                      NaN   \n",
       "\n",
       "            WIKI/AAPL - Split Ratio  WIKI/AAPL - Adj. Open  \\\n",
       "Date                                                         \n",
       "2015-03-13                      0.0               0.017088   \n",
       "2015-03-16                      0.0              -0.004180   \n",
       "2015-03-17                      0.0               0.016306   \n",
       "2015-03-18                      0.0               0.008737   \n",
       "2015-03-19                      0.0               0.013780   \n",
       "\n",
       "            WIKI/AAPL - Adj. High  WIKI/AAPL - Adj. Low  ...  WIKI/JNJ - Low  \\\n",
       "Date                                                     ...                   \n",
       "2015-03-13               0.003964              0.007811  ...       -0.001930   \n",
       "2015-03-16              -0.003550              0.002366  ...        0.011159   \n",
       "2015-03-17               0.018968              0.022626  ...       -0.003309   \n",
       "2015-03-18               0.014452              0.005730  ...       -0.002817   \n",
       "2015-03-19               0.000659              0.008151  ...        0.017956   \n",
       "\n",
       "            WIKI/JNJ - Close  WIKI/JNJ - Volume  WIKI/JNJ - Ex-Dividend  \\\n",
       "Date                                                                      \n",
       "2015-03-13         -0.006211          -0.059654                     NaN   \n",
       "2015-03-16          0.018647          -0.012184                     NaN   \n",
       "2015-03-17         -0.011577          -0.055001                     NaN   \n",
       "2015-03-18          0.015717           0.091848                     NaN   \n",
       "2015-03-19          0.002267          -0.139118                     NaN   \n",
       "\n",
       "            WIKI/JNJ - Split Ratio  WIKI/JNJ - Adj. Open  \\\n",
       "Date                                                       \n",
       "2015-03-13                     0.0              0.008994   \n",
       "2015-03-16                     0.0             -0.001102   \n",
       "2015-03-17                     0.0              0.003710   \n",
       "2015-03-18                     0.0             -0.002198   \n",
       "2015-03-19                     0.0              0.011513   \n",
       "\n",
       "            WIKI/JNJ - Adj. High  WIKI/JNJ - Adj. Low  WIKI/JNJ - Adj. Close  \\\n",
       "Date                                                                           \n",
       "2015-03-13             -0.001895            -0.001930              -0.006211   \n",
       "2015-03-16              0.010195             0.011159               0.018647   \n",
       "2015-03-17             -0.005442            -0.003309              -0.011577   \n",
       "2015-03-18              0.012137            -0.002817               0.015717   \n",
       "2015-03-19              0.002113             0.017956               0.002267   \n",
       "\n",
       "            WIKI/JNJ - Adj. Volume  \n",
       "Date                                \n",
       "2015-03-13               -0.059654  \n",
       "2015-03-16               -0.012184  \n",
       "2015-03-17               -0.055001  \n",
       "2015-03-18                0.091848  \n",
       "2015-03-19               -0.139118  \n",
       "\n",
       "[5 rows x 48 columns]"
      ]
     },
     "execution_count": 2,
     "metadata": {},
     "output_type": "execute_result"
    }
   ],
   "source": [
    "quandl.ApiConfig.api_key = \"vtreWrvk7v_uQiCNFaEH\"\n",
    "portfolio = quandl.get([\"WIKI/AAPL\", \"WIKI/GE\", \"WIKI/GOOGL\", \"WIKI/JNJ\"],\\\n",
    "                       start_date=\"2015-03-12\", end_date=\"2016-03-12\",\\\n",
    "                       transformation=\"rdiff\")\n",
    "\n",
    "portfolio.head()"
   ]
  },
  {
   "cell_type": "code",
   "execution_count": 44,
   "metadata": {},
   "outputs": [
    {
     "data": {
      "text/html": [
       "<div>\n",
       "<style scoped>\n",
       "    .dataframe tbody tr th:only-of-type {\n",
       "        vertical-align: middle;\n",
       "    }\n",
       "\n",
       "    .dataframe tbody tr th {\n",
       "        vertical-align: top;\n",
       "    }\n",
       "\n",
       "    .dataframe thead th {\n",
       "        text-align: right;\n",
       "    }\n",
       "</style>\n",
       "<table border=\"1\" class=\"dataframe\">\n",
       "  <thead>\n",
       "    <tr style=\"text-align: right;\">\n",
       "      <th></th>\n",
       "      <th>AAPL</th>\n",
       "      <th>GE</th>\n",
       "      <th>GOOGL</th>\n",
       "      <th>JNJ</th>\n",
       "    </tr>\n",
       "    <tr>\n",
       "      <th>Date</th>\n",
       "      <th></th>\n",
       "      <th></th>\n",
       "      <th></th>\n",
       "      <th></th>\n",
       "    </tr>\n",
       "  </thead>\n",
       "  <tbody>\n",
       "    <tr>\n",
       "      <th>2015-03-13</th>\n",
       "      <td>-0.691041</td>\n",
       "      <td>-1.417323</td>\n",
       "      <td>-1.455887</td>\n",
       "      <td>-0.621056</td>\n",
       "    </tr>\n",
       "    <tr>\n",
       "      <th>2015-03-16</th>\n",
       "      <td>1.100413</td>\n",
       "      <td>1.637380</td>\n",
       "      <td>1.562387</td>\n",
       "      <td>1.864731</td>\n",
       "    </tr>\n",
       "    <tr>\n",
       "      <th>2015-03-17</th>\n",
       "      <td>1.672669</td>\n",
       "      <td>-0.550098</td>\n",
       "      <td>-0.717541</td>\n",
       "      <td>-1.157728</td>\n",
       "    </tr>\n",
       "    <tr>\n",
       "      <th>2015-03-18</th>\n",
       "      <td>1.125630</td>\n",
       "      <td>1.303832</td>\n",
       "      <td>1.533330</td>\n",
       "      <td>1.571729</td>\n",
       "    </tr>\n",
       "    <tr>\n",
       "      <th>2015-03-19</th>\n",
       "      <td>-0.758932</td>\n",
       "      <td>-1.209048</td>\n",
       "      <td>-0.439805</td>\n",
       "      <td>0.226690</td>\n",
       "    </tr>\n",
       "  </tbody>\n",
       "</table>\n",
       "</div>"
      ],
      "text/plain": [
       "                AAPL        GE     GOOGL       JNJ\n",
       "Date                                              \n",
       "2015-03-13 -0.691041 -1.417323 -1.455887 -0.621056\n",
       "2015-03-16  1.100413  1.637380  1.562387  1.864731\n",
       "2015-03-17  1.672669 -0.550098 -0.717541 -1.157728\n",
       "2015-03-18  1.125630  1.303832  1.533330  1.571729\n",
       "2015-03-19 -0.758932 -1.209048 -0.439805  0.226690"
      ]
     },
     "execution_count": 44,
     "metadata": {},
     "output_type": "execute_result"
    }
   ],
   "source": [
    "#We only want Adjusted Close\n",
    "#If someone knows a better way to do this please email me\n",
    "returns = portfolio[list(portfolio.columns[portfolio.columns.str.\\\n",
    "                                              contains('Adj. Close')])]\n",
    "returns = returns.rename(columns={\"WIKI/AAPL - Adj. Close\":\"AAPL\",\\\n",
    "                                       \"WIKI/GE - Adj. Close\":\"GE\",\\\n",
    "                                       \"WIKI/GOOGL - Adj. Close\":\"GOOGL\",\\\n",
    "                                       \"WIKI/JNJ - Adj. Close\":\"JNJ\"})\n",
    "returns = returns * 100 #convert to percentages\n",
    "returns.head()"
   ]
  },
  {
   "cell_type": "code",
   "execution_count": 4,
   "metadata": {},
   "outputs": [
    {
     "name": "stdout",
     "output_type": "stream",
     "text": [
      "252\n"
     ]
    }
   ],
   "source": [
    "#confirm number of trading days\n",
    "print(len(returns))"
   ]
  },
  {
   "cell_type": "code",
   "execution_count": 5,
   "metadata": {},
   "outputs": [
    {
     "data": {
      "text/plain": [
       "array([-0.95741596,  1.61342784, -0.36534104,  1.39830022, -0.46780529,\n",
       "        0.13468824,  0.52477562, -0.49826201, -1.7679611 , -0.13205839,\n",
       "       -0.11494785,  1.36670421, -1.16613601, -0.66312163,  0.34182132,\n",
       "        0.46874038, -0.00515651,  0.0199577 ,  1.46883257,  3.6243436 ,\n",
       "       -1.5553157 , -0.15156355, -0.16091561, -0.56910931, -0.54059787,\n",
       "        0.67807439, -0.54581634,  0.763358  ,  0.25910088,  0.5756873 ,\n",
       "        0.12408417, -0.01453905, -0.51907734, -1.25262367,  1.28062381,\n",
       "        0.03565225, -1.35168914, -0.52751787,  0.70827122,  1.58579717,\n",
       "       -0.91738285, -0.30034308,  0.26877614,  1.376321  , -0.04586962,\n",
       "        0.70577408,  0.28210605,  0.23685053,  0.20315515, -0.32725294,\n",
       "       -0.95539462,  0.62618495,  0.0864226 , -1.1778143 ,  0.08153774,\n",
       "        0.02920174,  0.31236064, -0.8195614 , -0.37389469, -0.55280475,\n",
       "        0.11744558,  1.02391956, -0.07599165, -0.75716869, -0.66788923,\n",
       "        0.50957747,  0.19030296,  1.28981182, -0.51786912,  0.48866753,\n",
       "       -0.00627064, -0.4117013 , -0.43301002,  0.0600307 , -1.84900654,\n",
       "       -0.04753411,  0.76387627,  0.17193123, -0.72505659,  0.50733829,\n",
       "       -1.77027601,  0.05491311,  1.49268786,  1.19278778,  0.22966804,\n",
       "        0.56923924,  1.14910052,  1.61300902,  0.28689345, -0.49618212,\n",
       "       -1.15907761, -0.711472  , -1.4030839 , -0.34243141,  0.59507947,\n",
       "        0.43433147, -0.16931944, -0.15584889, -0.70195678, -0.7466193 ,\n",
       "        0.83444383, -0.66076848, -0.38363141,  1.61216557, -1.54979687,\n",
       "        0.37917566, -0.26175962,  0.65372347,  0.85437259, -0.55068029,\n",
       "       -0.59410204, -1.45924568, -3.46369986, -2.92703855, -1.62575022,\n",
       "        4.80391355,  2.42983425, -0.31484835, -1.1790612 , -3.11640941,\n",
       "        2.51572537, -0.85008996, -1.52482211,  3.14575603, -1.61711996,\n",
       "        0.93434157,  0.77498595,  0.10087671,  1.46618326,  0.86514465,\n",
       "       -0.64308442, -1.50500676,  0.6414047 , -0.44965204,  0.09222751,\n",
       "       -0.35007956, -0.90390431, -1.21587251,  0.42446791,  1.32447582,\n",
       "       -0.1047888 ,  1.03925209,  2.23963309,  0.05517718,  1.07596962,\n",
       "        0.04712801,  0.70692083,  0.26597681, -0.32629156, -0.99925003,\n",
       "        2.06079186,  1.35213452,  0.07906971, -0.28011531, -0.03298371,\n",
       "        1.98248468,  1.42307052, -0.58120232, -0.09470669,  0.92453946,\n",
       "        0.62215697, -0.83467603,  1.37080786,  0.35551595, -0.0648774 ,\n",
       "        0.23374937,  0.15851687, -0.76494761,  0.03097675,  0.68860676,\n",
       "       -1.3043726 , -0.83795756,  1.08244269, -0.07299979,  1.48034876,\n",
       "       -0.06271803,  0.98737821, -0.21901046, -0.1145738 , -0.47271118,\n",
       "        0.15879739, -0.89150989,  0.78517148, -0.57647128, -0.74363391,\n",
       "        2.12502097, -0.18015548, -0.50687954, -0.43114491,  0.43132157,\n",
       "       -1.39718748,  0.22270657,  0.44884472,  1.45420538, -1.31652375,\n",
       "       -1.62738933,  0.27112477,  0.59835305,  1.03175509, -0.16896588,\n",
       "       -0.13457927,  1.19213408, -0.62398583, -0.85134739, -1.51761553,\n",
       "       -0.27716238, -1.10066712, -2.82109176, -0.99623435,  0.25005589,\n",
       "        0.79530091, -1.77569102,  2.24376121, -2.11898623,  0.23031053,\n",
       "       -1.21425229,  0.72313071,  1.2923703 , -0.90645107,  2.38521227,\n",
       "       -1.47611679,  0.83961351,  2.66042985, -0.56428236, -1.05979793,\n",
       "        0.73126127,  0.34309576, -2.84554613,  0.40821276,  0.05657897,\n",
       "       -0.1413593 , -1.04071741,  1.00184648,  1.54933209,  1.07530166,\n",
       "       -0.16350096,  0.21360186,  0.90077908, -1.06307039,  0.41940317,\n",
       "        1.31049539, -0.07855009, -0.63165043,  2.66818729,  0.24157613,\n",
       "       -0.0637917 ,  0.46080463, -0.53718783, -0.57733875,  0.40781029,\n",
       "        0.10557843,  1.00254316])"
      ]
     },
     "execution_count": 5,
     "metadata": {},
     "output_type": "execute_result"
    }
   ],
   "source": [
    "#Convert returns into P/L\n",
    "weights = [0.2, 0.3, 0.1, 0.4]\n",
    "PnL = (weights * returns.values).sum(axis=1)\n",
    "PnL #array representing daily P&Ls\n"
   ]
  },
  {
   "cell_type": "code",
   "execution_count": 6,
   "metadata": {},
   "outputs": [
    {
     "name": "stdout",
     "output_type": "stream",
     "text": [
      "Volatility is 1.1148145358035322\n"
     ]
    }
   ],
   "source": [
    "#Calculate daily volatility over this period\n",
    "vol = np.std(PnL)\n",
    "print(f\"Volatility is {vol}\")"
   ]
  },
  {
   "cell_type": "markdown",
   "metadata": {},
   "source": [
    "### Simple Historical VaR"
   ]
  },
  {
   "cell_type": "code",
   "execution_count": 7,
   "metadata": {},
   "outputs": [
    {
     "data": {
      "text/plain": [
       "array([-3.46369986, -3.11640941, -2.92703855, -2.84554613, -2.82109176,\n",
       "       -2.11898623, -1.84900654, -1.77569102, -1.77027601, -1.7679611 ,\n",
       "       -1.62738933, -1.62575022, -1.61711996, -1.5553157 , -1.54979687,\n",
       "       -1.52482211, -1.51761553, -1.50500676, -1.47611679, -1.45924568,\n",
       "       -1.4030839 , -1.39718748, -1.35168914, -1.31652375, -1.3043726 ,\n",
       "       -1.25262367, -1.21587251, -1.21425229, -1.1790612 , -1.1778143 ,\n",
       "       -1.16613601, -1.15907761, -1.10066712, -1.06307039, -1.05979793,\n",
       "       -1.04071741, -0.99925003, -0.99623435, -0.95741596, -0.95539462,\n",
       "       -0.91738285, -0.90645107, -0.90390431, -0.89150989, -0.85134739,\n",
       "       -0.85008996, -0.83795756, -0.83467603, -0.8195614 , -0.76494761,\n",
       "       -0.75716869, -0.7466193 , -0.74363391, -0.72505659, -0.711472  ,\n",
       "       -0.70195678, -0.66788923, -0.66312163, -0.66076848, -0.64308442,\n",
       "       -0.63165043, -0.62398583, -0.59410204, -0.58120232, -0.57733875,\n",
       "       -0.57647128, -0.56910931, -0.56428236, -0.55280475, -0.55068029,\n",
       "       -0.54581634, -0.54059787, -0.53718783, -0.52751787, -0.51907734,\n",
       "       -0.51786912, -0.50687954, -0.49826201, -0.49618212, -0.47271118,\n",
       "       -0.46780529, -0.44965204, -0.43301002, -0.43114491, -0.4117013 ,\n",
       "       -0.38363141, -0.37389469, -0.36534104, -0.35007956, -0.34243141,\n",
       "       -0.32725294, -0.32629156, -0.31484835, -0.30034308, -0.28011531,\n",
       "       -0.27716238, -0.26175962, -0.21901046, -0.18015548, -0.16931944,\n",
       "       -0.16896588, -0.16350096, -0.16091561, -0.15584889, -0.15156355,\n",
       "       -0.1413593 , -0.13457927, -0.13205839, -0.11494785, -0.1145738 ,\n",
       "       -0.1047888 , -0.09470669, -0.07855009, -0.07599165, -0.07299979,\n",
       "       -0.0648774 , -0.0637917 , -0.06271803, -0.04753411, -0.04586962,\n",
       "       -0.03298371, -0.01453905, -0.00627064, -0.00515651,  0.0199577 ,\n",
       "        0.02920174,  0.03097675,  0.03565225,  0.04712801,  0.05491311,\n",
       "        0.05517718,  0.05657897,  0.0600307 ,  0.07906971,  0.08153774,\n",
       "        0.0864226 ,  0.09222751,  0.10087671,  0.10557843,  0.11744558,\n",
       "        0.12408417,  0.13468824,  0.15851687,  0.15879739,  0.17193123,\n",
       "        0.19030296,  0.20315515,  0.21360186,  0.22270657,  0.22966804,\n",
       "        0.23031053,  0.23374937,  0.23685053,  0.24157613,  0.25005589,\n",
       "        0.25910088,  0.26597681,  0.26877614,  0.27112477,  0.28210605,\n",
       "        0.28689345,  0.31236064,  0.34182132,  0.34309576,  0.35551595,\n",
       "        0.37917566,  0.40781029,  0.40821276,  0.41940317,  0.42446791,\n",
       "        0.43132157,  0.43433147,  0.44884472,  0.46080463,  0.46874038,\n",
       "        0.48866753,  0.50733829,  0.50957747,  0.52477562,  0.56923924,\n",
       "        0.5756873 ,  0.59507947,  0.59835305,  0.62215697,  0.62618495,\n",
       "        0.6414047 ,  0.65372347,  0.67807439,  0.68860676,  0.70577408,\n",
       "        0.70692083,  0.70827122,  0.72313071,  0.73126127,  0.763358  ,\n",
       "        0.76387627,  0.77498595,  0.78517148,  0.79530091,  0.83444383,\n",
       "        0.83961351,  0.85437259,  0.86514465,  0.90077908,  0.92453946,\n",
       "        0.93434157,  0.98737821,  1.00184648,  1.00254316,  1.02391956,\n",
       "        1.03175509,  1.03925209,  1.07530166,  1.07596962,  1.08244269,\n",
       "        1.14910052,  1.19213408,  1.19278778,  1.28062381,  1.28981182,\n",
       "        1.2923703 ,  1.31049539,  1.32447582,  1.35213452,  1.36670421,\n",
       "        1.37080786,  1.376321  ,  1.39830022,  1.42307052,  1.45420538,\n",
       "        1.46618326,  1.46883257,  1.48034876,  1.49268786,  1.54933209,\n",
       "        1.58579717,  1.61216557,  1.61300902,  1.61342784,  1.98248468,\n",
       "        2.06079186,  2.12502097,  2.23963309,  2.24376121,  2.38521227,\n",
       "        2.42983425,  2.51572537,  2.66042985,  2.66818729,  3.14575603,\n",
       "        3.6243436 ,  4.80391355])"
      ]
     },
     "execution_count": 7,
     "metadata": {},
     "output_type": "execute_result"
    }
   ],
   "source": [
    "#To compute simple historic VaR, we simply sort the P&Ls and pick the one at the \n",
    "#percentile we need, in our case 5%\n",
    "np.sort(PnL)"
   ]
  },
  {
   "cell_type": "code",
   "execution_count": 8,
   "metadata": {},
   "outputs": [
    {
     "name": "stdout",
     "output_type": "stream",
     "text": [
      "The simple historical VaR is -1.6171199605525266\n"
     ]
    }
   ],
   "source": [
    "historic_var = np.percentile(PnL, 5, interpolation=\"lower\")\n",
    "print(f'The simple historical VaR is {historic_var}')\n"
   ]
  },
  {
   "cell_type": "markdown",
   "metadata": {},
   "source": [
    "Note that this VaR is in percentage terms. It can be converted to dollar terms by multiplying it by the total position value."
   ]
  },
  {
   "cell_type": "code",
   "execution_count": 9,
   "metadata": {},
   "outputs": [
    {
     "data": {
      "text/plain": [
       "<matplotlib.axes._subplots.AxesSubplot at 0x1a2280c510>"
      ]
     },
     "execution_count": 9,
     "metadata": {},
     "output_type": "execute_result"
    },
    {
     "data": {
      "image/png": "[encoded data removed]",
      "text/plain": [
       "<Figure size 432x288 with 1 Axes>"
      ]
     },
     "metadata": {},
     "output_type": "display_data"
    }
   ],
   "source": [
    "returns['P&L'].plot(kind='hist', title=\"Histogram of P&Ls\")"
   ]
  },
  {
   "cell_type": "code",
   "execution_count": 10,
   "metadata": {},
   "outputs": [
    {
     "name": "stdout",
     "output_type": "stream",
     "text": [
      "Skew is 0.30275810677546755\n",
      "\n",
      "Kurtosis is 1.6703628605029035\n"
     ]
    }
   ],
   "source": [
    "from scipy.stats import kurtosis, skew\n",
    "\n",
    "print(f\"Skew is {skew(PnL)}\\n\")\n",
    "print(f\"Kurtosis is {kurtosis(PnL)}\")"
   ]
  },
  {
   "cell_type": "markdown",
   "metadata": {},
   "source": [
    "### Bootstrap VaR"
   ]
  },
  {
   "cell_type": "code",
   "execution_count": 15,
   "metadata": {},
   "outputs": [],
   "source": [
    "#This function returns historical VaR at 95% confidence. We will use it to feed bootstrap function\n",
    "def VaR_95(data):\n",
    "    return np.percentile(data, 5, interpolation=\"lower\")"
   ]
  },
  {
   "cell_type": "code",
   "execution_count": 16,
   "metadata": {},
   "outputs": [],
   "source": [
    "#This function will generate random samples with replacement\n",
    "def bootstrap(data, func):\n",
    "    sample = np.random.choice(data, len(data))\n",
    "    return func(sample)"
   ]
  },
  {
   "cell_type": "code",
   "execution_count": 17,
   "metadata": {},
   "outputs": [],
   "source": [
    "def draw_bs_reps(data, func, size):\n",
    "    \"\"\"Draw bootstrap replicates.\"\"\"\n",
    "\n",
    "    # Initialize array of replicates\n",
    "    bs_replicates = np.empty(size)\n",
    "\n",
    "    # Generate replicates\n",
    "    for i in range(size):\n",
    "        bs_replicates[i] = bootstrap(data, func)\n",
    "\n",
    "    return bs_replicates\n"
   ]
  },
  {
   "cell_type": "markdown",
   "metadata": {},
   "source": [
    "We take 10000 resampled VaR of our data with replacement, then the mean of that is our bootstrap VaR measure"
   ]
  },
  {
   "cell_type": "code",
   "execution_count": 19,
   "metadata": {},
   "outputs": [
    {
     "name": "stdout",
     "output_type": "stream",
     "text": [
      "The Bootstrap VaR measure is -1.610661905478375\n"
     ]
    }
   ],
   "source": [
    "#Take 10000 bootstrap replicates of portfolio returns\n",
    "bootstrap_VaR = draw_bs_reps(PnL, VaR_95, 10000)\n",
    "print(f\"The Bootstrap VaR measure is {np.mean(bootstrap_VaR)}\")"
   ]
  },
  {
   "cell_type": "markdown",
   "metadata": {},
   "source": [
    "This measure is quite close to our simple historical VaR, but slightly lower (higher number, lower VaR)"
   ]
  },
  {
   "cell_type": "code",
   "execution_count": 24,
   "metadata": {},
   "outputs": [
    {
     "data": {
      "text/plain": [
       "Text(0, 0.5, 'PDF')"
      ]
     },
     "execution_count": 24,
     "metadata": {},
     "output_type": "execute_result"
    },
    {
     "data": {
      "image/png": "[encoded data removed]",
      "text/plain": [
       "<Figure size 432x288 with 1 Axes>"
      ]
     },
     "metadata": {},
     "output_type": "display_data"
    }
   ],
   "source": [
    "plt.hist(bootstrap_VaR, bins=50, density=True)\n",
    "plt.xlabel('VaR Distribution of 10000 Samples')\n",
    "plt.ylabel('PDF')"
   ]
  },
  {
   "cell_type": "markdown",
   "metadata": {},
   "source": [
    "### Confidence Intervals"
   ]
  },
  {
   "cell_type": "markdown",
   "metadata": {},
   "source": [
    "One of the advantages of bootstrapping is that it allows us to get a fairly good measure of our VaR confidence intervals, which is better than just presenting one number as the VaR. "
   ]
  },
  {
   "cell_type": "code",
   "execution_count": 26,
   "metadata": {},
   "outputs": [
    {
     "name": "stdout",
     "output_type": "stream",
     "text": [
      "The 95% VaR Confidence Interval is [-1.84900654 -1.4030839 ]\n"
     ]
    }
   ],
   "source": [
    "conf_intervals = np.percentile(bootstrap_VaR, [2.5, 97.5])\n",
    "print(f\"The 95% VaR Confidence Interval is {conf_intervals}\")"
   ]
  },
  {
   "cell_type": "markdown",
   "metadata": {},
   "source": [
    "That's quite a tight interval, so we can be reasonably confident of our measure."
   ]
  },
  {
   "cell_type": "markdown",
   "metadata": {},
   "source": [
    "### Age-weighted Historical Simulation"
   ]
  },
  {
   "cell_type": "markdown",
   "metadata": {},
   "source": [
    "Simple historical simulation suffers from an obvious problem: it weights all days as being equally important, no matter how recent or far back. If you own shares in stocks that are highly seasonal, this is a problem. Another problem are \"ghost effects\", when you get a cluster of volatility somewhere in your date range that has an outsize effect on the VaR calculation. One way to address these problems is to weight recent days more heavily than those further in the past. We use a decay factor $\\lambda$, which is between 0 and 1. A lambda close to one indicates slow decay (values far in the past will still have weight), and close to zero is fast decay. The sum of the weights is 1, and the formula for the weight on day _w(i)_ is $\\frac{\\lambda^{i-1}(1-\\lambda)}{1-\\lambda^{n}}$"
   ]
  },
  {
   "cell_type": "markdown",
   "metadata": {},
   "source": [
    "To calculate VaR, we simply create an array of weights of the same length as our array of returns:"
   ]
  },
  {
   "cell_type": "code",
   "execution_count": 27,
   "metadata": {},
   "outputs": [],
   "source": [
    "lam = 0.5 #we're picking this arbitrarily\n",
    "n = len(returns)\n",
    "wts = [(lam**(i-1) * (1-lam))/(1-lam**n) for i in range(1, n+1)]#want to start on day 1, not day 0"
   ]
  },
  {
   "cell_type": "code",
   "execution_count": 28,
   "metadata": {},
   "outputs": [
    {
     "data": {
      "text/plain": [
       "[0.5,\n",
       " 0.25,\n",
       " 0.125,\n",
       " 0.0625,\n",
       " 0.03125,\n",
       " 0.015625,\n",
       " 0.0078125,\n",
       " 0.00390625,\n",
       " 0.001953125,\n",
       " 0.0009765625,\n",
       " 0.00048828125,\n",
       " 0.000244140625,\n",
       " 0.0001220703125,\n",
       " 6.103515625e-05,\n",
       " 3.0517578125e-05]"
      ]
     },
     "execution_count": 28,
     "metadata": {},
     "output_type": "execute_result"
    }
   ],
   "source": [
    "wts[:15] #We can see how they get smaller and smaller"
   ]
  },
  {
   "cell_type": "markdown",
   "metadata": {},
   "source": [
    "Now we sort the returns and look at the corresponding weights, we want the figure where the sum of the weights is .05 "
   ]
  },
  {
   "cell_type": "code",
   "execution_count": 30,
   "metadata": {},
   "outputs": [],
   "source": [
    "weights_dict = {'Returns':PnL, 'Weights':wts}\n",
    "wts_returns = pd.DataFrame(weights_dict)"
   ]
  },
  {
   "cell_type": "code",
   "execution_count": 40,
   "metadata": {},
   "outputs": [],
   "source": [
    "sort_wts = wts_returns.sort_values(by='Returns')"
   ]
  },
  {
   "cell_type": "code",
   "execution_count": 41,
   "metadata": {},
   "outputs": [],
   "source": [
    "sort_wts['Cumulative'] = sort_wts.Weights.cumsum()"
   ]
  },
  {
   "cell_type": "code",
   "execution_count": 42,
   "metadata": {},
   "outputs": [
    {
     "data": {
      "text/html": [
       "<div>\n",
       "<style scoped>\n",
       "    .dataframe tbody tr th:only-of-type {\n",
       "        vertical-align: middle;\n",
       "    }\n",
       "\n",
       "    .dataframe tbody tr th {\n",
       "        vertical-align: top;\n",
       "    }\n",
       "\n",
       "    .dataframe thead th {\n",
       "        text-align: right;\n",
       "    }\n",
       "</style>\n",
       "<table border=\"1\" class=\"dataframe\">\n",
       "  <thead>\n",
       "    <tr style=\"text-align: right;\">\n",
       "      <th></th>\n",
       "      <th>Returns</th>\n",
       "      <th>Weights</th>\n",
       "      <th>Cumulative</th>\n",
       "    </tr>\n",
       "  </thead>\n",
       "  <tbody>\n",
       "    <tr>\n",
       "      <th>112</th>\n",
       "      <td>-3.463700</td>\n",
       "      <td>9.629650e-35</td>\n",
       "      <td>9.629650e-35</td>\n",
       "    </tr>\n",
       "    <tr>\n",
       "      <th>119</th>\n",
       "      <td>-3.116409</td>\n",
       "      <td>7.523164e-37</td>\n",
       "      <td>9.704881e-35</td>\n",
       "    </tr>\n",
       "    <tr>\n",
       "      <th>113</th>\n",
       "      <td>-2.927039</td>\n",
       "      <td>4.814825e-35</td>\n",
       "      <td>1.451971e-34</td>\n",
       "    </tr>\n",
       "    <tr>\n",
       "      <th>227</th>\n",
       "      <td>-2.845546</td>\n",
       "      <td>2.318254e-69</td>\n",
       "      <td>1.451971e-34</td>\n",
       "    </tr>\n",
       "    <tr>\n",
       "      <th>207</th>\n",
       "      <td>-2.821092</td>\n",
       "      <td>2.430865e-63</td>\n",
       "      <td>1.451971e-34</td>\n",
       "    </tr>\n",
       "    <tr>\n",
       "      <th>...</th>\n",
       "      <td>...</td>\n",
       "      <td>...</td>\n",
       "      <td>...</td>\n",
       "    </tr>\n",
       "    <tr>\n",
       "      <th>222</th>\n",
       "      <td>2.660430</td>\n",
       "      <td>7.418412e-68</td>\n",
       "      <td>9.999990e-01</td>\n",
       "    </tr>\n",
       "    <tr>\n",
       "      <th>243</th>\n",
       "      <td>2.668187</td>\n",
       "      <td>3.537375e-74</td>\n",
       "      <td>9.999990e-01</td>\n",
       "    </tr>\n",
       "    <tr>\n",
       "      <th>123</th>\n",
       "      <td>3.145756</td>\n",
       "      <td>4.701977e-38</td>\n",
       "      <td>9.999990e-01</td>\n",
       "    </tr>\n",
       "    <tr>\n",
       "      <th>19</th>\n",
       "      <td>3.624344</td>\n",
       "      <td>9.536743e-07</td>\n",
       "      <td>1.000000e+00</td>\n",
       "    </tr>\n",
       "    <tr>\n",
       "      <th>115</th>\n",
       "      <td>4.803914</td>\n",
       "      <td>1.203706e-35</td>\n",
       "      <td>1.000000e+00</td>\n",
       "    </tr>\n",
       "  </tbody>\n",
       "</table>\n",
       "<p>252 rows × 3 columns</p>\n",
       "</div>"
      ],
      "text/plain": [
       "      Returns       Weights    Cumulative\n",
       "112 -3.463700  9.629650e-35  9.629650e-35\n",
       "119 -3.116409  7.523164e-37  9.704881e-35\n",
       "113 -2.927039  4.814825e-35  1.451971e-34\n",
       "227 -2.845546  2.318254e-69  1.451971e-34\n",
       "207 -2.821092  2.430865e-63  1.451971e-34\n",
       "..        ...           ...           ...\n",
       "222  2.660430  7.418412e-68  9.999990e-01\n",
       "243  2.668187  3.537375e-74  9.999990e-01\n",
       "123  3.145756  4.701977e-38  9.999990e-01\n",
       "19   3.624344  9.536743e-07  1.000000e+00\n",
       "115  4.803914  1.203706e-35  1.000000e+00\n",
       "\n",
       "[252 rows x 3 columns]"
      ]
     },
     "execution_count": 42,
     "metadata": {},
     "output_type": "execute_result"
    }
   ],
   "source": [
    "sort_wts"
   ]
  },
  {
   "cell_type": "code",
   "execution_count": 44,
   "metadata": {},
   "outputs": [
    {
     "data": {
      "text/plain": [
       "37"
      ]
     },
     "execution_count": 44,
     "metadata": {},
     "output_type": "execute_result"
    }
   ],
   "source": [
    "#Find where cumulative (percentile) hits 0.05\n",
    "sort_wts = sort_wts.reset_index().drop(columns=['index'])\n",
    "sort_wts[sort_wts.Cumulative <= 0.05].Returns.idxmax()"
   ]
  },
  {
   "cell_type": "code",
   "execution_count": 39,
   "metadata": {},
   "outputs": [
    {
     "data": {
      "text/html": [
       "<div>\n",
       "<style scoped>\n",
       "    .dataframe tbody tr th:only-of-type {\n",
       "        vertical-align: middle;\n",
       "    }\n",
       "\n",
       "    .dataframe tbody tr th {\n",
       "        vertical-align: top;\n",
       "    }\n",
       "\n",
       "    .dataframe thead th {\n",
       "        text-align: right;\n",
       "    }\n",
       "</style>\n",
       "<table border=\"1\" class=\"dataframe\">\n",
       "  <thead>\n",
       "    <tr style=\"text-align: right;\">\n",
       "      <th></th>\n",
       "      <th>Returns</th>\n",
       "      <th>Weights</th>\n",
       "      <th>Cumulative</th>\n",
       "    </tr>\n",
       "  </thead>\n",
       "  <tbody>\n",
       "    <tr>\n",
       "      <th>37</th>\n",
       "      <td>-0.996234</td>\n",
       "      <td>1.215433e-63</td>\n",
       "      <td>0.002076</td>\n",
       "    </tr>\n",
       "    <tr>\n",
       "      <th>38</th>\n",
       "      <td>-0.957416</td>\n",
       "      <td>5.000000e-01</td>\n",
       "      <td>0.502076</td>\n",
       "    </tr>\n",
       "  </tbody>\n",
       "</table>\n",
       "</div>"
      ],
      "text/plain": [
       "     Returns       Weights  Cumulative\n",
       "37 -0.996234  1.215433e-63    0.002076\n",
       "38 -0.957416  5.000000e-01    0.502076"
      ]
     },
     "execution_count": 39,
     "metadata": {},
     "output_type": "execute_result"
    }
   ],
   "source": [
    "sort_wts.loc[37:38]"
   ]
  },
  {
   "cell_type": "markdown",
   "metadata": {},
   "source": [
    "The reason for the big jump is because the return at index 39 is yesterday's return, so it has a large weight attached to it."
   ]
  },
  {
   "cell_type": "markdown",
   "metadata": {},
   "source": [
    "We can use simple linear interpolation to find the correct return values"
   ]
  },
  {
   "cell_type": "code",
   "execution_count": 38,
   "metadata": {},
   "outputs": [],
   "source": [
    "xp = sort_wts.loc[37:38, 'Cumulative'].values\n",
    "fp = sort_wts.loc[37:38, 'Returns'].values\n",
    "VaR_weighted = np.interp(0.5, xp, fp) #numpy's standard linear interpolation"
   ]
  },
  {
   "cell_type": "code",
   "execution_count": 39,
   "metadata": {},
   "outputs": [
    {
     "name": "stdout",
     "output_type": "stream",
     "text": [
      "Age-weighted VaR is -0.9575771133421019\n"
     ]
    }
   ],
   "source": [
    "print(f'Age-weighted VaR is {VaR_weighted}')"
   ]
  },
  {
   "cell_type": "markdown",
   "metadata": {},
   "source": [
    "We can see that the age-weighted VaR is less than standard HS, indicating that more recent returns weren't as bad. "
   ]
  },
  {
   "cell_type": "markdown",
   "metadata": {},
   "source": [
    "### Volatility-Weighted Historical Simulation"
   ]
  },
  {
   "cell_type": "markdown",
   "metadata": {},
   "source": [
    "This method places more weight on recent changes in volatility. To implement this, we will change the returns by the following formula: $r'_{t,i}=(\\frac{\\sigma_{T,i}}{\\sigma_{t,i}})r_{t,i}$, where $r'$ is the adjusted return of asset _i_ at time _t_, and $\\sigma_{t,i}$ is the forecasted volatility at time _t_ taken at time _t-1_. $\\sigma_{T,i}$ is the most recent forecasted volatility. So if volatility one month ago was only 2%, and today it's 10%, the model will weigh more recent returns more heavily. This makes intuitive sense, and in many ways does a better job than age-weighted VaR at capturing market conditions most likely to result in a loss we are trying to quantify. "
   ]
  },
  {
   "cell_type": "markdown",
   "metadata": {},
   "source": [
    "To implement this, we need to go back to our first dataframe and look at individual asset returns. Then, we'll use a GARCH(1,1) process to model volatility, adjust each return, and finally come up with a new P&L based on these adjusted returns."
   ]
  },
  {
   "cell_type": "code",
   "execution_count": 14,
   "metadata": {},
   "outputs": [],
   "source": [
    "from arch import arch_model"
   ]
  },
  {
   "cell_type": "code",
   "execution_count": 61,
   "metadata": {},
   "outputs": [],
   "source": [
    "#The default is a GARCH(1,1) model\n",
    "vols = pd.DataFrame(index=returns.index)\n",
    "for asset in returns:\n",
    "    am = arch_model(returns[asset])\n",
    "    res = am.fit(disp='off')\n",
    "    vols[asset+'_vol'] = res.conditional_volatility"
   ]
  },
  {
   "cell_type": "code",
   "execution_count": 62,
   "metadata": {},
   "outputs": [
    {
     "data": {
      "text/html": [
       "<div>\n",
       "<style scoped>\n",
       "    .dataframe tbody tr th:only-of-type {\n",
       "        vertical-align: middle;\n",
       "    }\n",
       "\n",
       "    .dataframe tbody tr th {\n",
       "        vertical-align: top;\n",
       "    }\n",
       "\n",
       "    .dataframe thead th {\n",
       "        text-align: right;\n",
       "    }\n",
       "</style>\n",
       "<table border=\"1\" class=\"dataframe\">\n",
       "  <thead>\n",
       "    <tr style=\"text-align: right;\">\n",
       "      <th></th>\n",
       "      <th>AAPL_vol</th>\n",
       "      <th>GE_vol</th>\n",
       "      <th>GOOGL_vol</th>\n",
       "      <th>JNJ_vol</th>\n",
       "    </tr>\n",
       "    <tr>\n",
       "      <th>Date</th>\n",
       "      <th></th>\n",
       "      <th></th>\n",
       "      <th></th>\n",
       "      <th></th>\n",
       "    </tr>\n",
       "  </thead>\n",
       "  <tbody>\n",
       "    <tr>\n",
       "      <th>2015-03-13</th>\n",
       "      <td>1.297379</td>\n",
       "      <td>1.793020</td>\n",
       "      <td>1.495111</td>\n",
       "      <td>0.967023</td>\n",
       "    </tr>\n",
       "    <tr>\n",
       "      <th>2015-03-16</th>\n",
       "      <td>1.275132</td>\n",
       "      <td>1.530521</td>\n",
       "      <td>1.750867</td>\n",
       "      <td>0.948289</td>\n",
       "    </tr>\n",
       "    <tr>\n",
       "      <th>2015-03-17</th>\n",
       "      <td>1.288651</td>\n",
       "      <td>1.670491</td>\n",
       "      <td>1.791512</td>\n",
       "      <td>1.078877</td>\n",
       "    </tr>\n",
       "    <tr>\n",
       "      <th>2015-03-18</th>\n",
       "      <td>1.361983</td>\n",
       "      <td>1.102210</td>\n",
       "      <td>1.493387</td>\n",
       "      <td>1.093510</td>\n",
       "    </tr>\n",
       "    <tr>\n",
       "      <th>2015-03-19</th>\n",
       "      <td>1.364794</td>\n",
       "      <td>1.463300</td>\n",
       "      <td>1.707347</td>\n",
       "      <td>1.141917</td>\n",
       "    </tr>\n",
       "  </tbody>\n",
       "</table>\n",
       "</div>"
      ],
      "text/plain": [
       "            AAPL_vol    GE_vol  GOOGL_vol   JNJ_vol\n",
       "Date                                               \n",
       "2015-03-13  1.297379  1.793020   1.495111  0.967023\n",
       "2015-03-16  1.275132  1.530521   1.750867  0.948289\n",
       "2015-03-17  1.288651  1.670491   1.791512  1.078877\n",
       "2015-03-18  1.361983  1.102210   1.493387  1.093510\n",
       "2015-03-19  1.364794  1.463300   1.707347  1.141917"
      ]
     },
     "execution_count": 62,
     "metadata": {},
     "output_type": "execute_result"
    }
   ],
   "source": [
    "vols.head()"
   ]
  },
  {
   "cell_type": "code",
   "execution_count": 19,
   "metadata": {},
   "outputs": [
    {
     "data": {
      "image/png": "[encoded data removed]",
      "text/plain": [
       "<Figure size 432x288 with 2 Axes>"
      ]
     },
     "metadata": {},
     "output_type": "display_data"
    }
   ],
   "source": [
    "fig = res.plot()"
   ]
  },
  {
   "cell_type": "markdown",
   "metadata": {},
   "source": [
    "Now for each stock, we need to take the conditional volatility from our last day, on 3/11/2016, and divide by the volatility on each given day, then multiply that by the return for that day."
   ]
  },
  {
   "cell_type": "markdown",
   "metadata": {},
   "source": [
    "Finally, we multiply each individual return by it's corresponding volatility adjustment, then calculate the new VaR."
   ]
  },
  {
   "cell_type": "code",
   "execution_count": 63,
   "metadata": {},
   "outputs": [],
   "source": [
    "vols2 = vols.copy()\n",
    "for asset in vols2:\n",
    "    vols2[asset] = vols2[asset].apply(lambda x: vols2[asset][-1] / x)"
   ]
  },
  {
   "cell_type": "code",
   "execution_count": 64,
   "metadata": {},
   "outputs": [],
   "source": [
    "vol_adj_portfolio = pd.DataFrame(returns.values * vols2.values, columns=returns.columns,\\\n",
    "                                 index=returns.index)"
   ]
  },
  {
   "cell_type": "code",
   "execution_count": 65,
   "metadata": {},
   "outputs": [
    {
     "data": {
      "text/html": [
       "<div>\n",
       "<style scoped>\n",
       "    .dataframe tbody tr th:only-of-type {\n",
       "        vertical-align: middle;\n",
       "    }\n",
       "\n",
       "    .dataframe tbody tr th {\n",
       "        vertical-align: top;\n",
       "    }\n",
       "\n",
       "    .dataframe thead th {\n",
       "        text-align: right;\n",
       "    }\n",
       "</style>\n",
       "<table border=\"1\" class=\"dataframe\">\n",
       "  <thead>\n",
       "    <tr style=\"text-align: right;\">\n",
       "      <th></th>\n",
       "      <th>AAPL</th>\n",
       "      <th>GE</th>\n",
       "      <th>GOOGL</th>\n",
       "      <th>JNJ</th>\n",
       "    </tr>\n",
       "    <tr>\n",
       "      <th>Date</th>\n",
       "      <th></th>\n",
       "      <th></th>\n",
       "      <th></th>\n",
       "      <th></th>\n",
       "    </tr>\n",
       "  </thead>\n",
       "  <tbody>\n",
       "    <tr>\n",
       "      <th>2015-03-13</th>\n",
       "      <td>-0.789898</td>\n",
       "      <td>-0.830382</td>\n",
       "      <td>-1.477012</td>\n",
       "      <td>-0.539493</td>\n",
       "    </tr>\n",
       "    <tr>\n",
       "      <th>2015-03-16</th>\n",
       "      <td>1.279779</td>\n",
       "      <td>1.123840</td>\n",
       "      <td>1.353522</td>\n",
       "      <td>1.651839</td>\n",
       "    </tr>\n",
       "    <tr>\n",
       "      <th>2015-03-17</th>\n",
       "      <td>1.924905</td>\n",
       "      <td>-0.345932</td>\n",
       "      <td>-0.607515</td>\n",
       "      <td>-0.901420</td>\n",
       "    </tr>\n",
       "    <tr>\n",
       "      <th>2015-03-18</th>\n",
       "      <td>1.225627</td>\n",
       "      <td>1.242658</td>\n",
       "      <td>1.557374</td>\n",
       "      <td>1.207389</td>\n",
       "    </tr>\n",
       "    <tr>\n",
       "      <th>2015-03-19</th>\n",
       "      <td>-0.824651</td>\n",
       "      <td>-0.867970</td>\n",
       "      <td>-0.390722</td>\n",
       "      <td>0.166760</td>\n",
       "    </tr>\n",
       "    <tr>\n",
       "      <th>...</th>\n",
       "      <td>...</td>\n",
       "      <td>...</td>\n",
       "      <td>...</td>\n",
       "      <td>...</td>\n",
       "    </tr>\n",
       "    <tr>\n",
       "      <th>2016-03-07</th>\n",
       "      <td>-0.943898</td>\n",
       "      <td>-0.489700</td>\n",
       "      <td>-2.739301</td>\n",
       "      <td>0.200467</td>\n",
       "    </tr>\n",
       "    <tr>\n",
       "      <th>2016-03-08</th>\n",
       "      <td>-0.724602</td>\n",
       "      <td>-0.721960</td>\n",
       "      <td>0.067265</td>\n",
       "      <td>-0.452951</td>\n",
       "    </tr>\n",
       "    <tr>\n",
       "      <th>2016-03-09</th>\n",
       "      <td>0.081250</td>\n",
       "      <td>-0.029579</td>\n",
       "      <td>1.620373</td>\n",
       "      <td>0.553685</td>\n",
       "    </tr>\n",
       "    <tr>\n",
       "      <th>2016-03-10</th>\n",
       "      <td>0.047287</td>\n",
       "      <td>-0.381499</td>\n",
       "      <td>0.786282</td>\n",
       "      <td>0.271638</td>\n",
       "    </tr>\n",
       "    <tr>\n",
       "      <th>2016-03-11</th>\n",
       "      <td>1.077394</td>\n",
       "      <td>1.336005</td>\n",
       "      <td>1.734570</td>\n",
       "      <td>0.532014</td>\n",
       "    </tr>\n",
       "  </tbody>\n",
       "</table>\n",
       "<p>252 rows × 4 columns</p>\n",
       "</div>"
      ],
      "text/plain": [
       "                AAPL        GE     GOOGL       JNJ\n",
       "Date                                              \n",
       "2015-03-13 -0.789898 -0.830382 -1.477012 -0.539493\n",
       "2015-03-16  1.279779  1.123840  1.353522  1.651839\n",
       "2015-03-17  1.924905 -0.345932 -0.607515 -0.901420\n",
       "2015-03-18  1.225627  1.242658  1.557374  1.207389\n",
       "2015-03-19 -0.824651 -0.867970 -0.390722  0.166760\n",
       "...              ...       ...       ...       ...\n",
       "2016-03-07 -0.943898 -0.489700 -2.739301  0.200467\n",
       "2016-03-08 -0.724602 -0.721960  0.067265 -0.452951\n",
       "2016-03-09  0.081250 -0.029579  1.620373  0.553685\n",
       "2016-03-10  0.047287 -0.381499  0.786282  0.271638\n",
       "2016-03-11  1.077394  1.336005  1.734570  0.532014\n",
       "\n",
       "[252 rows x 4 columns]"
      ]
     },
     "execution_count": 65,
     "metadata": {},
     "output_type": "execute_result"
    }
   ],
   "source": [
    "vol_adj_portfolio #These are the returns adjusted for volatility"
   ]
  },
  {
   "cell_type": "code",
   "execution_count": 24,
   "metadata": {},
   "outputs": [],
   "source": [
    "#Convert volatility-adjusted returns back into P/L\n",
    "weights = [0.2, 0.3, 0.1, 0.4] #same weights as before\n",
    "vol_adjusted_returns = (weights * vol_adj_portfolio.values).sum(axis=1)"
   ]
  },
  {
   "cell_type": "code",
   "execution_count": 25,
   "metadata": {},
   "outputs": [
    {
     "name": "stdout",
     "output_type": "stream",
     "text": [
      "The volitility weighted historical VaR is -1.3324319104468239\n"
     ]
    }
   ],
   "source": [
    "VaR_Vol_Weighted = np.percentile(vol_adjusted_returns, 5, interpolation=\"lower\") \n",
    "print(f'The volitility weighted historical VaR is {VaR_Vol_Weighted}')"
   ]
  },
  {
   "cell_type": "markdown",
   "metadata": {},
   "source": [
    "### Filtered Historical Simulation"
   ]
  },
  {
   "cell_type": "markdown",
   "metadata": {},
   "source": [
    "One way to think about this method is a combination of of volatility-weighted and bootstrap VaR. We are going to make a volatility adjustment (though not quite the same way), then generate bootstrap samples for each set of returns."
   ]
  },
  {
   "cell_type": "markdown",
   "metadata": {},
   "source": [
    "I'm going to use the same volatilities as the previous model, using the last 100 days as our sample period from which we will bootstrap. For this method, we're not doing the same volatility adjustment, but rather dividing each return from the last 100 days by its respective forecasted volatility."
   ]
  },
  {
   "cell_type": "code",
   "execution_count": 46,
   "metadata": {},
   "outputs": [],
   "source": [
    "returns_200 = returns[-201:] #using 200 days as our sample"
   ]
  },
  {
   "cell_type": "code",
   "execution_count": 47,
   "metadata": {},
   "outputs": [],
   "source": [
    "index = returns.index\n",
    "start_loc = 0\n",
    "end_loc = np.where(index >= '2015-05-27')[0].min()"
   ]
  },
  {
   "cell_type": "code",
   "execution_count": 48,
   "metadata": {},
   "outputs": [],
   "source": [
    "vols = pd.DataFrame(index=returns_200.index)\n",
    "for asset in returns:\n",
    "    forecasts = {}\n",
    "    am = arch_model(returns[asset])\n",
    "    for i in range(201):\n",
    "        res = am.fit(first_obs=i, last_obs=i + end_loc, disp='off')\n",
    "        temp = res.forecast(horizon=1).variance\n",
    "        fcast = temp.iloc[i + end_loc - 1]\n",
    "        forecasts[fcast.name] = fcast\n",
    "    vols[asset+'_vol'] = forecasts.values()"
   ]
  },
  {
   "cell_type": "code",
   "execution_count": 49,
   "metadata": {},
   "outputs": [],
   "source": [
    "#Need to clean up the cells and cast them as floats\n",
    "vols2 = vols.applymap(lambda x: re.sub(r'[\\(\\),]', '', str(x)))\n",
    "\n",
    "vols2 = vols2.astype('float')"
   ]
  },
  {
   "cell_type": "code",
   "execution_count": 50,
   "metadata": {},
   "outputs": [
    {
     "data": {
      "text/html": [
       "<div>\n",
       "<style scoped>\n",
       "    .dataframe tbody tr th:only-of-type {\n",
       "        vertical-align: middle;\n",
       "    }\n",
       "\n",
       "    .dataframe tbody tr th {\n",
       "        vertical-align: top;\n",
       "    }\n",
       "\n",
       "    .dataframe thead th {\n",
       "        text-align: right;\n",
       "    }\n",
       "</style>\n",
       "<table border=\"1\" class=\"dataframe\">\n",
       "  <thead>\n",
       "    <tr style=\"text-align: right;\">\n",
       "      <th></th>\n",
       "      <th>AAPL_vol</th>\n",
       "      <th>GE_vol</th>\n",
       "      <th>GOOGL_vol</th>\n",
       "      <th>JNJ_vol</th>\n",
       "    </tr>\n",
       "    <tr>\n",
       "      <th>Date</th>\n",
       "      <th></th>\n",
       "      <th></th>\n",
       "      <th></th>\n",
       "      <th></th>\n",
       "    </tr>\n",
       "  </thead>\n",
       "  <tbody>\n",
       "    <tr>\n",
       "      <th>2015-05-27</th>\n",
       "      <td>1.430731</td>\n",
       "      <td>1.050143</td>\n",
       "      <td>1.162499</td>\n",
       "      <td>0.720662</td>\n",
       "    </tr>\n",
       "    <tr>\n",
       "      <th>2015-05-28</th>\n",
       "      <td>1.458047</td>\n",
       "      <td>0.819597</td>\n",
       "      <td>1.174258</td>\n",
       "      <td>0.703190</td>\n",
       "    </tr>\n",
       "    <tr>\n",
       "      <th>2015-05-29</th>\n",
       "      <td>1.317972</td>\n",
       "      <td>0.874409</td>\n",
       "      <td>1.146572</td>\n",
       "      <td>0.657777</td>\n",
       "    </tr>\n",
       "    <tr>\n",
       "      <th>2015-06-01</th>\n",
       "      <td>1.319273</td>\n",
       "      <td>1.521661</td>\n",
       "      <td>1.173532</td>\n",
       "      <td>0.709130</td>\n",
       "    </tr>\n",
       "    <tr>\n",
       "      <th>2015-06-02</th>\n",
       "      <td>1.255881</td>\n",
       "      <td>0.829582</td>\n",
       "      <td>1.159997</td>\n",
       "      <td>0.682735</td>\n",
       "    </tr>\n",
       "    <tr>\n",
       "      <th>...</th>\n",
       "      <td>...</td>\n",
       "      <td>...</td>\n",
       "      <td>...</td>\n",
       "      <td>...</td>\n",
       "    </tr>\n",
       "    <tr>\n",
       "      <th>2016-03-07</th>\n",
       "      <td>2.101118</td>\n",
       "      <td>1.617519</td>\n",
       "      <td>1.835147</td>\n",
       "      <td>1.298797</td>\n",
       "    </tr>\n",
       "    <tr>\n",
       "      <th>2016-03-08</th>\n",
       "      <td>2.089976</td>\n",
       "      <td>1.433503</td>\n",
       "      <td>1.850786</td>\n",
       "      <td>1.286185</td>\n",
       "    </tr>\n",
       "    <tr>\n",
       "      <th>2016-03-09</th>\n",
       "      <td>2.075792</td>\n",
       "      <td>1.446211</td>\n",
       "      <td>1.829014</td>\n",
       "      <td>1.279535</td>\n",
       "    </tr>\n",
       "    <tr>\n",
       "      <th>2016-03-10</th>\n",
       "      <td>2.029317</td>\n",
       "      <td>1.381383</td>\n",
       "      <td>1.830118</td>\n",
       "      <td>1.247892</td>\n",
       "    </tr>\n",
       "    <tr>\n",
       "      <th>2016-03-11</th>\n",
       "      <td>1.664258</td>\n",
       "      <td>1.392395</td>\n",
       "      <td>1.745924</td>\n",
       "      <td>1.004394</td>\n",
       "    </tr>\n",
       "  </tbody>\n",
       "</table>\n",
       "<p>201 rows × 4 columns</p>\n",
       "</div>"
      ],
      "text/plain": [
       "            AAPL_vol    GE_vol  GOOGL_vol   JNJ_vol\n",
       "Date                                               \n",
       "2015-05-27  1.430731  1.050143   1.162499  0.720662\n",
       "2015-05-28  1.458047  0.819597   1.174258  0.703190\n",
       "2015-05-29  1.317972  0.874409   1.146572  0.657777\n",
       "2015-06-01  1.319273  1.521661   1.173532  0.709130\n",
       "2015-06-02  1.255881  0.829582   1.159997  0.682735\n",
       "...              ...       ...        ...       ...\n",
       "2016-03-07  2.101118  1.617519   1.835147  1.298797\n",
       "2016-03-08  2.089976  1.433503   1.850786  1.286185\n",
       "2016-03-09  2.075792  1.446211   1.829014  1.279535\n",
       "2016-03-10  2.029317  1.381383   1.830118  1.247892\n",
       "2016-03-11  1.664258  1.392395   1.745924  1.004394\n",
       "\n",
       "[201 rows x 4 columns]"
      ]
     },
     "execution_count": 50,
     "metadata": {},
     "output_type": "execute_result"
    }
   ],
   "source": [
    "\n",
    "vols2 = np.sqrt(vols2) #turn from variance to volatility\n",
    "vols2"
   ]
  },
  {
   "cell_type": "code",
   "execution_count": 51,
   "metadata": {},
   "outputs": [
    {
     "data": {
      "text/plain": [
       "array([[ 1.43073102,  1.05014263,  1.16249939,  0.72066246],\n",
       "       [ 1.45804675,  0.81959719,  1.17425849,  0.70319028],\n",
       "       [ 1.31797232,  0.87440885,  1.14657201,  0.65777726],\n",
       "       [ 1.31927299,  1.52166079,  1.17353223,  0.70913032],\n",
       "       [ 1.25588118,  0.82958151,  1.1599975 ,  0.68273521],\n",
       "       [ 1.21713151,  0.83611586,  1.15524624,  0.6481418 ],\n",
       "       [ 1.15849383,  1.09642574,  1.11229989,  0.6219686 ],\n",
       "       [ 1.12487293,  1.27951306,  1.05350422,  0.62557166],\n",
       "       [ 1.05697782,  0.82018344,  0.9831949 ,  0.61922113],\n",
       "       [ 1.10182115,  0.82763918,  0.99933163,  0.64326237],\n",
       "       [ 1.01387845,  0.85128922,  0.9460327 ,  0.61384564],\n",
       "       [ 1.08378159,  1.3284517 ,  1.15046056,  0.60529022],\n",
       "       [ 0.98183332,  0.92988101,  1.11607347,  0.60315624],\n",
       "       [ 1.11258729,  0.9264935 ,  1.08658394,  0.62006801],\n",
       "       [ 0.99686114,  1.03863488,  1.07752323,  0.66345592],\n",
       "       [ 0.94459906,  0.79585156,  1.04006936,  0.67420585],\n",
       "       [ 0.86379172,  0.52540985,  1.01026451,  0.68402442],\n",
       "       [ 0.83318133,  0.60900219,  0.96851615,  0.72456443],\n",
       "       [ 1.01129289,  0.63684266,  0.91917746,  0.71324066],\n",
       "       [ 0.99928277,  0.67005882,  0.86619277,  0.70902228],\n",
       "       [ 0.75230768,  0.60168016,  0.82228677,  0.69446071],\n",
       "       [ 0.7330352 ,  0.71951417,  0.80126253,  0.71786792],\n",
       "       [ 0.65839907,  0.66206524,  0.77267256,  0.7019392 ],\n",
       "       [ 0.63159427,  0.63962395,  0.75484236,  0.69664509],\n",
       "       [ 0.77799626,  0.72378549,  0.92342246,  0.81970829],\n",
       "       [ 0.76155343,  0.70852146,  0.90139643,  0.79902198],\n",
       "       [ 0.95135581,  0.69956769,  0.88554381,  0.817638  ],\n",
       "       [ 0.72750036,  0.70236466,  0.87870789,  0.79335174],\n",
       "       [ 0.68984317,  0.79791388,  0.8545768 ,  0.76769464],\n",
       "       [ 0.64531524,  0.78910393,  0.85733474,  0.74712489],\n",
       "       [ 0.87174498,  0.97326186,  0.91346317,  0.75922663],\n",
       "       [ 1.11034009,  0.86541468,  0.896602  ,  0.76000308],\n",
       "       [ 1.6831072 ,  0.89517222,  0.97503432,  0.76651603],\n",
       "       [ 1.68285689,  0.87003699,  1.05552924,  0.76313604],\n",
       "       [ 1.36368596,  0.84981291,  1.32240717,  0.76270441],\n",
       "       [ 1.08726334,  0.8163766 ,  1.02656564,  0.76019815],\n",
       "       [ 1.16083389,  0.82821086,  1.69073199,  0.75198578],\n",
       "       [ 1.03483493,  0.87962829, 15.65960141,  0.76757337],\n",
       "       [ 1.23877313,  0.86355916,  4.72367511,  0.74913372],\n",
       "       [ 1.11338391,  0.87708708,  2.96686694,  0.73610646],\n",
       "       [ 2.20005229,  0.88667013,  2.97832091,  0.75978409],\n",
       "       [ 1.94211095,  0.94152486,  3.04002757,  0.71930447],\n",
       "       [ 1.76741519,  0.99206793,  3.0958177 ,  0.72937887],\n",
       "       [ 1.667988  ,  0.99927837,  3.11338324,  0.72806937],\n",
       "       [ 1.54331265,  1.00260475,  3.12220609,  0.77274509],\n",
       "       [ 1.28253805,  1.00204472,  3.13888205,  0.76956206],\n",
       "       [ 0.92903893,  0.9911071 ,  3.15491872,  0.76140762],\n",
       "       [ 0.93973331,  0.97363518,  1.50263904,  0.74986665],\n",
       "       [ 1.38381841,  0.98883882,  1.70750475,  0.73346005],\n",
       "       [ 2.29858225,  0.97455379,  1.23765854,  0.72138967],\n",
       "       [ 1.69347445,  0.96301549,  2.23137022,  0.72310084],\n",
       "       [ 1.65948918,  0.92358519,  1.27614181,  0.7562851 ],\n",
       "       [ 1.57262181,  0.91209238,  1.42444405,  0.74496792],\n",
       "       [ 1.98183666,  0.9975002 ,  1.1815717 ,  0.75115127],\n",
       "       [ 2.75325338,  1.07433634,  4.25708209,  0.75385514],\n",
       "       [ 2.59537377,  1.06431041,  1.37236585,  0.74655143],\n",
       "       [ 2.37984308,  1.04284814,  1.54890284,  0.74012765],\n",
       "       [ 2.2450834 ,  1.06056116,  1.43659807,  0.7333308 ],\n",
       "       [ 1.93041515,  1.04701371,  1.51028131,  0.73948815],\n",
       "       [ 1.26433352,  1.00599071,  1.59608609,  0.73725584],\n",
       "       [ 1.44866106,  1.02141851,  1.51379417,  0.7315183 ],\n",
       "       [ 1.74170362,  1.0925933 ,  2.50944262,  0.64206608],\n",
       "       [ 2.19378774,  1.41503016,  5.38844856,  0.80997873],\n",
       "       [ 2.21650086,  1.90171534,  4.25884735,  1.60969271],\n",
       "       [ 2.2182877 ,  1.71250681,  1.69614841,  1.43905398],\n",
       "       [ 2.63928063,  2.45964429,  7.68384972,  4.28297887],\n",
       "       [ 2.70200036,  3.3649861 ,  3.29310751,  1.60679569],\n",
       "       [ 2.51528751,  1.63426896,  3.21893658,  1.19201391],\n",
       "       [ 2.50674696,  1.2274121 ,  3.18272729,  1.26579002],\n",
       "       [ 2.60425927,  2.77349288,  3.18229692,  1.9682005 ],\n",
       "       [ 2.73248466,  2.86312823,  3.16676803,  1.45314588],\n",
       "       [ 2.72080115,  2.05124557,  3.14888316,  0.95053397],\n",
       "       [ 2.7112586 ,  1.94254354,  3.13640528,  1.42172115],\n",
       "       [ 2.74726567,  3.1275059 ,  2.86053759,  2.8778601 ],\n",
       "       [ 2.74033247,  2.60159444,  3.0546806 ,  1.9945549 ],\n",
       "       [ 2.76141672,  1.96038597,  3.03660243,  0.78486643],\n",
       "       [ 2.75060806,  1.64825984,  3.03544394,  0.62012565],\n",
       "       [ 2.72797035,  1.25767159,  3.03761279,  0.68723235],\n",
       "       [ 2.68987249,  1.80266324,  3.04476437,  1.24061619],\n",
       "       [ 2.636414  ,  2.18521718,  2.03674763,  0.64556188],\n",
       "       [ 2.60728488,  1.80096122,  1.89394178,  0.61273406],\n",
       "       [ 2.52387611,  2.41437828,  1.82254933,  1.62544089],\n",
       "       [ 2.47741122,  1.43152055,  1.69158058,  0.75695892],\n",
       "       [ 2.45400526,  1.1875761 ,  1.64760429,  0.68716415],\n",
       "       [ 2.4096913 ,  0.69060776,  1.52222861,  0.71319452],\n",
       "       [ 2.06412384,  1.02822824,  1.40055406,  0.83715303],\n",
       "       [ 1.97864389,  0.81624637,  2.35332626,  1.66544417],\n",
       "       [ 2.00276222,  1.60482229,  2.89731371,  0.81436111],\n",
       "       [ 2.15047672,  1.52514318,  1.85716924,  1.86653965],\n",
       "       [ 2.08559604,  2.10018363,  2.04602446,  0.84419343],\n",
       "       [ 1.98773237,  1.67939007,  1.8016686 ,  0.81039428],\n",
       "       [ 1.86109681,  1.53363183,  1.98940204,  1.05782784],\n",
       "       [ 1.82240109,  3.49251519,  2.01397561,  1.07057238],\n",
       "       [ 1.78992687,  2.91068922,  1.65548828,  1.51775455],\n",
       "       [ 1.70729509,  2.60328195,  1.53487909,  1.63899179],\n",
       "       [ 1.60457543,  2.17302549,  1.50982611,  0.81361324],\n",
       "       [ 1.88137468,  1.87009963,  1.42622592,  0.83107773],\n",
       "       [ 1.57918457,  1.65926684,  1.37261916,  0.95940749],\n",
       "       [ 1.45425184,  1.60531791,  1.34344149,  0.9781115 ],\n",
       "       [ 1.40089088,  1.63961476,  1.37417069,  1.19804707],\n",
       "       [ 1.39432258,  1.72727966,  1.56899211,  2.55833116],\n",
       "       [ 1.29411711,  2.41920571,  1.36458953,  1.22395668],\n",
       "       [ 1.1951788 ,  1.92185549,  1.1978496 ,  0.93698153],\n",
       "       [ 1.1793826 ,  1.86011232,  2.27188405,  0.94142537],\n",
       "       [ 1.135742  ,  1.69395422,  2.01589334,  0.82104421],\n",
       "       [ 1.53798351,  2.02829308,  1.77560092,  1.73281242],\n",
       "       [ 1.32342833,  1.79003312,  3.85503445,  1.03221696],\n",
       "       [ 1.96161009,  1.55364912,  2.8251646 ,  1.04410976],\n",
       "       [ 1.46587014,  1.47457805,  2.2439935 ,  0.92224536],\n",
       "       [ 2.39346747,  1.38623569,  1.9410758 ,  0.90511535],\n",
       "       [ 2.0961637 ,  1.29600328,  1.74950305,  0.80790953],\n",
       "       [ 1.90559931,  1.28743809,  1.67949166,  0.76090533],\n",
       "       [ 1.77508844,  1.25399056,  1.59534626,  0.80377645],\n",
       "       [ 1.5666744 ,  1.192592  ,  1.55471458,  0.72074872],\n",
       "       [ 1.54230318,  1.16180171,  1.53506395,  0.67750437],\n",
       "       [ 1.47840579,  1.12003334,  1.51531649,  0.64686607],\n",
       "       [ 1.40061928,  1.07508976,  1.49212438,  0.9222282 ],\n",
       "       [ 1.39132191,  1.0997083 ,  1.47616371,  1.19772256],\n",
       "       [ 1.81991466,  1.03715313,  1.3882547 ,  0.87032891],\n",
       "       [ 1.67280626,  1.0258651 ,  1.38195002,  0.82900835],\n",
       "       [ 1.52911268,  1.1756797 ,  1.45322391,  1.30254089],\n",
       "       [ 1.65533144,  1.13773679,  1.48598051,  0.79581907],\n",
       "       [ 1.61462075,  1.06474416,  1.51446181,  0.85419822],\n",
       "       [ 1.55208154,  1.04524712,  1.50171663,  0.80425856],\n",
       "       [ 1.77145897,  1.07210886,  1.51001724,  0.91837735],\n",
       "       [ 1.77569039,  1.08639093,  1.48940201,  0.91396545],\n",
       "       [ 1.77066346,  1.03468366,  1.50213344,  0.90886069],\n",
       "       [ 1.77175628,  0.97466985,  1.4885388 ,  0.89349884],\n",
       "       [ 1.7435617 ,  0.915193  ,  1.48078104,  0.90201427],\n",
       "       [ 1.69456152,  0.92164321,  1.46449242,  0.8923501 ],\n",
       "       [ 1.62874834,  0.8851049 ,  1.46414658,  0.74072613],\n",
       "       [ 1.60088631,  0.93383224,  1.26882763,  0.76194364],\n",
       "       [ 1.47809092,  0.9394881 ,  1.3603913 ,  0.88827805],\n",
       "       [ 1.46148894,  0.90050694,  1.32168713,  0.76532032],\n",
       "       [ 1.45076499,  0.83624792,  1.35777527,  0.79541725],\n",
       "       [ 1.64160048,  0.83928094,  1.31546371,  0.89931189],\n",
       "       [ 1.57662619,  0.80963581,  1.27389968,  0.87877704],\n",
       "       [ 1.55628969,  0.79448803,  1.41270387,  0.92670636],\n",
       "       [ 1.57966504,  0.80374394,  1.42891697,  0.88001714],\n",
       "       [ 1.61018415,  0.75021424,  1.41188047,  0.85072898],\n",
       "       [ 1.65481746,  0.8468275 ,  1.41114612,  0.92923933],\n",
       "       [ 1.62769179,  0.81546884,  1.4110644 ,  0.85018086],\n",
       "       [ 1.63100474,  0.78399036,  1.39052091,  0.89687786],\n",
       "       [ 1.6172081 ,  0.9316319 ,  1.42253371,  0.89204136],\n",
       "       [ 1.63280935,  0.92355586,  1.40000018,  0.93965648],\n",
       "       [ 1.66466426,  0.92953078,  1.42468669,  1.0933842 ],\n",
       "       [ 1.65013259,  0.89367488,  1.42175162,  0.94139336],\n",
       "       [ 1.64437427,  0.85689195,  1.21729849,  0.94568239],\n",
       "       [ 1.62841059,  0.90080063,  1.14987353,  0.93326149],\n",
       "       [ 1.62960615,  0.88930724,  1.09028195,  0.916423  ],\n",
       "       [ 1.62502942,  0.87100196,  1.19309408,  0.90461887],\n",
       "       [ 1.45743373,  0.88971685,  1.20375624,  0.99480101],\n",
       "       [ 1.41410553,  0.92610212,  1.19061372,  0.9860776 ],\n",
       "       [ 1.43411576,  0.84699116,  1.22882248,  0.99096248],\n",
       "       [ 1.34380555,  0.91505   ,  1.29244461,  1.07091321],\n",
       "       [ 1.45407064,  0.89853053,  1.27065439,  1.0508478 ],\n",
       "       [ 1.46158176,  0.98426428,  1.24147106,  1.07653228],\n",
       "       [ 1.59856943,  2.71829124,  1.41679709,  1.08825497],\n",
       "       [ 1.59102126,  1.3973576 ,  1.43276387,  1.08873624],\n",
       "       [ 1.59440352,  0.98754799,  1.39882385,  1.07035893],\n",
       "       [ 1.73080715,  0.96749176,  1.4112987 ,  1.05699139],\n",
       "       [ 1.75373754,  1.2412654 ,  1.54845765,  1.06503736],\n",
       "       [ 1.79788829,  1.97121286,  1.56879301,  1.12479907],\n",
       "       [ 1.81825405,  1.43065584,  1.64382846,  1.17763544],\n",
       "       [ 1.78887678,  1.41726794,  1.6374408 ,  1.16163977],\n",
       "       [ 1.74243248,  1.43013316,  1.61149402,  1.18467629],\n",
       "       [ 1.62541237,  1.4747215 ,  1.60189563,  1.16142594],\n",
       "       [ 2.02724019,  1.47396486,  1.65756927,  1.15159907],\n",
       "       [ 2.01295342,  1.45945146,  1.65668054,  1.13641485],\n",
       "       [ 2.01785663,  1.46265947,  1.61927311,  1.48597023],\n",
       "       [ 2.30952372,  1.47714418,  1.64251516,  1.48230686],\n",
       "       [ 2.29095943,  1.49172685,  1.83789911,  1.48288897],\n",
       "       [ 2.3966324 ,  1.59738961,  1.8663692 ,  1.5198488 ],\n",
       "       [ 2.38063556,  1.60909275,  1.86233671,  1.51534246],\n",
       "       [ 2.37088854,  1.61209419,  1.85200663,  1.51108803],\n",
       "       [ 2.42636424,  1.62978827,  1.99696963,  1.5089297 ],\n",
       "       [ 2.42861162,  1.65478813,  2.02717182,  1.49118601],\n",
       "       [ 2.44680002,  1.69704344,  2.31797205,  1.59855996],\n",
       "       [ 2.4444158 ,  1.69537348,  2.10726794,  1.60445188],\n",
       "       [ 2.42951795,  1.68006631,  2.08739515,  1.58719391],\n",
       "       [ 2.40066337,  1.6650501 ,  2.0691879 ,  1.5634408 ],\n",
       "       [ 2.36332669,  1.72687158,  2.03797881,  1.53568096],\n",
       "       [ 2.32763583,  1.81979393,  2.00898038,  1.51520893],\n",
       "       [ 2.36562142,  1.85322179,  2.05964794,  1.49581304],\n",
       "       [ 2.34068772,  1.86489192,  2.07188469,  1.45520881],\n",
       "       [ 2.30648979,  1.84694871,  2.08026005,  1.47281791],\n",
       "       [ 2.30578818,  1.84172609,  2.07077842,  1.45861382],\n",
       "       [ 2.23021724,  1.83406557,  2.0284636 ,  1.40988973],\n",
       "       [ 2.20828584,  1.79939179,  1.98002511,  1.3799785 ],\n",
       "       [ 2.18398484,  1.73731689,  1.72240535,  1.35543839],\n",
       "       [ 2.1432266 ,  1.73271941,  1.65302301,  1.34874676],\n",
       "       [ 2.10819014,  1.67616834,  1.5808737 ,  1.33220606],\n",
       "       [ 1.95857867,  1.64074114,  1.5477983 ,  1.30499207],\n",
       "       [ 2.16290732,  1.68455474,  1.91534337,  1.34006274],\n",
       "       [ 2.1316261 ,  1.67370908,  1.88719266,  1.29702617],\n",
       "       [ 2.10806215,  1.63686794,  1.85986409,  1.31095705],\n",
       "       [ 2.10111771,  1.6175187 ,  1.83514737,  1.29879746],\n",
       "       [ 2.08997563,  1.43350312,  1.85078598,  1.28618506],\n",
       "       [ 2.07579166,  1.44621101,  1.82901374,  1.27953526],\n",
       "       [ 2.02931725,  1.38138276,  1.83011752,  1.24789215]])"
      ]
     },
     "execution_count": 51,
     "metadata": {},
     "output_type": "execute_result"
    }
   ],
   "source": [
    "#Save tomorrow's forecast volatility as variable \n",
    "vol_tomorrow = vols2.iloc[-1].copy().values \n",
    "\n",
    "#Shift down one, because these numbers are 1 day ahead forecasts\n",
    "vols_fhs = vols2.shift(periods=1).values\n",
    "vols_fhs = np.delete(vols_fhs, 0, 0) #need to delete empty first row\n",
    "vols_fhs"
   ]
  },
  {
   "cell_type": "code",
   "execution_count": 52,
   "metadata": {},
   "outputs": [],
   "source": [
    "#Need to drop first row to match volatilies\n",
    "returns_100 = returns_100.drop(pd.Timestamp('2015-05-27'))"
   ]
  },
  {
   "cell_type": "code",
   "execution_count": 53,
   "metadata": {},
   "outputs": [],
   "source": [
    "standardized_returns = pd.DataFrame(returns_100.values/ vols_fhs, \\\n",
    "                                    columns=returns_100.columns,\\\n",
    "                                    index=returns_100.index)"
   ]
  },
  {
   "cell_type": "code",
   "execution_count": 54,
   "metadata": {},
   "outputs": [
    {
     "data": {
      "text/html": [
       "<div>\n",
       "<style scoped>\n",
       "    .dataframe tbody tr th:only-of-type {\n",
       "        vertical-align: middle;\n",
       "    }\n",
       "\n",
       "    .dataframe tbody tr th {\n",
       "        vertical-align: top;\n",
       "    }\n",
       "\n",
       "    .dataframe thead th {\n",
       "        text-align: right;\n",
       "    }\n",
       "</style>\n",
       "<table border=\"1\" class=\"dataframe\">\n",
       "  <thead>\n",
       "    <tr style=\"text-align: right;\">\n",
       "      <th></th>\n",
       "      <th>AAPL</th>\n",
       "      <th>GE</th>\n",
       "      <th>GOOGL</th>\n",
       "      <th>JNJ</th>\n",
       "    </tr>\n",
       "    <tr>\n",
       "      <th>Date</th>\n",
       "      <th></th>\n",
       "      <th></th>\n",
       "      <th></th>\n",
       "      <th></th>\n",
       "    </tr>\n",
       "  </thead>\n",
       "  <tbody>\n",
       "    <tr>\n",
       "      <th>2015-05-28</th>\n",
       "      <td>-0.140270</td>\n",
       "      <td>0.380624</td>\n",
       "      <td>-0.010864</td>\n",
       "      <td>0.027442</td>\n",
       "    </tr>\n",
       "    <tr>\n",
       "      <th>2015-05-29</th>\n",
       "      <td>-0.780675</td>\n",
       "      <td>-1.589722</td>\n",
       "      <td>-1.361505</td>\n",
       "      <td>-1.419981</td>\n",
       "    </tr>\n",
       "    <tr>\n",
       "      <th>2015-06-01</th>\n",
       "      <td>0.148510</td>\n",
       "      <td>0.041937</td>\n",
       "      <td>0.622152</td>\n",
       "      <td>-0.151815</td>\n",
       "    </tr>\n",
       "    <tr>\n",
       "      <th>2015-06-02</th>\n",
       "      <td>-0.333892</td>\n",
       "      <td>0.120450</td>\n",
       "      <td>0.735436</td>\n",
       "      <td>-0.084577</td>\n",
       "    </tr>\n",
       "    <tr>\n",
       "      <th>2015-06-03</th>\n",
       "      <td>0.098031</td>\n",
       "      <td>0.882127</td>\n",
       "      <td>0.208534</td>\n",
       "      <td>0.161149</td>\n",
       "    </tr>\n",
       "    <tr>\n",
       "      <th>...</th>\n",
       "      <td>...</td>\n",
       "      <td>...</td>\n",
       "      <td>...</td>\n",
       "      <td>...</td>\n",
       "    </tr>\n",
       "    <tr>\n",
       "      <th>2016-03-07</th>\n",
       "      <td>-0.524979</td>\n",
       "      <td>-0.340962</td>\n",
       "      <td>-1.282665</td>\n",
       "      <td>0.171899</td>\n",
       "    </tr>\n",
       "    <tr>\n",
       "      <th>2016-03-08</th>\n",
       "      <td>-0.392448</td>\n",
       "      <td>-0.469439</td>\n",
       "      <td>0.055806</td>\n",
       "      <td>-0.375089</td>\n",
       "    </tr>\n",
       "    <tr>\n",
       "      <th>2016-03-09</th>\n",
       "      <td>0.042624</td>\n",
       "      <td>-0.023207</td>\n",
       "      <td>0.899597</td>\n",
       "      <td>0.453818</td>\n",
       "    </tr>\n",
       "    <tr>\n",
       "      <th>2016-03-10</th>\n",
       "      <td>0.023820</td>\n",
       "      <td>-0.253114</td>\n",
       "      <td>0.509502</td>\n",
       "      <td>0.219450</td>\n",
       "    </tr>\n",
       "    <tr>\n",
       "      <th>2016-03-11</th>\n",
       "      <td>0.530915</td>\n",
       "      <td>0.967151</td>\n",
       "      <td>0.947792</td>\n",
       "      <td>0.426330</td>\n",
       "    </tr>\n",
       "  </tbody>\n",
       "</table>\n",
       "<p>200 rows × 4 columns</p>\n",
       "</div>"
      ],
      "text/plain": [
       "                AAPL        GE     GOOGL       JNJ\n",
       "Date                                              \n",
       "2015-05-28 -0.140270  0.380624 -0.010864  0.027442\n",
       "2015-05-29 -0.780675 -1.589722 -1.361505 -1.419981\n",
       "2015-06-01  0.148510  0.041937  0.622152 -0.151815\n",
       "2015-06-02 -0.333892  0.120450  0.735436 -0.084577\n",
       "2015-06-03  0.098031  0.882127  0.208534  0.161149\n",
       "...              ...       ...       ...       ...\n",
       "2016-03-07 -0.524979 -0.340962 -1.282665  0.171899\n",
       "2016-03-08 -0.392448 -0.469439  0.055806 -0.375089\n",
       "2016-03-09  0.042624 -0.023207  0.899597  0.453818\n",
       "2016-03-10  0.023820 -0.253114  0.509502  0.219450\n",
       "2016-03-11  0.530915  0.967151  0.947792  0.426330\n",
       "\n",
       "[200 rows x 4 columns]"
      ]
     },
     "execution_count": 54,
     "metadata": {},
     "output_type": "execute_result"
    }
   ],
   "source": [
    "standardized_returns"
   ]
  },
  {
   "cell_type": "code",
   "execution_count": 55,
   "metadata": {},
   "outputs": [
    {
     "data": {
      "text/plain": [
       "(array([-10,  -9,  -8,  -7,  -6,  -5,  -4,  -3,  -2,  -1,   0,   1,   2,\n",
       "          3,   4,   5,   6,   7,   8,   9,  10]),\n",
       " array([-0.04718129,  0.052793  , -0.00247127,  0.06948192,  0.04726947,\n",
       "        -0.0429731 , -0.08006935, -0.06534193, -0.0545067 ,  0.04530162,\n",
       "         1.        ,  0.04530162, -0.0545067 , -0.06534193, -0.08006935,\n",
       "        -0.0429731 ,  0.04726947,  0.06948192, -0.00247127,  0.052793  ,\n",
       "        -0.04718129]),\n",
       " <matplotlib.collections.LineCollection at 0x1a2346c650>,\n",
       " <matplotlib.lines.Line2D at 0x1a23f55950>)"
      ]
     },
     "execution_count": 55,
     "metadata": {},
     "output_type": "execute_result"
    },
    {
     "data": {
      "image/png": "[encoded data removed]",
      "text/plain": [
       "<Figure size 432x288 with 1 Axes>"
      ]
     },
     "metadata": {},
     "output_type": "display_data"
    }
   ],
   "source": [
    "plt.acorr(standardized_returns.AAPL) #low autocorrelation"
   ]
  },
  {
   "cell_type": "code",
   "execution_count": 56,
   "metadata": {},
   "outputs": [],
   "source": [
    "nrows = standardized_returns.shape[0]\n",
    "def bootstrap_fhs(data):\n",
    "    '''Draws a random vector of returns and multiplies it \n",
    "       by updated volatility forecast'''\n",
    "    idx = np.random.choice(nrows, 1)\n",
    "    sample = data.iloc[idx, :].values\n",
    "    return sample * vol_tomorrow\n",
    "\n",
    "def draw_bs_reps_fhs(data, size):\n",
    "    \"\"\"Draw bootstrap replicates\"\"\"\n",
    "\n",
    "    # Initialize array of replicates: bs_replicates\n",
    "    bs_replicates = np.empty([size, 4])\n",
    "\n",
    "    # Generate replicates\n",
    "    for i in range(size):\n",
    "        bs_replicates[i] = bootstrap_fhs(data)\n",
    "\n",
    "    return bs_replicates"
   ]
  },
  {
   "cell_type": "markdown",
   "metadata": {},
   "source": [
    "Unlike in regular bootstrap HS, we're going to run a bootstrap on each asset separately, then compute a simulated P&L at the end. In other words, each bootstrap draw doesn't draw an individual return, but a vector of returns for a particular day. This way it preserves correlations between them."
   ]
  },
  {
   "cell_type": "code",
   "execution_count": 57,
   "metadata": {},
   "outputs": [],
   "source": [
    "bootstrap_std_returns = draw_bs_reps_fhs(standardized_returns, 10000)\n",
    "    "
   ]
  },
  {
   "cell_type": "code",
   "execution_count": 58,
   "metadata": {},
   "outputs": [],
   "source": [
    "simulated_PnL = (weights * bootstrap_std_returns).sum(axis=1)"
   ]
  },
  {
   "cell_type": "code",
   "execution_count": 59,
   "metadata": {},
   "outputs": [
    {
     "name": "stdout",
     "output_type": "stream",
     "text": [
      "The filtered historical simulated VaR is -1.9264819930375938\n"
     ]
    }
   ],
   "source": [
    "VaR_FHS = np.percentile(simulated_PnL, 5, interpolation=\"lower\") \n",
    "print(f'The filtered historical simulated VaR is {VaR_FHS}')"
   ]
  },
  {
   "cell_type": "code",
   "execution_count": null,
   "metadata": {},
   "outputs": [],
   "source": []
  }
 ],
 "metadata": {
  "kernelspec": {
   "display_name": "Python 3",
   "language": "python",
   "name": "python3"
  },
  "language_info": {
   "codemirror_mode": {
    "name": "ipython",
    "version": 3
   },
   "file_extension": ".py",
   "mimetype": "text/x-python",
   "name": "python",
   "nbconvert_exporter": "python",
   "pygments_lexer": "ipython3",
   "version": "3.7.7"
  }
 },
 "nbformat": 4,
 "nbformat_minor": 4
}
