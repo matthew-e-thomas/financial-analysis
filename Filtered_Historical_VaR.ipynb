{
 "cells": [
  {
   "cell_type": "markdown",
   "metadata": {},
   "source": [
    "## Various Examples of Taking Historical VaR"
   ]
  },
  {
   "cell_type": "code",
   "execution_count": 13,
   "metadata": {},
   "outputs": [],
   "source": [
    "import pandas as pd\n",
    "import numpy as np\n",
    "\n",
    "import re\n",
    "import quandl\n",
    "import matplotlib.pyplot as plt\n",
    "%matplotlib inline\n",
    "\n",
    "import seaborn as sns\n",
    "sns.set_style('darkgrid')\n",
    "sns.set_palette('coolwarm')"
   ]
  },
  {
   "cell_type": "code",
   "execution_count": 3,
   "metadata": {},
   "outputs": [
    {
     "data": {
      "text/html": [
       "<div>\n",
       "<style scoped>\n",
       "    .dataframe tbody tr th:only-of-type {\n",
       "        vertical-align: middle;\n",
       "    }\n",
       "\n",
       "    .dataframe tbody tr th {\n",
       "        vertical-align: top;\n",
       "    }\n",
       "\n",
       "    .dataframe thead th {\n",
       "        text-align: right;\n",
       "    }\n",
       "</style>\n",
       "<table border=\"1\" class=\"dataframe\">\n",
       "  <thead>\n",
       "    <tr style=\"text-align: right;\">\n",
       "      <th></th>\n",
       "      <th>WIKI/AAPL - Open</th>\n",
       "      <th>WIKI/AAPL - High</th>\n",
       "      <th>WIKI/AAPL - Low</th>\n",
       "      <th>WIKI/AAPL - Close</th>\n",
       "      <th>WIKI/AAPL - Volume</th>\n",
       "      <th>WIKI/AAPL - Ex-Dividend</th>\n",
       "      <th>WIKI/AAPL - Split Ratio</th>\n",
       "      <th>WIKI/AAPL - Adj. Open</th>\n",
       "      <th>WIKI/AAPL - Adj. High</th>\n",
       "      <th>WIKI/AAPL - Adj. Low</th>\n",
       "      <th>...</th>\n",
       "      <th>WIKI/JNJ - Low</th>\n",
       "      <th>WIKI/JNJ - Close</th>\n",
       "      <th>WIKI/JNJ - Volume</th>\n",
       "      <th>WIKI/JNJ - Ex-Dividend</th>\n",
       "      <th>WIKI/JNJ - Split Ratio</th>\n",
       "      <th>WIKI/JNJ - Adj. Open</th>\n",
       "      <th>WIKI/JNJ - Adj. High</th>\n",
       "      <th>WIKI/JNJ - Adj. Low</th>\n",
       "      <th>WIKI/JNJ - Adj. Close</th>\n",
       "      <th>WIKI/JNJ - Adj. Volume</th>\n",
       "    </tr>\n",
       "    <tr>\n",
       "      <th>Date</th>\n",
       "      <th></th>\n",
       "      <th></th>\n",
       "      <th></th>\n",
       "      <th></th>\n",
       "      <th></th>\n",
       "      <th></th>\n",
       "      <th></th>\n",
       "      <th></th>\n",
       "      <th></th>\n",
       "      <th></th>\n",
       "      <th></th>\n",
       "      <th></th>\n",
       "      <th></th>\n",
       "      <th></th>\n",
       "      <th></th>\n",
       "      <th></th>\n",
       "      <th></th>\n",
       "      <th></th>\n",
       "      <th></th>\n",
       "      <th></th>\n",
       "      <th></th>\n",
       "    </tr>\n",
       "  </thead>\n",
       "  <tbody>\n",
       "    <tr>\n",
       "      <th>2015-03-13</th>\n",
       "      <td>0.017088</td>\n",
       "      <td>0.003964</td>\n",
       "      <td>0.007811</td>\n",
       "      <td>-0.006910</td>\n",
       "      <td>0.071637</td>\n",
       "      <td>NaN</td>\n",
       "      <td>0.0</td>\n",
       "      <td>0.017088</td>\n",
       "      <td>0.003964</td>\n",
       "      <td>0.007811</td>\n",
       "      <td>...</td>\n",
       "      <td>-0.001930</td>\n",
       "      <td>-0.006211</td>\n",
       "      <td>-0.059654</td>\n",
       "      <td>NaN</td>\n",
       "      <td>0.0</td>\n",
       "      <td>0.008994</td>\n",
       "      <td>-0.001895</td>\n",
       "      <td>-0.001930</td>\n",
       "      <td>-0.006211</td>\n",
       "      <td>-0.059654</td>\n",
       "    </tr>\n",
       "    <tr>\n",
       "      <th>2015-03-16</th>\n",
       "      <td>-0.004180</td>\n",
       "      <td>-0.003550</td>\n",
       "      <td>0.002366</td>\n",
       "      <td>0.011004</td>\n",
       "      <td>-0.307811</td>\n",
       "      <td>NaN</td>\n",
       "      <td>0.0</td>\n",
       "      <td>-0.004180</td>\n",
       "      <td>-0.003550</td>\n",
       "      <td>0.002366</td>\n",
       "      <td>...</td>\n",
       "      <td>0.011159</td>\n",
       "      <td>0.018647</td>\n",
       "      <td>-0.012184</td>\n",
       "      <td>NaN</td>\n",
       "      <td>0.0</td>\n",
       "      <td>-0.001102</td>\n",
       "      <td>0.010195</td>\n",
       "      <td>0.011159</td>\n",
       "      <td>0.018647</td>\n",
       "      <td>-0.012184</td>\n",
       "    </tr>\n",
       "    <tr>\n",
       "      <th>2015-03-17</th>\n",
       "      <td>0.016306</td>\n",
       "      <td>0.018968</td>\n",
       "      <td>0.022626</td>\n",
       "      <td>0.016727</td>\n",
       "      <td>0.422275</td>\n",
       "      <td>NaN</td>\n",
       "      <td>0.0</td>\n",
       "      <td>0.016306</td>\n",
       "      <td>0.018968</td>\n",
       "      <td>0.022626</td>\n",
       "      <td>...</td>\n",
       "      <td>-0.003309</td>\n",
       "      <td>-0.011577</td>\n",
       "      <td>-0.055001</td>\n",
       "      <td>NaN</td>\n",
       "      <td>0.0</td>\n",
       "      <td>0.003710</td>\n",
       "      <td>-0.005442</td>\n",
       "      <td>-0.003309</td>\n",
       "      <td>-0.011577</td>\n",
       "      <td>-0.055001</td>\n",
       "    </tr>\n",
       "    <tr>\n",
       "      <th>2015-03-18</th>\n",
       "      <td>0.008737</td>\n",
       "      <td>0.014452</td>\n",
       "      <td>0.005730</td>\n",
       "      <td>0.011256</td>\n",
       "      <td>0.279243</td>\n",
       "      <td>NaN</td>\n",
       "      <td>0.0</td>\n",
       "      <td>0.008737</td>\n",
       "      <td>0.014452</td>\n",
       "      <td>0.005730</td>\n",
       "      <td>...</td>\n",
       "      <td>-0.002817</td>\n",
       "      <td>0.015717</td>\n",
       "      <td>0.091848</td>\n",
       "      <td>NaN</td>\n",
       "      <td>0.0</td>\n",
       "      <td>-0.002198</td>\n",
       "      <td>0.012137</td>\n",
       "      <td>-0.002817</td>\n",
       "      <td>0.015717</td>\n",
       "      <td>0.091848</td>\n",
       "    </tr>\n",
       "    <tr>\n",
       "      <th>2015-03-19</th>\n",
       "      <td>0.013780</td>\n",
       "      <td>0.000659</td>\n",
       "      <td>0.008151</td>\n",
       "      <td>-0.007589</td>\n",
       "      <td>-0.298164</td>\n",
       "      <td>NaN</td>\n",
       "      <td>0.0</td>\n",
       "      <td>0.013780</td>\n",
       "      <td>0.000659</td>\n",
       "      <td>0.008151</td>\n",
       "      <td>...</td>\n",
       "      <td>0.017956</td>\n",
       "      <td>0.002267</td>\n",
       "      <td>-0.139118</td>\n",
       "      <td>NaN</td>\n",
       "      <td>0.0</td>\n",
       "      <td>0.011513</td>\n",
       "      <td>0.002113</td>\n",
       "      <td>0.017956</td>\n",
       "      <td>0.002267</td>\n",
       "      <td>-0.139118</td>\n",
       "    </tr>\n",
       "  </tbody>\n",
       "</table>\n",
       "<p>5 rows × 48 columns</p>\n",
       "</div>"
      ],
      "text/plain": [
       "            WIKI/AAPL - Open  WIKI/AAPL - High  WIKI/AAPL - Low  \\\n",
       "Date                                                              \n",
       "2015-03-13          0.017088          0.003964         0.007811   \n",
       "2015-03-16         -0.004180         -0.003550         0.002366   \n",
       "2015-03-17          0.016306          0.018968         0.022626   \n",
       "2015-03-18          0.008737          0.014452         0.005730   \n",
       "2015-03-19          0.013780          0.000659         0.008151   \n",
       "\n",
       "            WIKI/AAPL - Close  WIKI/AAPL - Volume  WIKI/AAPL - Ex-Dividend  \\\n",
       "Date                                                                         \n",
       "2015-03-13          -0.006910            0.071637                      NaN   \n",
       "2015-03-16           0.011004           -0.307811                      NaN   \n",
       "2015-03-17           0.016727            0.422275                      NaN   \n",
       "2015-03-18           0.011256            0.279243                      NaN   \n",
       "2015-03-19          -0.007589           -0.298164                      NaN   \n",
       "\n",
       "            WIKI/AAPL - Split Ratio  WIKI/AAPL - Adj. Open  \\\n",
       "Date                                                         \n",
       "2015-03-13                      0.0               0.017088   \n",
       "2015-03-16                      0.0              -0.004180   \n",
       "2015-03-17                      0.0               0.016306   \n",
       "2015-03-18                      0.0               0.008737   \n",
       "2015-03-19                      0.0               0.013780   \n",
       "\n",
       "            WIKI/AAPL - Adj. High  WIKI/AAPL - Adj. Low  ...  WIKI/JNJ - Low  \\\n",
       "Date                                                     ...                   \n",
       "2015-03-13               0.003964              0.007811  ...       -0.001930   \n",
       "2015-03-16              -0.003550              0.002366  ...        0.011159   \n",
       "2015-03-17               0.018968              0.022626  ...       -0.003309   \n",
       "2015-03-18               0.014452              0.005730  ...       -0.002817   \n",
       "2015-03-19               0.000659              0.008151  ...        0.017956   \n",
       "\n",
       "            WIKI/JNJ - Close  WIKI/JNJ - Volume  WIKI/JNJ - Ex-Dividend  \\\n",
       "Date                                                                      \n",
       "2015-03-13         -0.006211          -0.059654                     NaN   \n",
       "2015-03-16          0.018647          -0.012184                     NaN   \n",
       "2015-03-17         -0.011577          -0.055001                     NaN   \n",
       "2015-03-18          0.015717           0.091848                     NaN   \n",
       "2015-03-19          0.002267          -0.139118                     NaN   \n",
       "\n",
       "            WIKI/JNJ - Split Ratio  WIKI/JNJ - Adj. Open  \\\n",
       "Date                                                       \n",
       "2015-03-13                     0.0              0.008994   \n",
       "2015-03-16                     0.0             -0.001102   \n",
       "2015-03-17                     0.0              0.003710   \n",
       "2015-03-18                     0.0             -0.002198   \n",
       "2015-03-19                     0.0              0.011513   \n",
       "\n",
       "            WIKI/JNJ - Adj. High  WIKI/JNJ - Adj. Low  WIKI/JNJ - Adj. Close  \\\n",
       "Date                                                                           \n",
       "2015-03-13             -0.001895            -0.001930              -0.006211   \n",
       "2015-03-16              0.010195             0.011159               0.018647   \n",
       "2015-03-17             -0.005442            -0.003309              -0.011577   \n",
       "2015-03-18              0.012137            -0.002817               0.015717   \n",
       "2015-03-19              0.002113             0.017956               0.002267   \n",
       "\n",
       "            WIKI/JNJ - Adj. Volume  \n",
       "Date                                \n",
       "2015-03-13               -0.059654  \n",
       "2015-03-16               -0.012184  \n",
       "2015-03-17               -0.055001  \n",
       "2015-03-18                0.091848  \n",
       "2015-03-19               -0.139118  \n",
       "\n",
       "[5 rows x 48 columns]"
      ]
     },
     "execution_count": 3,
     "metadata": {},
     "output_type": "execute_result"
    }
   ],
   "source": [
    "quandl.ApiConfig.api_key = \"vtreWrvk7v_uQiCNFaEH\"\n",
    "portfolio = quandl.get([\"WIKI/AAPL\", \"WIKI/GE\", \"WIKI/GOOGL\", \"WIKI/JNJ\"],\\\n",
    "                       start_date=\"2015-03-12\", end_date=\"2016-03-12\",\\\n",
    "                       transformation=\"rdiff\")\n",
    "\n",
    "portfolio.head()"
   ]
  },
  {
   "cell_type": "code",
   "execution_count": 4,
   "metadata": {},
   "outputs": [
    {
     "data": {
      "text/html": [
       "<div>\n",
       "<style scoped>\n",
       "    .dataframe tbody tr th:only-of-type {\n",
       "        vertical-align: middle;\n",
       "    }\n",
       "\n",
       "    .dataframe tbody tr th {\n",
       "        vertical-align: top;\n",
       "    }\n",
       "\n",
       "    .dataframe thead th {\n",
       "        text-align: right;\n",
       "    }\n",
       "</style>\n",
       "<table border=\"1\" class=\"dataframe\">\n",
       "  <thead>\n",
       "    <tr style=\"text-align: right;\">\n",
       "      <th></th>\n",
       "      <th>AAPL</th>\n",
       "      <th>GE</th>\n",
       "      <th>GOOGL</th>\n",
       "      <th>JNJ</th>\n",
       "    </tr>\n",
       "    <tr>\n",
       "      <th>Date</th>\n",
       "      <th></th>\n",
       "      <th></th>\n",
       "      <th></th>\n",
       "      <th></th>\n",
       "    </tr>\n",
       "  </thead>\n",
       "  <tbody>\n",
       "    <tr>\n",
       "      <th>2015-03-13</th>\n",
       "      <td>-0.691041</td>\n",
       "      <td>-1.417323</td>\n",
       "      <td>-1.455887</td>\n",
       "      <td>-0.621056</td>\n",
       "    </tr>\n",
       "    <tr>\n",
       "      <th>2015-03-16</th>\n",
       "      <td>1.100413</td>\n",
       "      <td>1.637380</td>\n",
       "      <td>1.562387</td>\n",
       "      <td>1.864731</td>\n",
       "    </tr>\n",
       "    <tr>\n",
       "      <th>2015-03-17</th>\n",
       "      <td>1.672669</td>\n",
       "      <td>-0.550098</td>\n",
       "      <td>-0.717541</td>\n",
       "      <td>-1.157728</td>\n",
       "    </tr>\n",
       "    <tr>\n",
       "      <th>2015-03-18</th>\n",
       "      <td>1.125630</td>\n",
       "      <td>1.303832</td>\n",
       "      <td>1.533330</td>\n",
       "      <td>1.571729</td>\n",
       "    </tr>\n",
       "    <tr>\n",
       "      <th>2015-03-19</th>\n",
       "      <td>-0.758932</td>\n",
       "      <td>-1.209048</td>\n",
       "      <td>-0.439805</td>\n",
       "      <td>0.226690</td>\n",
       "    </tr>\n",
       "  </tbody>\n",
       "</table>\n",
       "</div>"
      ],
      "text/plain": [
       "                AAPL        GE     GOOGL       JNJ\n",
       "Date                                              \n",
       "2015-03-13 -0.691041 -1.417323 -1.455887 -0.621056\n",
       "2015-03-16  1.100413  1.637380  1.562387  1.864731\n",
       "2015-03-17  1.672669 -0.550098 -0.717541 -1.157728\n",
       "2015-03-18  1.125630  1.303832  1.533330  1.571729\n",
       "2015-03-19 -0.758932 -1.209048 -0.439805  0.226690"
      ]
     },
     "execution_count": 4,
     "metadata": {},
     "output_type": "execute_result"
    }
   ],
   "source": [
    "#We only want Adjusted Close\n",
    "#If someone knows a better way to do this please email me\n",
    "returns = portfolio[list(portfolio.columns[portfolio.columns.str.\\\n",
    "                                              contains('Adj. Close')])]\n",
    "returns = returns.rename(columns={\"WIKI/AAPL - Adj. Close\":\"AAPL\",\\\n",
    "                                       \"WIKI/GE - Adj. Close\":\"GE\",\\\n",
    "                                       \"WIKI/GOOGL - Adj. Close\":\"GOOGL\",\\\n",
    "                                       \"WIKI/JNJ - Adj. Close\":\"JNJ\"})\n",
    "returns = returns * 100 #convert to percentages\n",
    "returns.head()"
   ]
  },
  {
   "cell_type": "code",
   "execution_count": 5,
   "metadata": {},
   "outputs": [
    {
     "name": "stdout",
     "output_type": "stream",
     "text": [
      "252\n"
     ]
    }
   ],
   "source": [
    "#confirm number of trading days\n",
    "print(len(returns))"
   ]
  },
  {
   "cell_type": "code",
   "execution_count": 6,
   "metadata": {},
   "outputs": [
    {
     "data": {
      "text/plain": [
       "array([-0.95741596,  1.61342784, -0.36534104,  1.39830022, -0.46780529,\n",
       "        0.13468824,  0.52477562, -0.49826201, -1.7679611 , -0.13205839,\n",
       "       -0.11494785,  1.36670421, -1.16613601, -0.66312163,  0.34182132,\n",
       "        0.46874038, -0.00515651,  0.0199577 ,  1.46883257,  3.6243436 ,\n",
       "       -1.5553157 , -0.15156355, -0.16091561, -0.56910931, -0.54059787,\n",
       "        0.67807439, -0.54581634,  0.763358  ,  0.25910088,  0.5756873 ,\n",
       "        0.12408417, -0.01453905, -0.51907734, -1.25262367,  1.28062381,\n",
       "        0.03565225, -1.35168914, -0.52751787,  0.70827122,  1.58579717,\n",
       "       -0.91738285, -0.30034308,  0.26877614,  1.376321  , -0.04586962,\n",
       "        0.70577408,  0.28210605,  0.23685053,  0.20315515, -0.32725294,\n",
       "       -0.95539462,  0.62618495,  0.0864226 , -1.1778143 ,  0.08153774,\n",
       "        0.02920174,  0.31236064, -0.8195614 , -0.37389469, -0.55280475,\n",
       "        0.11744558,  1.02391956, -0.07599165, -0.75716869, -0.66788923,\n",
       "        0.50957747,  0.19030296,  1.28981182, -0.51786912,  0.48866753,\n",
       "       -0.00627064, -0.4117013 , -0.43301002,  0.0600307 , -1.84900654,\n",
       "       -0.04753411,  0.76387627,  0.17193123, -0.72505659,  0.50733829,\n",
       "       -1.77027601,  0.05491311,  1.49268786,  1.19278778,  0.22966804,\n",
       "        0.56923924,  1.14910052,  1.61300902,  0.28689345, -0.49618212,\n",
       "       -1.15907761, -0.711472  , -1.4030839 , -0.34243141,  0.59507947,\n",
       "        0.43433147, -0.16931944, -0.15584889, -0.70195678, -0.7466193 ,\n",
       "        0.83444383, -0.66076848, -0.38363141,  1.61216557, -1.54979687,\n",
       "        0.37917566, -0.26175962,  0.65372347,  0.85437259, -0.55068029,\n",
       "       -0.59410204, -1.45924568, -3.46369986, -2.92703855, -1.62575022,\n",
       "        4.80391355,  2.42983425, -0.31484835, -1.1790612 , -3.11640941,\n",
       "        2.51572537, -0.85008996, -1.52482211,  3.14575603, -1.61711996,\n",
       "        0.93434157,  0.77498595,  0.10087671,  1.46618326,  0.86514465,\n",
       "       -0.64308442, -1.50500676,  0.6414047 , -0.44965204,  0.09222751,\n",
       "       -0.35007956, -0.90390431, -1.21587251,  0.42446791,  1.32447582,\n",
       "       -0.1047888 ,  1.03925209,  2.23963309,  0.05517718,  1.07596962,\n",
       "        0.04712801,  0.70692083,  0.26597681, -0.32629156, -0.99925003,\n",
       "        2.06079186,  1.35213452,  0.07906971, -0.28011531, -0.03298371,\n",
       "        1.98248468,  1.42307052, -0.58120232, -0.09470669,  0.92453946,\n",
       "        0.62215697, -0.83467603,  1.37080786,  0.35551595, -0.0648774 ,\n",
       "        0.23374937,  0.15851687, -0.76494761,  0.03097675,  0.68860676,\n",
       "       -1.3043726 , -0.83795756,  1.08244269, -0.07299979,  1.48034876,\n",
       "       -0.06271803,  0.98737821, -0.21901046, -0.1145738 , -0.47271118,\n",
       "        0.15879739, -0.89150989,  0.78517148, -0.57647128, -0.74363391,\n",
       "        2.12502097, -0.18015548, -0.50687954, -0.43114491,  0.43132157,\n",
       "       -1.39718748,  0.22270657,  0.44884472,  1.45420538, -1.31652375,\n",
       "       -1.62738933,  0.27112477,  0.59835305,  1.03175509, -0.16896588,\n",
       "       -0.13457927,  1.19213408, -0.62398583, -0.85134739, -1.51761553,\n",
       "       -0.27716238, -1.10066712, -2.82109176, -0.99623435,  0.25005589,\n",
       "        0.79530091, -1.77569102,  2.24376121, -2.11898623,  0.23031053,\n",
       "       -1.21425229,  0.72313071,  1.2923703 , -0.90645107,  2.38521227,\n",
       "       -1.47611679,  0.83961351,  2.66042985, -0.56428236, -1.05979793,\n",
       "        0.73126127,  0.34309576, -2.84554613,  0.40821276,  0.05657897,\n",
       "       -0.1413593 , -1.04071741,  1.00184648,  1.54933209,  1.07530166,\n",
       "       -0.16350096,  0.21360186,  0.90077908, -1.06307039,  0.41940317,\n",
       "        1.31049539, -0.07855009, -0.63165043,  2.66818729,  0.24157613,\n",
       "       -0.0637917 ,  0.46080463, -0.53718783, -0.57733875,  0.40781029,\n",
       "        0.10557843,  1.00254316])"
      ]
     },
     "execution_count": 6,
     "metadata": {},
     "output_type": "execute_result"
    }
   ],
   "source": [
    "#Convert returns into P/L\n",
    "weights = [0.2, 0.3, 0.1, 0.4]\n",
    "PnL = (weights * returns.values).sum(axis=1)\n",
    "PnL #array representing daily P&Ls\n"
   ]
  },
  {
   "cell_type": "code",
   "execution_count": 7,
   "metadata": {},
   "outputs": [
    {
     "name": "stdout",
     "output_type": "stream",
     "text": [
      "Volatility is 1.1148145358035322\n"
     ]
    }
   ],
   "source": [
    "#Calculate daily volatility over this period\n",
    "vol = np.std(PnL)\n",
    "print(f\"Volatility is {vol}\")"
   ]
  },
  {
   "cell_type": "markdown",
   "metadata": {},
   "source": [
    "### Simple Historical VaR"
   ]
  },
  {
   "cell_type": "code",
   "execution_count": 8,
   "metadata": {},
   "outputs": [
    {
     "data": {
      "text/plain": [
       "array([-3.46369986, -3.11640941, -2.92703855, -2.84554613, -2.82109176,\n",
       "       -2.11898623, -1.84900654, -1.77569102, -1.77027601, -1.7679611 ,\n",
       "       -1.62738933, -1.62575022, -1.61711996, -1.5553157 , -1.54979687,\n",
       "       -1.52482211, -1.51761553, -1.50500676, -1.47611679, -1.45924568,\n",
       "       -1.4030839 , -1.39718748, -1.35168914, -1.31652375, -1.3043726 ,\n",
       "       -1.25262367, -1.21587251, -1.21425229, -1.1790612 , -1.1778143 ,\n",
       "       -1.16613601, -1.15907761, -1.10066712, -1.06307039, -1.05979793,\n",
       "       -1.04071741, -0.99925003, -0.99623435, -0.95741596, -0.95539462,\n",
       "       -0.91738285, -0.90645107, -0.90390431, -0.89150989, -0.85134739,\n",
       "       -0.85008996, -0.83795756, -0.83467603, -0.8195614 , -0.76494761,\n",
       "       -0.75716869, -0.7466193 , -0.74363391, -0.72505659, -0.711472  ,\n",
       "       -0.70195678, -0.66788923, -0.66312163, -0.66076848, -0.64308442,\n",
       "       -0.63165043, -0.62398583, -0.59410204, -0.58120232, -0.57733875,\n",
       "       -0.57647128, -0.56910931, -0.56428236, -0.55280475, -0.55068029,\n",
       "       -0.54581634, -0.54059787, -0.53718783, -0.52751787, -0.51907734,\n",
       "       -0.51786912, -0.50687954, -0.49826201, -0.49618212, -0.47271118,\n",
       "       -0.46780529, -0.44965204, -0.43301002, -0.43114491, -0.4117013 ,\n",
       "       -0.38363141, -0.37389469, -0.36534104, -0.35007956, -0.34243141,\n",
       "       -0.32725294, -0.32629156, -0.31484835, -0.30034308, -0.28011531,\n",
       "       -0.27716238, -0.26175962, -0.21901046, -0.18015548, -0.16931944,\n",
       "       -0.16896588, -0.16350096, -0.16091561, -0.15584889, -0.15156355,\n",
       "       -0.1413593 , -0.13457927, -0.13205839, -0.11494785, -0.1145738 ,\n",
       "       -0.1047888 , -0.09470669, -0.07855009, -0.07599165, -0.07299979,\n",
       "       -0.0648774 , -0.0637917 , -0.06271803, -0.04753411, -0.04586962,\n",
       "       -0.03298371, -0.01453905, -0.00627064, -0.00515651,  0.0199577 ,\n",
       "        0.02920174,  0.03097675,  0.03565225,  0.04712801,  0.05491311,\n",
       "        0.05517718,  0.05657897,  0.0600307 ,  0.07906971,  0.08153774,\n",
       "        0.0864226 ,  0.09222751,  0.10087671,  0.10557843,  0.11744558,\n",
       "        0.12408417,  0.13468824,  0.15851687,  0.15879739,  0.17193123,\n",
       "        0.19030296,  0.20315515,  0.21360186,  0.22270657,  0.22966804,\n",
       "        0.23031053,  0.23374937,  0.23685053,  0.24157613,  0.25005589,\n",
       "        0.25910088,  0.26597681,  0.26877614,  0.27112477,  0.28210605,\n",
       "        0.28689345,  0.31236064,  0.34182132,  0.34309576,  0.35551595,\n",
       "        0.37917566,  0.40781029,  0.40821276,  0.41940317,  0.42446791,\n",
       "        0.43132157,  0.43433147,  0.44884472,  0.46080463,  0.46874038,\n",
       "        0.48866753,  0.50733829,  0.50957747,  0.52477562,  0.56923924,\n",
       "        0.5756873 ,  0.59507947,  0.59835305,  0.62215697,  0.62618495,\n",
       "        0.6414047 ,  0.65372347,  0.67807439,  0.68860676,  0.70577408,\n",
       "        0.70692083,  0.70827122,  0.72313071,  0.73126127,  0.763358  ,\n",
       "        0.76387627,  0.77498595,  0.78517148,  0.79530091,  0.83444383,\n",
       "        0.83961351,  0.85437259,  0.86514465,  0.90077908,  0.92453946,\n",
       "        0.93434157,  0.98737821,  1.00184648,  1.00254316,  1.02391956,\n",
       "        1.03175509,  1.03925209,  1.07530166,  1.07596962,  1.08244269,\n",
       "        1.14910052,  1.19213408,  1.19278778,  1.28062381,  1.28981182,\n",
       "        1.2923703 ,  1.31049539,  1.32447582,  1.35213452,  1.36670421,\n",
       "        1.37080786,  1.376321  ,  1.39830022,  1.42307052,  1.45420538,\n",
       "        1.46618326,  1.46883257,  1.48034876,  1.49268786,  1.54933209,\n",
       "        1.58579717,  1.61216557,  1.61300902,  1.61342784,  1.98248468,\n",
       "        2.06079186,  2.12502097,  2.23963309,  2.24376121,  2.38521227,\n",
       "        2.42983425,  2.51572537,  2.66042985,  2.66818729,  3.14575603,\n",
       "        3.6243436 ,  4.80391355])"
      ]
     },
     "execution_count": 8,
     "metadata": {},
     "output_type": "execute_result"
    }
   ],
   "source": [
    "#To compute simple historic VaR, we simply sort the P&Ls and pick the one at the \n",
    "#percentile we need, in our case 5%\n",
    "np.sort(PnL)"
   ]
  },
  {
   "cell_type": "code",
   "execution_count": 9,
   "metadata": {},
   "outputs": [
    {
     "name": "stdout",
     "output_type": "stream",
     "text": [
      "The simple historical VaR is -1.6171199605525266\n"
     ]
    }
   ],
   "source": [
    "historic_var = np.percentile(PnL, 5, interpolation=\"lower\")\n",
    "print(f'The simple historical VaR is {historic_var}')\n"
   ]
  },
  {
   "cell_type": "markdown",
   "metadata": {},
   "source": [
    "Note that this VaR is in percentage terms. It can be converted to dollar terms by multiplying it by the total position value."
   ]
  },
  {
   "cell_type": "code",
   "execution_count": 14,
   "metadata": {},
   "outputs": [
    {
     "data": {
      "text/plain": [
       "<matplotlib.axes._subplots.AxesSubplot at 0x1a1a642b50>"
      ]
     },
     "execution_count": 14,
     "metadata": {},
     "output_type": "execute_result"
    },
    {
     "data": {
      "image/png": "[encoded data removed]",
      "text/plain": [
       "<Figure size 432x288 with 1 Axes>"
      ]
     },
     "metadata": {},
     "output_type": "display_data"
    }
   ],
   "source": [
    "returns['P&L'] = PnL #put it back in our dataframe\n",
    "\n",
    "returns['P&L'].plot(kind='hist', title=\"Histogram of P&Ls\")"
   ]
  },
  {
   "cell_type": "code",
   "execution_count": 15,
   "metadata": {},
   "outputs": [
    {
     "name": "stdout",
     "output_type": "stream",
     "text": [
      "Skew is 0.30275810677546755\n",
      "\n",
      "Kurtosis is 1.6703628605029035\n"
     ]
    }
   ],
   "source": [
    "from scipy.stats import kurtosis, skew\n",
    "\n",
    "print(f\"Skew is {skew(PnL)}\\n\")\n",
    "print(f\"Kurtosis is {kurtosis(PnL)}\")"
   ]
  },
  {
   "cell_type": "markdown",
   "metadata": {},
   "source": [
    "### Bootstrap VaR"
   ]
  },
  {
   "cell_type": "code",
   "execution_count": 15,
   "metadata": {},
   "outputs": [],
   "source": [
    "#This function returns historical VaR at 95% confidence. We will use it to feed bootstrap function\n",
    "def VaR_95(data):\n",
    "    return np.percentile(data, 5, interpolation=\"lower\")"
   ]
  },
  {
   "cell_type": "code",
   "execution_count": 16,
   "metadata": {},
   "outputs": [],
   "source": [
    "#This function will generate random samples with replacement\n",
    "def bootstrap(data, func):\n",
    "    sample = np.random.choice(data, len(data))\n",
    "    return func(sample)"
   ]
  },
  {
   "cell_type": "code",
   "execution_count": 17,
   "metadata": {},
   "outputs": [],
   "source": [
    "def draw_bs_reps(data, func, size):\n",
    "    \"\"\"Draw bootstrap replicates.\"\"\"\n",
    "\n",
    "    # Initialize array of replicates\n",
    "    bs_replicates = np.empty(size)\n",
    "\n",
    "    # Generate replicates\n",
    "    for i in range(size):\n",
    "        bs_replicates[i] = bootstrap(data, func)\n",
    "\n",
    "    return bs_replicates\n"
   ]
  },
  {
   "cell_type": "markdown",
   "metadata": {},
   "source": [
    "We take 10000 resampled VaR of our data with replacement, then the mean of that is our bootstrap VaR measure"
   ]
  },
  {
   "cell_type": "code",
   "execution_count": 19,
   "metadata": {},
   "outputs": [
    {
     "name": "stdout",
     "output_type": "stream",
     "text": [
      "The Bootstrap VaR measure is -1.610661905478375\n"
     ]
    }
   ],
   "source": [
    "#Take 10000 bootstrap replicates of portfolio returns\n",
    "bootstrap_VaR = draw_bs_reps(PnL, VaR_95, 10000)\n",
    "print(f\"The Bootstrap VaR measure is {np.mean(bootstrap_VaR)}\")"
   ]
  },
  {
   "cell_type": "markdown",
   "metadata": {},
   "source": [
    "This measure is quite close to our simple historical VaR, but slightly lower (higher number, lower VaR)"
   ]
  },
  {
   "cell_type": "code",
   "execution_count": 24,
   "metadata": {},
   "outputs": [
    {
     "data": {
      "text/plain": [
       "Text(0, 0.5, 'PDF')"
      ]
     },
     "execution_count": 24,
     "metadata": {},
     "output_type": "execute_result"
    },
    {
     "data": {
      "image/png": "[encoded data removed]",
      "text/plain": [
       "<Figure size 432x288 with 1 Axes>"
      ]
     },
     "metadata": {},
     "output_type": "display_data"
    }
   ],
   "source": [
    "plt.hist(bootstrap_VaR, bins=50, density=True)\n",
    "plt.xlabel('VaR Distribution of 10000 Samples')\n",
    "plt.ylabel('PDF')"
   ]
  },
  {
   "cell_type": "markdown",
   "metadata": {},
   "source": [
    "### Confidence Intervals"
   ]
  },
  {
   "cell_type": "markdown",
   "metadata": {},
   "source": [
    "One of the advantages of bootstrapping is that it allows us to get a fairly good measure of our VaR confidence intervals, which is better than just presenting one number as the VaR. "
   ]
  },
  {
   "cell_type": "code",
   "execution_count": 26,
   "metadata": {},
   "outputs": [
    {
     "name": "stdout",
     "output_type": "stream",
     "text": [
      "The 95% VaR Confidence Interval is [-1.84900654 -1.4030839 ]\n"
     ]
    }
   ],
   "source": [
    "conf_intervals = np.percentile(bootstrap_VaR, [2.5, 97.5])\n",
    "print(f\"The 95% VaR Confidence Interval is {conf_intervals}\")"
   ]
  },
  {
   "cell_type": "markdown",
   "metadata": {},
   "source": [
    "That's quite a tight interval, so we can be reasonably confident of our measure."
   ]
  },
  {
   "cell_type": "markdown",
   "metadata": {},
   "source": [
    "### Age-weighted Historical Simulation"
   ]
  },
  {
   "cell_type": "markdown",
   "metadata": {},
   "source": [
    "Simple historical simulation suffers from an obvious problem: it weights all days as being equally important, no matter how recent or far back. If you own shares in stocks that are highly seasonal, this is a problem. Another problem are \"ghost effects\", when you get a cluster of volatility somewhere in your date range that has an outsize effect on the VaR calculation. One way to address these problems is to weight recent days more heavily than those further in the past. We use a decay factor $\\lambda$, which is between 0 and 1. A lambda close to one indicates slow decay (values far in the past will still have weight), and close to zero is fast decay. The sum of the weights is 1, and the formula for the weight on day _w(i)_ is $\\frac{\\lambda^{i-1}(1-\\lambda)}{1-\\lambda^{n}}$"
   ]
  },
  {
   "cell_type": "markdown",
   "metadata": {},
   "source": [
    "To calculate VaR, we simply create an array of weights of the same length as our array of returns:"
   ]
  },
  {
   "cell_type": "code",
   "execution_count": 27,
   "metadata": {},
   "outputs": [],
   "source": [
    "lam = 0.5 #we're picking this arbitrarily\n",
    "n = len(returns)\n",
    "wts = [(lam**(i-1) * (1-lam))/(1-lam**n) for i in range(1, n+1)]#want to start on day 1, not day 0"
   ]
  },
  {
   "cell_type": "code",
   "execution_count": 28,
   "metadata": {},
   "outputs": [
    {
     "data": {
      "text/plain": [
       "[0.5,\n",
       " 0.25,\n",
       " 0.125,\n",
       " 0.0625,\n",
       " 0.03125,\n",
       " 0.015625,\n",
       " 0.0078125,\n",
       " 0.00390625,\n",
       " 0.001953125,\n",
       " 0.0009765625,\n",
       " 0.00048828125,\n",
       " 0.000244140625,\n",
       " 0.0001220703125,\n",
       " 6.103515625e-05,\n",
       " 3.0517578125e-05]"
      ]
     },
     "execution_count": 28,
     "metadata": {},
     "output_type": "execute_result"
    }
   ],
   "source": [
    "wts[:15] #We can see how they get smaller and smaller"
   ]
  },
  {
   "cell_type": "markdown",
   "metadata": {},
   "source": [
    "Now we sort the returns and look at the corresponding weights, we want the figure where the sum of the weights is .05 "
   ]
  },
  {
   "cell_type": "code",
   "execution_count": 30,
   "metadata": {},
   "outputs": [],
   "source": [
    "weights_dict = {'Returns':PnL, 'Weights':wts}\n",
    "wts_returns = pd.DataFrame(weights_dict)"
   ]
  },
  {
   "cell_type": "code",
   "execution_count": 40,
   "metadata": {},
   "outputs": [],
   "source": [
    "sort_wts = wts_returns.sort_values(by='Returns')"
   ]
  },
  {
   "cell_type": "code",
   "execution_count": 41,
   "metadata": {},
   "outputs": [],
   "source": [
    "sort_wts['Cumulative'] = sort_wts.Weights.cumsum()"
   ]
  },
  {
   "cell_type": "code",
   "execution_count": 42,
   "metadata": {},
   "outputs": [
    {
     "data": {
      "text/html": [
       "<div>\n",
       "<style scoped>\n",
       "    .dataframe tbody tr th:only-of-type {\n",
       "        vertical-align: middle;\n",
       "    }\n",
       "\n",
       "    .dataframe tbody tr th {\n",
       "        vertical-align: top;\n",
       "    }\n",
       "\n",
       "    .dataframe thead th {\n",
       "        text-align: right;\n",
       "    }\n",
       "</style>\n",
       "<table border=\"1\" class=\"dataframe\">\n",
       "  <thead>\n",
       "    <tr style=\"text-align: right;\">\n",
       "      <th></th>\n",
       "      <th>Returns</th>\n",
       "      <th>Weights</th>\n",
       "      <th>Cumulative</th>\n",
       "    </tr>\n",
       "  </thead>\n",
       "  <tbody>\n",
       "    <tr>\n",
       "      <th>112</th>\n",
       "      <td>-3.463700</td>\n",
       "      <td>9.629650e-35</td>\n",
       "      <td>9.629650e-35</td>\n",
       "    </tr>\n",
       "    <tr>\n",
       "      <th>119</th>\n",
       "      <td>-3.116409</td>\n",
       "      <td>7.523164e-37</td>\n",
       "      <td>9.704881e-35</td>\n",
       "    </tr>\n",
       "    <tr>\n",
       "      <th>113</th>\n",
       "      <td>-2.927039</td>\n",
       "      <td>4.814825e-35</td>\n",
       "      <td>1.451971e-34</td>\n",
       "    </tr>\n",
       "    <tr>\n",
       "      <th>227</th>\n",
       "      <td>-2.845546</td>\n",
       "      <td>2.318254e-69</td>\n",
       "      <td>1.451971e-34</td>\n",
       "    </tr>\n",
       "    <tr>\n",
       "      <th>207</th>\n",
       "      <td>-2.821092</td>\n",
       "      <td>2.430865e-63</td>\n",
       "      <td>1.451971e-34</td>\n",
       "    </tr>\n",
       "    <tr>\n",
       "      <th>...</th>\n",
       "      <td>...</td>\n",
       "      <td>...</td>\n",
       "      <td>...</td>\n",
       "    </tr>\n",
       "    <tr>\n",
       "      <th>222</th>\n",
       "      <td>2.660430</td>\n",
       "      <td>7.418412e-68</td>\n",
       "      <td>9.999990e-01</td>\n",
       "    </tr>\n",
       "    <tr>\n",
       "      <th>243</th>\n",
       "      <td>2.668187</td>\n",
       "      <td>3.537375e-74</td>\n",
       "      <td>9.999990e-01</td>\n",
       "    </tr>\n",
       "    <tr>\n",
       "      <th>123</th>\n",
       "      <td>3.145756</td>\n",
       "      <td>4.701977e-38</td>\n",
       "      <td>9.999990e-01</td>\n",
       "    </tr>\n",
       "    <tr>\n",
       "      <th>19</th>\n",
       "      <td>3.624344</td>\n",
       "      <td>9.536743e-07</td>\n",
       "      <td>1.000000e+00</td>\n",
       "    </tr>\n",
       "    <tr>\n",
       "      <th>115</th>\n",
       "      <td>4.803914</td>\n",
       "      <td>1.203706e-35</td>\n",
       "      <td>1.000000e+00</td>\n",
       "    </tr>\n",
       "  </tbody>\n",
       "</table>\n",
       "<p>252 rows × 3 columns</p>\n",
       "</div>"
      ],
      "text/plain": [
       "      Returns       Weights    Cumulative\n",
       "112 -3.463700  9.629650e-35  9.629650e-35\n",
       "119 -3.116409  7.523164e-37  9.704881e-35\n",
       "113 -2.927039  4.814825e-35  1.451971e-34\n",
       "227 -2.845546  2.318254e-69  1.451971e-34\n",
       "207 -2.821092  2.430865e-63  1.451971e-34\n",
       "..        ...           ...           ...\n",
       "222  2.660430  7.418412e-68  9.999990e-01\n",
       "243  2.668187  3.537375e-74  9.999990e-01\n",
       "123  3.145756  4.701977e-38  9.999990e-01\n",
       "19   3.624344  9.536743e-07  1.000000e+00\n",
       "115  4.803914  1.203706e-35  1.000000e+00\n",
       "\n",
       "[252 rows x 3 columns]"
      ]
     },
     "execution_count": 42,
     "metadata": {},
     "output_type": "execute_result"
    }
   ],
   "source": [
    "sort_wts"
   ]
  },
  {
   "cell_type": "code",
   "execution_count": 44,
   "metadata": {},
   "outputs": [
    {
     "data": {
      "text/plain": [
       "37"
      ]
     },
     "execution_count": 44,
     "metadata": {},
     "output_type": "execute_result"
    }
   ],
   "source": [
    "#Find where cumulative (percentile) hits 0.05\n",
    "sort_wts = sort_wts.reset_index().drop(columns=['index'])\n",
    "sort_wts[sort_wts.Cumulative <= 0.05].Returns.idxmax()"
   ]
  },
  {
   "cell_type": "code",
   "execution_count": 39,
   "metadata": {},
   "outputs": [
    {
     "data": {
      "text/html": [
       "<div>\n",
       "<style scoped>\n",
       "    .dataframe tbody tr th:only-of-type {\n",
       "        vertical-align: middle;\n",
       "    }\n",
       "\n",
       "    .dataframe tbody tr th {\n",
       "        vertical-align: top;\n",
       "    }\n",
       "\n",
       "    .dataframe thead th {\n",
       "        text-align: right;\n",
       "    }\n",
       "</style>\n",
       "<table border=\"1\" class=\"dataframe\">\n",
       "  <thead>\n",
       "    <tr style=\"text-align: right;\">\n",
       "      <th></th>\n",
       "      <th>Returns</th>\n",
       "      <th>Weights</th>\n",
       "      <th>Cumulative</th>\n",
       "    </tr>\n",
       "  </thead>\n",
       "  <tbody>\n",
       "    <tr>\n",
       "      <th>37</th>\n",
       "      <td>-0.996234</td>\n",
       "      <td>1.215433e-63</td>\n",
       "      <td>0.002076</td>\n",
       "    </tr>\n",
       "    <tr>\n",
       "      <th>38</th>\n",
       "      <td>-0.957416</td>\n",
       "      <td>5.000000e-01</td>\n",
       "      <td>0.502076</td>\n",
       "    </tr>\n",
       "  </tbody>\n",
       "</table>\n",
       "</div>"
      ],
      "text/plain": [
       "     Returns       Weights  Cumulative\n",
       "37 -0.996234  1.215433e-63    0.002076\n",
       "38 -0.957416  5.000000e-01    0.502076"
      ]
     },
     "execution_count": 39,
     "metadata": {},
     "output_type": "execute_result"
    }
   ],
   "source": [
    "sort_wts.loc[37:38]"
   ]
  },
  {
   "cell_type": "markdown",
   "metadata": {},
   "source": [
    "The reason for the big jump is because the return at index 39 is yesterday's return, so it has a large weight attached to it."
   ]
  },
  {
   "cell_type": "markdown",
   "metadata": {},
   "source": [
    "We can use simple linear interpolation to find the correct return values"
   ]
  },
  {
   "cell_type": "code",
   "execution_count": 38,
   "metadata": {},
   "outputs": [],
   "source": [
    "xp = sort_wts.loc[37:38, 'Cumulative'].values\n",
    "fp = sort_wts.loc[37:38, 'Returns'].values\n",
    "VaR_weighted = np.interp(0.5, xp, fp) #numpy's standard linear interpolation"
   ]
  },
  {
   "cell_type": "code",
   "execution_count": 39,
   "metadata": {},
   "outputs": [
    {
     "name": "stdout",
     "output_type": "stream",
     "text": [
      "Age-weighted VaR is -0.9575771133421019\n"
     ]
    }
   ],
   "source": [
    "print(f'Age-weighted VaR is {VaR_weighted}')"
   ]
  },
  {
   "cell_type": "markdown",
   "metadata": {},
   "source": [
    "We can see that the age-weighted VaR is less than standard HS, indicating that more recent returns weren't as bad. "
   ]
  },
  {
   "cell_type": "markdown",
   "metadata": {},
   "source": [
    "### Volatility-Weighted Historical Simulation"
   ]
  },
  {
   "cell_type": "markdown",
   "metadata": {},
   "source": [
    "This method places more weight on recent changes in volatility. To implement this, we will change the returns by the following formula: $r'_{t,i}=(\\frac{\\sigma_{T,i}}{\\sigma_{t,i}})r_{t,i}$, where $r'$ is the adjusted return of asset _i_ at time _t_, and $\\sigma_{t,i}$ is the forecasted volatility at time _t_ taken at time _t-1_. $\\sigma_{T,i}$ is the most recent forecasted volatility. So if volatility one month ago was only 2%, and today it's 10%, the model will weigh more recent returns more heavily. This makes intuitive sense, and in many ways does a better job than age-weighted VaR at capturing market conditions most likely to result in a loss we are trying to quantify. "
   ]
  },
  {
   "cell_type": "markdown",
   "metadata": {},
   "source": [
    "To implement this, we need to go back to our first dataframe and look at individual asset returns. Then, we'll use a GARCH(1,1) process to model volatility, adjust each return, and finally come up with a new P&L based on these adjusted returns."
   ]
  },
  {
   "cell_type": "code",
   "execution_count": 16,
   "metadata": {},
   "outputs": [],
   "source": [
    "from arch import arch_model"
   ]
  },
  {
   "cell_type": "code",
   "execution_count": 17,
   "metadata": {},
   "outputs": [],
   "source": [
    "#The default is a GARCH(1,1) model\n",
    "vols = pd.DataFrame(index=returns.index)\n",
    "for asset in returns.drop(columns='P&L'):\n",
    "    am = arch_model(returns[asset])\n",
    "    res = am.fit(disp='off')\n",
    "    vols[asset+'_vol'] = res.conditional_volatility"
   ]
  },
  {
   "cell_type": "code",
   "execution_count": 18,
   "metadata": {},
   "outputs": [
    {
     "data": {
      "text/html": [
       "<div>\n",
       "<style scoped>\n",
       "    .dataframe tbody tr th:only-of-type {\n",
       "        vertical-align: middle;\n",
       "    }\n",
       "\n",
       "    .dataframe tbody tr th {\n",
       "        vertical-align: top;\n",
       "    }\n",
       "\n",
       "    .dataframe thead th {\n",
       "        text-align: right;\n",
       "    }\n",
       "</style>\n",
       "<table border=\"1\" class=\"dataframe\">\n",
       "  <thead>\n",
       "    <tr style=\"text-align: right;\">\n",
       "      <th></th>\n",
       "      <th>AAPL_vol</th>\n",
       "      <th>GE_vol</th>\n",
       "      <th>GOOGL_vol</th>\n",
       "      <th>JNJ_vol</th>\n",
       "    </tr>\n",
       "    <tr>\n",
       "      <th>Date</th>\n",
       "      <th></th>\n",
       "      <th></th>\n",
       "      <th></th>\n",
       "      <th></th>\n",
       "    </tr>\n",
       "  </thead>\n",
       "  <tbody>\n",
       "    <tr>\n",
       "      <th>2015-03-13</th>\n",
       "      <td>1.297379</td>\n",
       "      <td>1.793020</td>\n",
       "      <td>1.495111</td>\n",
       "      <td>0.967023</td>\n",
       "    </tr>\n",
       "    <tr>\n",
       "      <th>2015-03-16</th>\n",
       "      <td>1.275132</td>\n",
       "      <td>1.530521</td>\n",
       "      <td>1.750867</td>\n",
       "      <td>0.948289</td>\n",
       "    </tr>\n",
       "    <tr>\n",
       "      <th>2015-03-17</th>\n",
       "      <td>1.288651</td>\n",
       "      <td>1.670491</td>\n",
       "      <td>1.791512</td>\n",
       "      <td>1.078877</td>\n",
       "    </tr>\n",
       "    <tr>\n",
       "      <th>2015-03-18</th>\n",
       "      <td>1.361983</td>\n",
       "      <td>1.102210</td>\n",
       "      <td>1.493387</td>\n",
       "      <td>1.093510</td>\n",
       "    </tr>\n",
       "    <tr>\n",
       "      <th>2015-03-19</th>\n",
       "      <td>1.364794</td>\n",
       "      <td>1.463300</td>\n",
       "      <td>1.707347</td>\n",
       "      <td>1.141917</td>\n",
       "    </tr>\n",
       "  </tbody>\n",
       "</table>\n",
       "</div>"
      ],
      "text/plain": [
       "            AAPL_vol    GE_vol  GOOGL_vol   JNJ_vol\n",
       "Date                                               \n",
       "2015-03-13  1.297379  1.793020   1.495111  0.967023\n",
       "2015-03-16  1.275132  1.530521   1.750867  0.948289\n",
       "2015-03-17  1.288651  1.670491   1.791512  1.078877\n",
       "2015-03-18  1.361983  1.102210   1.493387  1.093510\n",
       "2015-03-19  1.364794  1.463300   1.707347  1.141917"
      ]
     },
     "execution_count": 18,
     "metadata": {},
     "output_type": "execute_result"
    }
   ],
   "source": [
    "vols.head()"
   ]
  },
  {
   "cell_type": "code",
   "execution_count": 19,
   "metadata": {},
   "outputs": [
    {
     "data": {
      "image/png": "[encoded data removed]",
      "text/plain": [
       "<Figure size 432x288 with 2 Axes>"
      ]
     },
     "metadata": {},
     "output_type": "display_data"
    }
   ],
   "source": [
    "fig = res.plot()"
   ]
  },
  {
   "cell_type": "markdown",
   "metadata": {},
   "source": [
    "Now for each stock, we need to take the conditional volatility from our last day, on 3/11/2016, and divide by the volatility on each given day, then multiply that by the return for that day."
   ]
  },
  {
   "cell_type": "markdown",
   "metadata": {},
   "source": [
    "Finally, we multiply each individual return by it's corresponding volatility adjustment, then calculate the new VaR."
   ]
  },
  {
   "cell_type": "code",
   "execution_count": 20,
   "metadata": {},
   "outputs": [],
   "source": [
    "vols2 = vols.copy()\n",
    "vols2['AAPL_vol'] = vols2['AAPL_vol'].apply(lambda x: vols2.AAPL_vol[-1] / x)\n",
    "vols2['GE_vol'] = vols2['GE_vol'].apply(lambda x: vols2.GE_vol[-1] / x)\n",
    "vols2['GOOGL_vol'] = vols2['GOOGL_vol'].apply(lambda x: vols2.GOOGL_vol[-1] / x)\n",
    "vols2['JNJ_vol'] = vols2['JNJ_vol'].apply(lambda x: vols2.JNJ_vol[-1] / x)"
   ]
  },
  {
   "cell_type": "code",
   "execution_count": 21,
   "metadata": {},
   "outputs": [],
   "source": [
    "returns = returns.drop(columns='P&L') #won't need that column anymore"
   ]
  },
  {
   "cell_type": "code",
   "execution_count": 22,
   "metadata": {},
   "outputs": [],
   "source": [
    "vol_adj_portfolio = pd.DataFrame(returns.values * vols2.values, columns=returns.columns,\\\n",
    "                                 index=returns.index)"
   ]
  },
  {
   "cell_type": "code",
   "execution_count": 23,
   "metadata": {},
   "outputs": [
    {
     "data": {
      "text/html": [
       "<div>\n",
       "<style scoped>\n",
       "    .dataframe tbody tr th:only-of-type {\n",
       "        vertical-align: middle;\n",
       "    }\n",
       "\n",
       "    .dataframe tbody tr th {\n",
       "        vertical-align: top;\n",
       "    }\n",
       "\n",
       "    .dataframe thead th {\n",
       "        text-align: right;\n",
       "    }\n",
       "</style>\n",
       "<table border=\"1\" class=\"dataframe\">\n",
       "  <thead>\n",
       "    <tr style=\"text-align: right;\">\n",
       "      <th></th>\n",
       "      <th>AAPL</th>\n",
       "      <th>GE</th>\n",
       "      <th>GOOGL</th>\n",
       "      <th>JNJ</th>\n",
       "    </tr>\n",
       "    <tr>\n",
       "      <th>Date</th>\n",
       "      <th></th>\n",
       "      <th></th>\n",
       "      <th></th>\n",
       "      <th></th>\n",
       "    </tr>\n",
       "  </thead>\n",
       "  <tbody>\n",
       "    <tr>\n",
       "      <th>2015-03-13</th>\n",
       "      <td>-0.789898</td>\n",
       "      <td>-0.830382</td>\n",
       "      <td>-1.477012</td>\n",
       "      <td>-0.539493</td>\n",
       "    </tr>\n",
       "    <tr>\n",
       "      <th>2015-03-16</th>\n",
       "      <td>1.279779</td>\n",
       "      <td>1.123840</td>\n",
       "      <td>1.353522</td>\n",
       "      <td>1.651839</td>\n",
       "    </tr>\n",
       "    <tr>\n",
       "      <th>2015-03-17</th>\n",
       "      <td>1.924905</td>\n",
       "      <td>-0.345932</td>\n",
       "      <td>-0.607515</td>\n",
       "      <td>-0.901420</td>\n",
       "    </tr>\n",
       "    <tr>\n",
       "      <th>2015-03-18</th>\n",
       "      <td>1.225627</td>\n",
       "      <td>1.242658</td>\n",
       "      <td>1.557374</td>\n",
       "      <td>1.207389</td>\n",
       "    </tr>\n",
       "    <tr>\n",
       "      <th>2015-03-19</th>\n",
       "      <td>-0.824651</td>\n",
       "      <td>-0.867970</td>\n",
       "      <td>-0.390722</td>\n",
       "      <td>0.166760</td>\n",
       "    </tr>\n",
       "    <tr>\n",
       "      <th>...</th>\n",
       "      <td>...</td>\n",
       "      <td>...</td>\n",
       "      <td>...</td>\n",
       "      <td>...</td>\n",
       "    </tr>\n",
       "    <tr>\n",
       "      <th>2016-03-07</th>\n",
       "      <td>-0.943898</td>\n",
       "      <td>-0.489700</td>\n",
       "      <td>-2.739301</td>\n",
       "      <td>0.200467</td>\n",
       "    </tr>\n",
       "    <tr>\n",
       "      <th>2016-03-08</th>\n",
       "      <td>-0.724602</td>\n",
       "      <td>-0.721960</td>\n",
       "      <td>0.067265</td>\n",
       "      <td>-0.452951</td>\n",
       "    </tr>\n",
       "    <tr>\n",
       "      <th>2016-03-09</th>\n",
       "      <td>0.081250</td>\n",
       "      <td>-0.029579</td>\n",
       "      <td>1.620373</td>\n",
       "      <td>0.553685</td>\n",
       "    </tr>\n",
       "    <tr>\n",
       "      <th>2016-03-10</th>\n",
       "      <td>0.047287</td>\n",
       "      <td>-0.381499</td>\n",
       "      <td>0.786282</td>\n",
       "      <td>0.271638</td>\n",
       "    </tr>\n",
       "    <tr>\n",
       "      <th>2016-03-11</th>\n",
       "      <td>1.077394</td>\n",
       "      <td>1.336005</td>\n",
       "      <td>1.734570</td>\n",
       "      <td>0.532014</td>\n",
       "    </tr>\n",
       "  </tbody>\n",
       "</table>\n",
       "<p>252 rows × 4 columns</p>\n",
       "</div>"
      ],
      "text/plain": [
       "                AAPL        GE     GOOGL       JNJ\n",
       "Date                                              \n",
       "2015-03-13 -0.789898 -0.830382 -1.477012 -0.539493\n",
       "2015-03-16  1.279779  1.123840  1.353522  1.651839\n",
       "2015-03-17  1.924905 -0.345932 -0.607515 -0.901420\n",
       "2015-03-18  1.225627  1.242658  1.557374  1.207389\n",
       "2015-03-19 -0.824651 -0.867970 -0.390722  0.166760\n",
       "...              ...       ...       ...       ...\n",
       "2016-03-07 -0.943898 -0.489700 -2.739301  0.200467\n",
       "2016-03-08 -0.724602 -0.721960  0.067265 -0.452951\n",
       "2016-03-09  0.081250 -0.029579  1.620373  0.553685\n",
       "2016-03-10  0.047287 -0.381499  0.786282  0.271638\n",
       "2016-03-11  1.077394  1.336005  1.734570  0.532014\n",
       "\n",
       "[252 rows x 4 columns]"
      ]
     },
     "execution_count": 23,
     "metadata": {},
     "output_type": "execute_result"
    }
   ],
   "source": [
    "vol_adj_portfolio #These are the returns adjusted for volatility"
   ]
  },
  {
   "cell_type": "code",
   "execution_count": 24,
   "metadata": {},
   "outputs": [],
   "source": [
    "#Convert volatility-adjusted returns back into P/L\n",
    "weights = [0.2, 0.3, 0.1, 0.4] #same weights as before\n",
    "vol_adjusted_returns = (weights * vol_adj_portfolio.values).sum(axis=1)"
   ]
  },
  {
   "cell_type": "code",
   "execution_count": 25,
   "metadata": {},
   "outputs": [
    {
     "name": "stdout",
     "output_type": "stream",
     "text": [
      "The volitility weighted historical VaR is -1.3324319104468239\n"
     ]
    }
   ],
   "source": [
    "VaR_Vol_Weighted = np.percentile(vol_adjusted_returns, 5, interpolation=\"lower\") \n",
    "print(f'The volitility weighted historical VaR is {VaR_Vol_Weighted}')"
   ]
  },
  {
   "cell_type": "markdown",
   "metadata": {},
   "source": [
    "### Filtered Historical Simulation"
   ]
  },
  {
   "cell_type": "markdown",
   "metadata": {},
   "source": [
    "One way to think about this method is a combination of of volatility-weighted and bootstrap VaR. We are going to make a volatility adjustment (though not quite the same way), then generate bootstrap samples for each set of returns."
   ]
  },
  {
   "cell_type": "markdown",
   "metadata": {},
   "source": [
    "I'm going to use the same volatilities as the previous model, using the last 100 days as our sample period from which we will bootstrap. For this method, we're not doing the same volatility adjustment, but rather dividing each return from the last 100 days by its respective forecasted volatility."
   ]
  },
  {
   "cell_type": "code",
   "execution_count": 89,
   "metadata": {},
   "outputs": [],
   "source": [
    "returns_100 = returns[-101:] #only using 100 days as our sample"
   ]
  },
  {
   "cell_type": "code",
   "execution_count": 90,
   "metadata": {},
   "outputs": [],
   "source": [
    "index = returns.index\n",
    "start_loc = 0\n",
    "end_loc = np.where(index >= '2015-10-19')[0].min()"
   ]
  },
  {
   "cell_type": "code",
   "execution_count": 91,
   "metadata": {},
   "outputs": [],
   "source": [
    "vols = pd.DataFrame(index=returns_100.index)\n",
    "for asset in returns:\n",
    "    forecasts = {}\n",
    "    am = arch_model(returns[asset])\n",
    "    for i in range(101):\n",
    "        res = am.fit(first_obs=i, last_obs=i + end_loc, disp='off')\n",
    "        temp = res.forecast(horizon=1).variance\n",
    "        fcast = temp.iloc[i + end_loc - 1]\n",
    "        forecasts[fcast.name] = fcast\n",
    "    vols[asset+'_vol'] = forecasts.values()"
   ]
  },
  {
   "cell_type": "code",
   "execution_count": 92,
   "metadata": {},
   "outputs": [],
   "source": [
    "#Need to clean up the cells and cast them as floats\n",
    "vols2 = vols.applymap(lambda x: re.sub(r'[\\(\\),]', '', str(x)))\n",
    "\n",
    "vols2 = vols2.astype('float')"
   ]
  },
  {
   "cell_type": "code",
   "execution_count": 93,
   "metadata": {},
   "outputs": [
    {
     "data": {
      "text/html": [
       "<div>\n",
       "<style scoped>\n",
       "    .dataframe tbody tr th:only-of-type {\n",
       "        vertical-align: middle;\n",
       "    }\n",
       "\n",
       "    .dataframe tbody tr th {\n",
       "        vertical-align: top;\n",
       "    }\n",
       "\n",
       "    .dataframe thead th {\n",
       "        text-align: right;\n",
       "    }\n",
       "</style>\n",
       "<table border=\"1\" class=\"dataframe\">\n",
       "  <thead>\n",
       "    <tr style=\"text-align: right;\">\n",
       "      <th></th>\n",
       "      <th>AAPL_vol</th>\n",
       "      <th>GE_vol</th>\n",
       "      <th>GOOGL_vol</th>\n",
       "      <th>JNJ_vol</th>\n",
       "    </tr>\n",
       "    <tr>\n",
       "      <th>Date</th>\n",
       "      <th></th>\n",
       "      <th></th>\n",
       "      <th></th>\n",
       "      <th></th>\n",
       "    </tr>\n",
       "  </thead>\n",
       "  <tbody>\n",
       "    <tr>\n",
       "      <th>2015-10-16</th>\n",
       "      <td>1.343967</td>\n",
       "      <td>3.452761</td>\n",
       "      <td>1.337505</td>\n",
       "      <td>1.072557</td>\n",
       "    </tr>\n",
       "    <tr>\n",
       "      <th>2015-10-19</th>\n",
       "      <td>1.281893</td>\n",
       "      <td>1.051757</td>\n",
       "      <td>1.227259</td>\n",
       "      <td>0.799007</td>\n",
       "    </tr>\n",
       "    <tr>\n",
       "      <th>2015-10-20</th>\n",
       "      <td>1.406275</td>\n",
       "      <td>1.104455</td>\n",
       "      <td>2.743440</td>\n",
       "      <td>0.800071</td>\n",
       "    </tr>\n",
       "    <tr>\n",
       "      <th>2015-10-21</th>\n",
       "      <td>1.317937</td>\n",
       "      <td>0.943224</td>\n",
       "      <td>2.006962</td>\n",
       "      <td>0.752794</td>\n",
       "    </tr>\n",
       "    <tr>\n",
       "      <th>2015-10-22</th>\n",
       "      <td>1.378576</td>\n",
       "      <td>2.641332</td>\n",
       "      <td>1.807142</td>\n",
       "      <td>1.170257</td>\n",
       "    </tr>\n",
       "    <tr>\n",
       "      <th>...</th>\n",
       "      <td>...</td>\n",
       "      <td>...</td>\n",
       "      <td>...</td>\n",
       "      <td>...</td>\n",
       "    </tr>\n",
       "    <tr>\n",
       "      <th>2016-03-07</th>\n",
       "      <td>1.841219</td>\n",
       "      <td>1.280893</td>\n",
       "      <td>1.849696</td>\n",
       "      <td>1.026239</td>\n",
       "    </tr>\n",
       "    <tr>\n",
       "      <th>2016-03-08</th>\n",
       "      <td>1.805857</td>\n",
       "      <td>1.263841</td>\n",
       "      <td>1.662696</td>\n",
       "      <td>1.021982</td>\n",
       "    </tr>\n",
       "    <tr>\n",
       "      <th>2016-03-09</th>\n",
       "      <td>1.768193</td>\n",
       "      <td>1.198931</td>\n",
       "      <td>1.673166</td>\n",
       "      <td>1.007388</td>\n",
       "    </tr>\n",
       "    <tr>\n",
       "      <th>2016-03-10</th>\n",
       "      <td>1.729526</td>\n",
       "      <td>1.155485</td>\n",
       "      <td>1.590748</td>\n",
       "      <td>0.979940</td>\n",
       "    </tr>\n",
       "    <tr>\n",
       "      <th>2016-03-11</th>\n",
       "      <td>1.708521</td>\n",
       "      <td>1.190482</td>\n",
       "      <td>1.634704</td>\n",
       "      <td>0.962338</td>\n",
       "    </tr>\n",
       "  </tbody>\n",
       "</table>\n",
       "<p>101 rows × 4 columns</p>\n",
       "</div>"
      ],
      "text/plain": [
       "            AAPL_vol    GE_vol  GOOGL_vol   JNJ_vol\n",
       "Date                                               \n",
       "2015-10-16  1.343967  3.452761   1.337505  1.072557\n",
       "2015-10-19  1.281893  1.051757   1.227259  0.799007\n",
       "2015-10-20  1.406275  1.104455   2.743440  0.800071\n",
       "2015-10-21  1.317937  0.943224   2.006962  0.752794\n",
       "2015-10-22  1.378576  2.641332   1.807142  1.170257\n",
       "...              ...       ...        ...       ...\n",
       "2016-03-07  1.841219  1.280893   1.849696  1.026239\n",
       "2016-03-08  1.805857  1.263841   1.662696  1.021982\n",
       "2016-03-09  1.768193  1.198931   1.673166  1.007388\n",
       "2016-03-10  1.729526  1.155485   1.590748  0.979940\n",
       "2016-03-11  1.708521  1.190482   1.634704  0.962338\n",
       "\n",
       "[101 rows x 4 columns]"
      ]
     },
     "execution_count": 93,
     "metadata": {},
     "output_type": "execute_result"
    }
   ],
   "source": [
    "\n",
    "vols2 = np.sqrt(vols2) #turn from variance to volatility\n",
    "vols2"
   ]
  },
  {
   "cell_type": "code",
   "execution_count": 73,
   "metadata": {},
   "outputs": [
    {
     "data": {
      "text/plain": [
       "array([[1.34396686, 3.45276082, 1.33750459, 1.07255666],\n",
       "       [1.28189281, 1.05175686, 1.22725946, 0.7990074 ],\n",
       "       [1.40627459, 1.10445534, 2.74344038, 0.8000707 ],\n",
       "       [1.31793728, 0.94322399, 2.00696194, 0.75279399],\n",
       "       [1.37857648, 2.64133175, 1.80714153, 1.17025674],\n",
       "       [1.78590513, 0.96350988, 4.9141341 , 1.0919202 ],\n",
       "       [2.11918318, 0.96448485, 3.09498927, 1.00008749],\n",
       "       [1.92734618, 0.97164851, 1.86659967, 0.91779877],\n",
       "       [2.56398854, 0.95093059, 1.41820135, 0.79215719],\n",
       "       [2.30546387, 0.93630084, 1.48431802, 0.94177652],\n",
       "       [2.11193059, 1.60818247, 1.51840542, 0.81231863],\n",
       "       [2.00186175, 1.89697544, 1.68650049, 1.04119967],\n",
       "       [1.90314402, 1.15517729, 1.28469762, 0.78911879],\n",
       "       [1.73898407, 0.9471279 , 1.33741517, 0.7699484 ],\n",
       "       [1.59160409, 1.01059734, 1.28027541, 0.78612389],\n",
       "       [1.44474574, 1.33518394, 1.1382734 , 0.81567104],\n",
       "       [1.315983  , 1.05941993, 1.4076444 , 1.05610444],\n",
       "       [1.82921642, 1.14467693, 1.22938586, 0.84237651],\n",
       "       [1.69223746, 1.50881503, 1.34237541, 0.79072524],\n",
       "       [1.56691355, 1.5622204 , 1.58802387, 1.30159048],\n",
       "       [1.84540291, 1.21678671, 2.3275876 , 0.91842388],\n",
       "       [1.83036087, 1.16305986, 1.89034673, 0.99270526],\n",
       "       [1.69651371, 1.08498018, 1.48103498, 0.92312344],\n",
       "       [2.02340543, 1.04168657, 1.94880363, 0.96235024],\n",
       "       [1.93109852, 1.02289178, 1.36991849, 0.89632324],\n",
       "       [1.78860496, 1.06884807, 2.15976297, 0.87944018],\n",
       "       [1.73509785, 1.00413643, 1.46574178, 0.83562802],\n",
       "       [1.65424544, 0.94542551, 1.51118516, 0.85069098],\n",
       "       [1.55907461, 0.97241604, 1.22976245, 0.81150376],\n",
       "       [1.44975839, 0.91131721, 1.14431137, 0.79305564],\n",
       "       [1.35923651, 1.01520399, 1.55803918, 0.89042788],\n",
       "       [1.30416121, 0.99167286, 2.57867734, 0.94064792],\n",
       "       [1.26317412, 0.96552281, 1.7912252 , 0.88344404],\n",
       "       [1.22930452, 0.90674216, 1.76270417, 1.11888712],\n",
       "       [1.72735382, 1.02938786, 1.70924427, 1.52265171],\n",
       "       [1.63903171, 0.97858484, 1.51282593, 0.84471207],\n",
       "       [1.54799639, 0.94480666, 1.20566488, 0.99003998],\n",
       "       [1.65109324, 0.95498325, 1.89320471, 0.83181354],\n",
       "       [1.57207387, 0.91886763, 1.40247425, 0.83666299],\n",
       "       [1.72463084, 0.99747008, 1.68233757, 1.01666045],\n",
       "       [1.63688056, 0.93633817, 1.79851163, 0.83237912],\n",
       "       [1.65592336, 0.89491929, 1.36547995, 1.39160929],\n",
       "       [1.59392091, 1.14907624, 2.09080056, 1.04324378],\n",
       "       [1.66267423, 1.11364942, 1.67220115, 1.28110128],\n",
       "       [1.81219375, 1.10369531, 2.01533838, 1.35183358],\n",
       "       [1.76957735, 1.05163183, 1.43686793, 0.87413515],\n",
       "       [1.66610341, 0.99969362, 1.33899593, 1.04277537],\n",
       "       [1.64863712, 1.08127504, 1.17019954, 0.93110541],\n",
       "       [1.56412794, 1.03987429, 1.19407167, 0.81818734],\n",
       "       [1.51959733, 0.98758385, 2.07414183, 0.8682676 ],\n",
       "       [1.59086434, 1.02711037, 1.83295404, 0.91747329],\n",
       "       [1.56955547, 1.01289568, 1.43958029, 0.8282757 ],\n",
       "       [1.61217142, 0.96358717, 1.91478292, 1.04204348],\n",
       "       [1.53260959, 1.05737557, 2.60426571, 1.67609497],\n",
       "       [1.6677917 , 1.00438117, 1.62199465, 0.90584267],\n",
       "       [1.6905773 , 1.12255875, 1.3236795 , 0.89364766],\n",
       "       [2.11535516, 2.05562872, 2.52956411, 1.13284898],\n",
       "       [1.97857683, 1.99260355, 2.07093408, 1.10065787],\n",
       "       [1.95575524, 1.81203949, 1.35946666, 0.93170834],\n",
       "       [1.918069  , 1.648791  , 1.98768529, 0.91645536],\n",
       "       [1.9699069 , 1.61388995, 3.91269249, 1.17459875],\n",
       "       [2.00301769, 1.8719674 , 1.99264913, 1.47342819],\n",
       "       [2.02361772, 1.8868848 , 3.33355811, 1.55119537],\n",
       "       [1.90955279, 1.7181702 , 1.72895497, 0.89309875],\n",
       "       [1.82267061, 1.71761379, 1.40995436, 1.4427532 ],\n",
       "       [1.74582196, 1.77408118, 1.66816131, 0.91821924],\n",
       "       [2.26203846, 1.69605614, 2.76591659, 0.98150661],\n",
       "       [2.19035075, 1.58073374, 2.26509586, 0.88687192],\n",
       "       [2.08323657, 1.49819961, 1.40965474, 2.13008674],\n",
       "       [2.80886468, 1.44843713, 2.76991252, 1.90835589],\n",
       "       [2.57701502, 1.36255132, 4.03388746, 1.70089067],\n",
       "       [2.66407821, 1.74787942, 2.60466499, 1.72426172],\n",
       "       [2.46953366, 1.72601627, 1.91504909, 1.5481536 ],\n",
       "       [2.3667099 , 1.68472119, 1.76592033, 1.44813897],\n",
       "       [2.30866787, 1.65196272, 3.97849786, 1.32175813],\n",
       "       [2.19556673, 1.65858589, 3.12315111, 1.24751502],\n",
       "       [2.20119888, 1.76519246, 1.65700747, 1.74473124],\n",
       "       [2.11750494, 1.70584728, 1.64288593, 1.67649736],\n",
       "       [2.02011204, 1.56683505, 1.63127767, 1.52707916],\n",
       "       [1.94196749, 1.45150771, 1.6226481 , 1.40013152],\n",
       "       [1.86716453, 1.79826092, 1.61284201, 1.28569576],\n",
       "       [1.81076091, 2.04418082, 1.6041842 , 1.20018775],\n",
       "       [1.94841131, 2.02666542, 1.60445011, 1.12237084],\n",
       "       [1.9373535 , 1.94581285, 1.61059805, 1.05602705],\n",
       "       [1.93553339, 1.81704682, 1.61890849, 1.16637775],\n",
       "       [1.87434451, 1.668859  , 1.61360305, 1.11535109],\n",
       "       [1.84120526, 1.60826235, 1.5918728 , 1.07255745],\n",
       "       [1.88004835, 1.50907328, 1.68250766, 1.05843126],\n",
       "       [1.87750838, 1.44176241, 1.54981153, 1.04676535],\n",
       "       [1.83615186, 1.48201314, 1.53051856, 1.09917014],\n",
       "       [1.78176931, 1.37878557, 1.47874382, 1.07798814],\n",
       "       [1.71303704, 1.33823547, 1.50860861, 1.05973947],\n",
       "       [2.05084887, 1.58178294, 2.08477864, 1.19777536],\n",
       "       [1.9573415 , 1.49792306, 1.7930514 , 1.13452029],\n",
       "       [1.89992284, 1.3900041 , 1.70147469, 1.09565829],\n",
       "       [1.87880158, 1.32474339, 1.56650577, 1.05864641],\n",
       "       [1.84121939, 1.28089267, 1.84969626, 1.02623889],\n",
       "       [1.80585679, 1.26384095, 1.66269607, 1.02198231],\n",
       "       [1.76819288, 1.1989313 , 1.67316646, 1.00738808],\n",
       "       [1.72952599, 1.15548501, 1.59074792, 0.97993953]])"
      ]
     },
     "execution_count": 73,
     "metadata": {},
     "output_type": "execute_result"
    }
   ],
   "source": [
    "#Save tomorrow's forecast volatility as variable \n",
    "vol_tomorrow = vols2.iloc[-1].copy().values \n",
    "\n",
    "#Shift down one, because these numbers are 1 day ahead forecasts\n",
    "vols_fhs = vols2.shift(periods=1).values\n",
    "vols_fhs = np.delete(vols_fhs, 0, 0) #need to delete empty first row\n",
    "vols_fhs"
   ]
  },
  {
   "cell_type": "code",
   "execution_count": 74,
   "metadata": {},
   "outputs": [],
   "source": [
    "#Need to drop first row to match volatilies\n",
    "returns_100 = returns_100.drop(pd.Timestamp('2015-10-16'))"
   ]
  },
  {
   "cell_type": "code",
   "execution_count": 75,
   "metadata": {},
   "outputs": [],
   "source": [
    "standardized_returns = pd.DataFrame(returns_100.values/ vols_fhs, \\\n",
    "                                    columns=returns_100.columns,\\\n",
    "                                    index=returns_100.index)"
   ]
  },
  {
   "cell_type": "code",
   "execution_count": 76,
   "metadata": {},
   "outputs": [
    {
     "data": {
      "text/html": [
       "<div>\n",
       "<style scoped>\n",
       "    .dataframe tbody tr th:only-of-type {\n",
       "        vertical-align: middle;\n",
       "    }\n",
       "\n",
       "    .dataframe tbody tr th {\n",
       "        vertical-align: top;\n",
       "    }\n",
       "\n",
       "    .dataframe thead th {\n",
       "        text-align: right;\n",
       "    }\n",
       "</style>\n",
       "<table border=\"1\" class=\"dataframe\">\n",
       "  <thead>\n",
       "    <tr style=\"text-align: right;\">\n",
       "      <th></th>\n",
       "      <th>AAPL</th>\n",
       "      <th>GE</th>\n",
       "      <th>GOOGL</th>\n",
       "      <th>JNJ</th>\n",
       "    </tr>\n",
       "    <tr>\n",
       "      <th>Date</th>\n",
       "      <th></th>\n",
       "      <th></th>\n",
       "      <th></th>\n",
       "      <th></th>\n",
       "    </tr>\n",
       "  </thead>\n",
       "  <tbody>\n",
       "    <tr>\n",
       "      <th>2015-10-19</th>\n",
       "      <td>0.462361</td>\n",
       "      <td>0.009994</td>\n",
       "      <td>0.497853</td>\n",
       "      <td>-0.284717</td>\n",
       "    </tr>\n",
       "    <tr>\n",
       "      <th>2015-10-20</th>\n",
       "      <td>1.424324</td>\n",
       "      <td>-0.688741</td>\n",
       "      <td>-2.322413</td>\n",
       "      <td>-0.447257</td>\n",
       "    </tr>\n",
       "    <tr>\n",
       "      <th>2015-10-21</th>\n",
       "      <td>-0.006250</td>\n",
       "      <td>0.220221</td>\n",
       "      <td>-0.439551</td>\n",
       "      <td>0.051230</td>\n",
       "    </tr>\n",
       "    <tr>\n",
       "      <th>2015-10-22</th>\n",
       "      <td>1.160553</td>\n",
       "      <td>2.682639</td>\n",
       "      <td>0.692736</td>\n",
       "      <td>2.585200</td>\n",
       "    </tr>\n",
       "    <tr>\n",
       "      <th>2015-10-23</th>\n",
       "      <td>2.248382</td>\n",
       "      <td>-0.089594</td>\n",
       "      <td>3.102567</td>\n",
       "      <td>0.669668</td>\n",
       "    </tr>\n",
       "    <tr>\n",
       "      <th>...</th>\n",
       "      <td>...</td>\n",
       "      <td>...</td>\n",
       "      <td>...</td>\n",
       "      <td>...</td>\n",
       "    </tr>\n",
       "    <tr>\n",
       "      <th>2016-03-07</th>\n",
       "      <td>-0.589040</td>\n",
       "      <td>-0.421296</td>\n",
       "      <td>-1.522869</td>\n",
       "      <td>0.212868</td>\n",
       "    </tr>\n",
       "    <tr>\n",
       "      <th>2016-03-08</th>\n",
       "      <td>-0.447845</td>\n",
       "      <td>-0.592810</td>\n",
       "      <td>0.055367</td>\n",
       "      <td>-0.474709</td>\n",
       "    </tr>\n",
       "    <tr>\n",
       "      <th>2016-03-09</th>\n",
       "      <td>0.049330</td>\n",
       "      <td>-0.026322</td>\n",
       "      <td>1.001363</td>\n",
       "      <td>0.571139</td>\n",
       "    </tr>\n",
       "    <tr>\n",
       "      <th>2016-03-10</th>\n",
       "      <td>0.027964</td>\n",
       "      <td>-0.305319</td>\n",
       "      <td>0.556960</td>\n",
       "      <td>0.278734</td>\n",
       "    </tr>\n",
       "    <tr>\n",
       "      <th>2016-03-11</th>\n",
       "      <td>0.622942</td>\n",
       "      <td>1.156229</td>\n",
       "      <td>1.090412</td>\n",
       "      <td>0.542905</td>\n",
       "    </tr>\n",
       "  </tbody>\n",
       "</table>\n",
       "<p>100 rows × 4 columns</p>\n",
       "</div>"
      ],
      "text/plain": [
       "                AAPL        GE     GOOGL       JNJ\n",
       "Date                                              \n",
       "2015-10-19  0.462361  0.009994  0.497853 -0.284717\n",
       "2015-10-20  1.424324 -0.688741 -2.322413 -0.447257\n",
       "2015-10-21 -0.006250  0.220221 -0.439551  0.051230\n",
       "2015-10-22  1.160553  2.682639  0.692736  2.585200\n",
       "2015-10-23  2.248382 -0.089594  3.102567  0.669668\n",
       "...              ...       ...       ...       ...\n",
       "2016-03-07 -0.589040 -0.421296 -1.522869  0.212868\n",
       "2016-03-08 -0.447845 -0.592810  0.055367 -0.474709\n",
       "2016-03-09  0.049330 -0.026322  1.001363  0.571139\n",
       "2016-03-10  0.027964 -0.305319  0.556960  0.278734\n",
       "2016-03-11  0.622942  1.156229  1.090412  0.542905\n",
       "\n",
       "[100 rows x 4 columns]"
      ]
     },
     "execution_count": 76,
     "metadata": {},
     "output_type": "execute_result"
    }
   ],
   "source": [
    "standardized_returns"
   ]
  },
  {
   "cell_type": "code",
   "execution_count": 83,
   "metadata": {},
   "outputs": [
    {
     "data": {
      "text/plain": [
       "(array([-10,  -9,  -8,  -7,  -6,  -5,  -4,  -3,  -2,  -1,   0,   1,   2,\n",
       "          3,   4,   5,   6,   7,   8,   9,  10]),\n",
       " array([-0.12575783, -0.02418663,  0.01919849,  0.10042359, -0.05816197,\n",
       "        -0.079821  ,  0.08441989,  0.03031775, -0.01297016, -0.07618142,\n",
       "         1.        , -0.07618142, -0.01297016,  0.03031775,  0.08441989,\n",
       "        -0.079821  , -0.05816197,  0.10042359,  0.01919849, -0.02418663,\n",
       "        -0.12575783]),\n",
       " <matplotlib.collections.LineCollection at 0x1a1b797310>,\n",
       " <matplotlib.lines.Line2D at 0x1a1b3b82d0>)"
      ]
     },
     "execution_count": 83,
     "metadata": {},
     "output_type": "execute_result"
    },
    {
     "data": {
      "image/png": "[encoded data removed]",
      "text/plain": [
       "<Figure size 432x288 with 1 Axes>"
      ]
     },
     "metadata": {},
     "output_type": "display_data"
    }
   ],
   "source": [
    "plt.acorr(standardized_returns.AAPL) #low autocorrelation"
   ]
  },
  {
   "cell_type": "code",
   "execution_count": 77,
   "metadata": {},
   "outputs": [],
   "source": [
    "nrows = standardized_returns.shape[0]\n",
    "def bootstrap_fhs(data):\n",
    "    '''Draws a random vector of returns and multiplies it \n",
    "       by updated volatility forecast'''\n",
    "    idx = np.random.choice(nrows, 1)\n",
    "    sample = data.iloc[idx, :].values\n",
    "    return sample * vol_tomorrow\n",
    "\n",
    "def draw_bs_reps_fhs(data, size):\n",
    "    \"\"\"Draw bootstrap replicates\"\"\"\n",
    "\n",
    "    # Initialize array of replicates: bs_replicates\n",
    "    bs_replicates = np.empty([size, 4])\n",
    "\n",
    "    # Generate replicates\n",
    "    for i in range(size):\n",
    "        bs_replicates[i] = bootstrap_fhs(data)\n",
    "\n",
    "    return bs_replicates"
   ]
  },
  {
   "cell_type": "markdown",
   "metadata": {},
   "source": [
    "Unlike in regular bootstrap HS, we're going to run a bootstrap on each asset separately, then compute a simulated P&L at the end. In other words, each bootstrap draw doesn't draw an individual return, but a vector of returns for a particular day. This way it preserves correlations between them."
   ]
  },
  {
   "cell_type": "code",
   "execution_count": 78,
   "metadata": {},
   "outputs": [],
   "source": [
    "bootstrap_std_returns = draw_bs_reps_fhs(standardized_returns, 10000)\n",
    "    "
   ]
  },
  {
   "cell_type": "code",
   "execution_count": 79,
   "metadata": {},
   "outputs": [],
   "source": [
    "simulated_PnL = (weights * bootstrap_std_returns).sum(axis=1)"
   ]
  },
  {
   "cell_type": "code",
   "execution_count": 80,
   "metadata": {},
   "outputs": [
    {
     "name": "stdout",
     "output_type": "stream",
     "text": [
      "The filtered historical simulated VaR is -1.5176393048090522\n"
     ]
    }
   ],
   "source": [
    "VaR_FHS = np.percentile(simulated_PnL, 5, interpolation=\"lower\") \n",
    "print(f'The filtered historical simulated VaR is {VaR_FHS}')"
   ]
  },
  {
   "cell_type": "code",
   "execution_count": null,
   "metadata": {},
   "outputs": [],
   "source": []
  }
 ],
 "metadata": {
  "kernelspec": {
   "display_name": "Python 3",
   "language": "python",
   "name": "python3"
  },
  "language_info": {
   "codemirror_mode": {
    "name": "ipython",
    "version": 3
   },
   "file_extension": ".py",
   "mimetype": "text/x-python",
   "name": "python",
   "nbconvert_exporter": "python",
   "pygments_lexer": "ipython3",
   "version": "3.7.7"
  }
 },
 "nbformat": 4,
 "nbformat_minor": 4
}
