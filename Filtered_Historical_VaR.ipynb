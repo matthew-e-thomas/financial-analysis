{
 "cells": [
  {
   "cell_type": "markdown",
   "metadata": {},
   "source": [
    "## Various Examples of Taking Historical VaR"
   ]
  },
  {
   "cell_type": "code",
   "execution_count": 1,
   "metadata": {},
   "outputs": [],
   "source": [
    "import pandas as pd\n",
    "import numpy as np"
   ]
  },
  {
   "cell_type": "code",
   "execution_count": 2,
   "metadata": {},
   "outputs": [],
   "source": [
    "import re\n",
    "import quandl\n",
    "import matplotlib.pyplot as plt"
   ]
  },
  {
   "cell_type": "code",
   "execution_count": 3,
   "metadata": {},
   "outputs": [],
   "source": [
    "import seaborn as sns\n",
    "sns.set_style('darkgrid')"
   ]
  },
  {
   "cell_type": "code",
   "execution_count": 4,
   "metadata": {},
   "outputs": [],
   "source": [
    "quandl.ApiConfig.api_key = \"vtreWrvk7v_uQiCNFaEH\"\n",
    "portfolio = quandl.get([\"WIKI/AAPL\", \"WIKI/GE\", \"WIKI/GOOGL\", \"WIKI/JNJ\"],\\\n",
    "                       start_date=\"2015-03-12\", end_date=\"2016-03-12\",\\\n",
    "                       transformation=\"rdiff\")"
   ]
  },
  {
   "cell_type": "code",
   "execution_count": 5,
   "metadata": {},
   "outputs": [
    {
     "data": {
      "text/html": [
       "<div>\n",
       "<style scoped>\n",
       "    .dataframe tbody tr th:only-of-type {\n",
       "        vertical-align: middle;\n",
       "    }\n",
       "\n",
       "    .dataframe tbody tr th {\n",
       "        vertical-align: top;\n",
       "    }\n",
       "\n",
       "    .dataframe thead th {\n",
       "        text-align: right;\n",
       "    }\n",
       "</style>\n",
       "<table border=\"1\" class=\"dataframe\">\n",
       "  <thead>\n",
       "    <tr style=\"text-align: right;\">\n",
       "      <th></th>\n",
       "      <th>WIKI/AAPL - Open</th>\n",
       "      <th>WIKI/AAPL - High</th>\n",
       "      <th>WIKI/AAPL - Low</th>\n",
       "      <th>WIKI/AAPL - Close</th>\n",
       "      <th>WIKI/AAPL - Volume</th>\n",
       "      <th>WIKI/AAPL - Ex-Dividend</th>\n",
       "      <th>WIKI/AAPL - Split Ratio</th>\n",
       "      <th>WIKI/AAPL - Adj. Open</th>\n",
       "      <th>WIKI/AAPL - Adj. High</th>\n",
       "      <th>WIKI/AAPL - Adj. Low</th>\n",
       "      <th>...</th>\n",
       "      <th>WIKI/JNJ - Low</th>\n",
       "      <th>WIKI/JNJ - Close</th>\n",
       "      <th>WIKI/JNJ - Volume</th>\n",
       "      <th>WIKI/JNJ - Ex-Dividend</th>\n",
       "      <th>WIKI/JNJ - Split Ratio</th>\n",
       "      <th>WIKI/JNJ - Adj. Open</th>\n",
       "      <th>WIKI/JNJ - Adj. High</th>\n",
       "      <th>WIKI/JNJ - Adj. Low</th>\n",
       "      <th>WIKI/JNJ - Adj. Close</th>\n",
       "      <th>WIKI/JNJ - Adj. Volume</th>\n",
       "    </tr>\n",
       "    <tr>\n",
       "      <th>Date</th>\n",
       "      <th></th>\n",
       "      <th></th>\n",
       "      <th></th>\n",
       "      <th></th>\n",
       "      <th></th>\n",
       "      <th></th>\n",
       "      <th></th>\n",
       "      <th></th>\n",
       "      <th></th>\n",
       "      <th></th>\n",
       "      <th></th>\n",
       "      <th></th>\n",
       "      <th></th>\n",
       "      <th></th>\n",
       "      <th></th>\n",
       "      <th></th>\n",
       "      <th></th>\n",
       "      <th></th>\n",
       "      <th></th>\n",
       "      <th></th>\n",
       "      <th></th>\n",
       "    </tr>\n",
       "  </thead>\n",
       "  <tbody>\n",
       "    <tr>\n",
       "      <th>2015-03-13</th>\n",
       "      <td>0.017088</td>\n",
       "      <td>0.003964</td>\n",
       "      <td>0.007811</td>\n",
       "      <td>-0.006910</td>\n",
       "      <td>0.071637</td>\n",
       "      <td>NaN</td>\n",
       "      <td>0.0</td>\n",
       "      <td>0.017088</td>\n",
       "      <td>0.003964</td>\n",
       "      <td>0.007811</td>\n",
       "      <td>...</td>\n",
       "      <td>-0.001930</td>\n",
       "      <td>-0.006211</td>\n",
       "      <td>-0.059654</td>\n",
       "      <td>NaN</td>\n",
       "      <td>0.0</td>\n",
       "      <td>0.008994</td>\n",
       "      <td>-0.001895</td>\n",
       "      <td>-0.001930</td>\n",
       "      <td>-0.006211</td>\n",
       "      <td>-0.059654</td>\n",
       "    </tr>\n",
       "    <tr>\n",
       "      <th>2015-03-16</th>\n",
       "      <td>-0.004180</td>\n",
       "      <td>-0.003550</td>\n",
       "      <td>0.002366</td>\n",
       "      <td>0.011004</td>\n",
       "      <td>-0.307811</td>\n",
       "      <td>NaN</td>\n",
       "      <td>0.0</td>\n",
       "      <td>-0.004180</td>\n",
       "      <td>-0.003550</td>\n",
       "      <td>0.002366</td>\n",
       "      <td>...</td>\n",
       "      <td>0.011159</td>\n",
       "      <td>0.018647</td>\n",
       "      <td>-0.012184</td>\n",
       "      <td>NaN</td>\n",
       "      <td>0.0</td>\n",
       "      <td>-0.001102</td>\n",
       "      <td>0.010195</td>\n",
       "      <td>0.011159</td>\n",
       "      <td>0.018647</td>\n",
       "      <td>-0.012184</td>\n",
       "    </tr>\n",
       "    <tr>\n",
       "      <th>2015-03-17</th>\n",
       "      <td>0.016306</td>\n",
       "      <td>0.018968</td>\n",
       "      <td>0.022626</td>\n",
       "      <td>0.016727</td>\n",
       "      <td>0.422275</td>\n",
       "      <td>NaN</td>\n",
       "      <td>0.0</td>\n",
       "      <td>0.016306</td>\n",
       "      <td>0.018968</td>\n",
       "      <td>0.022626</td>\n",
       "      <td>...</td>\n",
       "      <td>-0.003309</td>\n",
       "      <td>-0.011577</td>\n",
       "      <td>-0.055001</td>\n",
       "      <td>NaN</td>\n",
       "      <td>0.0</td>\n",
       "      <td>0.003710</td>\n",
       "      <td>-0.005442</td>\n",
       "      <td>-0.003309</td>\n",
       "      <td>-0.011577</td>\n",
       "      <td>-0.055001</td>\n",
       "    </tr>\n",
       "    <tr>\n",
       "      <th>2015-03-18</th>\n",
       "      <td>0.008737</td>\n",
       "      <td>0.014452</td>\n",
       "      <td>0.005730</td>\n",
       "      <td>0.011256</td>\n",
       "      <td>0.279243</td>\n",
       "      <td>NaN</td>\n",
       "      <td>0.0</td>\n",
       "      <td>0.008737</td>\n",
       "      <td>0.014452</td>\n",
       "      <td>0.005730</td>\n",
       "      <td>...</td>\n",
       "      <td>-0.002817</td>\n",
       "      <td>0.015717</td>\n",
       "      <td>0.091848</td>\n",
       "      <td>NaN</td>\n",
       "      <td>0.0</td>\n",
       "      <td>-0.002198</td>\n",
       "      <td>0.012137</td>\n",
       "      <td>-0.002817</td>\n",
       "      <td>0.015717</td>\n",
       "      <td>0.091848</td>\n",
       "    </tr>\n",
       "    <tr>\n",
       "      <th>2015-03-19</th>\n",
       "      <td>0.013780</td>\n",
       "      <td>0.000659</td>\n",
       "      <td>0.008151</td>\n",
       "      <td>-0.007589</td>\n",
       "      <td>-0.298164</td>\n",
       "      <td>NaN</td>\n",
       "      <td>0.0</td>\n",
       "      <td>0.013780</td>\n",
       "      <td>0.000659</td>\n",
       "      <td>0.008151</td>\n",
       "      <td>...</td>\n",
       "      <td>0.017956</td>\n",
       "      <td>0.002267</td>\n",
       "      <td>-0.139118</td>\n",
       "      <td>NaN</td>\n",
       "      <td>0.0</td>\n",
       "      <td>0.011513</td>\n",
       "      <td>0.002113</td>\n",
       "      <td>0.017956</td>\n",
       "      <td>0.002267</td>\n",
       "      <td>-0.139118</td>\n",
       "    </tr>\n",
       "  </tbody>\n",
       "</table>\n",
       "<p>5 rows × 48 columns</p>\n",
       "</div>"
      ],
      "text/plain": [
       "            WIKI/AAPL - Open  WIKI/AAPL - High  WIKI/AAPL - Low  \\\n",
       "Date                                                              \n",
       "2015-03-13          0.017088          0.003964         0.007811   \n",
       "2015-03-16         -0.004180         -0.003550         0.002366   \n",
       "2015-03-17          0.016306          0.018968         0.022626   \n",
       "2015-03-18          0.008737          0.014452         0.005730   \n",
       "2015-03-19          0.013780          0.000659         0.008151   \n",
       "\n",
       "            WIKI/AAPL - Close  WIKI/AAPL - Volume  WIKI/AAPL - Ex-Dividend  \\\n",
       "Date                                                                         \n",
       "2015-03-13          -0.006910            0.071637                      NaN   \n",
       "2015-03-16           0.011004           -0.307811                      NaN   \n",
       "2015-03-17           0.016727            0.422275                      NaN   \n",
       "2015-03-18           0.011256            0.279243                      NaN   \n",
       "2015-03-19          -0.007589           -0.298164                      NaN   \n",
       "\n",
       "            WIKI/AAPL - Split Ratio  WIKI/AAPL - Adj. Open  \\\n",
       "Date                                                         \n",
       "2015-03-13                      0.0               0.017088   \n",
       "2015-03-16                      0.0              -0.004180   \n",
       "2015-03-17                      0.0               0.016306   \n",
       "2015-03-18                      0.0               0.008737   \n",
       "2015-03-19                      0.0               0.013780   \n",
       "\n",
       "            WIKI/AAPL - Adj. High  WIKI/AAPL - Adj. Low  ...  WIKI/JNJ - Low  \\\n",
       "Date                                                     ...                   \n",
       "2015-03-13               0.003964              0.007811  ...       -0.001930   \n",
       "2015-03-16              -0.003550              0.002366  ...        0.011159   \n",
       "2015-03-17               0.018968              0.022626  ...       -0.003309   \n",
       "2015-03-18               0.014452              0.005730  ...       -0.002817   \n",
       "2015-03-19               0.000659              0.008151  ...        0.017956   \n",
       "\n",
       "            WIKI/JNJ - Close  WIKI/JNJ - Volume  WIKI/JNJ - Ex-Dividend  \\\n",
       "Date                                                                      \n",
       "2015-03-13         -0.006211          -0.059654                     NaN   \n",
       "2015-03-16          0.018647          -0.012184                     NaN   \n",
       "2015-03-17         -0.011577          -0.055001                     NaN   \n",
       "2015-03-18          0.015717           0.091848                     NaN   \n",
       "2015-03-19          0.002267          -0.139118                     NaN   \n",
       "\n",
       "            WIKI/JNJ - Split Ratio  WIKI/JNJ - Adj. Open  \\\n",
       "Date                                                       \n",
       "2015-03-13                     0.0              0.008994   \n",
       "2015-03-16                     0.0             -0.001102   \n",
       "2015-03-17                     0.0              0.003710   \n",
       "2015-03-18                     0.0             -0.002198   \n",
       "2015-03-19                     0.0              0.011513   \n",
       "\n",
       "            WIKI/JNJ - Adj. High  WIKI/JNJ - Adj. Low  WIKI/JNJ - Adj. Close  \\\n",
       "Date                                                                           \n",
       "2015-03-13             -0.001895            -0.001930              -0.006211   \n",
       "2015-03-16              0.010195             0.011159               0.018647   \n",
       "2015-03-17             -0.005442            -0.003309              -0.011577   \n",
       "2015-03-18              0.012137            -0.002817               0.015717   \n",
       "2015-03-19              0.002113             0.017956               0.002267   \n",
       "\n",
       "            WIKI/JNJ - Adj. Volume  \n",
       "Date                                \n",
       "2015-03-13               -0.059654  \n",
       "2015-03-16               -0.012184  \n",
       "2015-03-17               -0.055001  \n",
       "2015-03-18                0.091848  \n",
       "2015-03-19               -0.139118  \n",
       "\n",
       "[5 rows x 48 columns]"
      ]
     },
     "execution_count": 5,
     "metadata": {},
     "output_type": "execute_result"
    }
   ],
   "source": [
    "portfolio.head()"
   ]
  },
  {
   "cell_type": "code",
   "execution_count": 6,
   "metadata": {},
   "outputs": [
    {
     "data": {
      "text/html": [
       "<div>\n",
       "<style scoped>\n",
       "    .dataframe tbody tr th:only-of-type {\n",
       "        vertical-align: middle;\n",
       "    }\n",
       "\n",
       "    .dataframe tbody tr th {\n",
       "        vertical-align: top;\n",
       "    }\n",
       "\n",
       "    .dataframe thead th {\n",
       "        text-align: right;\n",
       "    }\n",
       "</style>\n",
       "<table border=\"1\" class=\"dataframe\">\n",
       "  <thead>\n",
       "    <tr style=\"text-align: right;\">\n",
       "      <th></th>\n",
       "      <th>AAPL</th>\n",
       "      <th>GE</th>\n",
       "      <th>GOOGL</th>\n",
       "      <th>JNJ</th>\n",
       "    </tr>\n",
       "    <tr>\n",
       "      <th>Date</th>\n",
       "      <th></th>\n",
       "      <th></th>\n",
       "      <th></th>\n",
       "      <th></th>\n",
       "    </tr>\n",
       "  </thead>\n",
       "  <tbody>\n",
       "    <tr>\n",
       "      <th>2015-03-13</th>\n",
       "      <td>-0.006910</td>\n",
       "      <td>-0.014173</td>\n",
       "      <td>-0.014559</td>\n",
       "      <td>-0.006211</td>\n",
       "    </tr>\n",
       "    <tr>\n",
       "      <th>2015-03-16</th>\n",
       "      <td>0.011004</td>\n",
       "      <td>0.016374</td>\n",
       "      <td>0.015624</td>\n",
       "      <td>0.018647</td>\n",
       "    </tr>\n",
       "    <tr>\n",
       "      <th>2015-03-17</th>\n",
       "      <td>0.016727</td>\n",
       "      <td>-0.005501</td>\n",
       "      <td>-0.007175</td>\n",
       "      <td>-0.011577</td>\n",
       "    </tr>\n",
       "    <tr>\n",
       "      <th>2015-03-18</th>\n",
       "      <td>0.011256</td>\n",
       "      <td>0.013038</td>\n",
       "      <td>0.015333</td>\n",
       "      <td>0.015717</td>\n",
       "    </tr>\n",
       "    <tr>\n",
       "      <th>2015-03-19</th>\n",
       "      <td>-0.007589</td>\n",
       "      <td>-0.012090</td>\n",
       "      <td>-0.004398</td>\n",
       "      <td>0.002267</td>\n",
       "    </tr>\n",
       "    <tr>\n",
       "      <th>...</th>\n",
       "      <td>...</td>\n",
       "      <td>...</td>\n",
       "      <td>...</td>\n",
       "      <td>...</td>\n",
       "    </tr>\n",
       "    <tr>\n",
       "      <th>2016-03-07</th>\n",
       "      <td>-0.011067</td>\n",
       "      <td>-0.005581</td>\n",
       "      <td>-0.023856</td>\n",
       "      <td>0.002254</td>\n",
       "    </tr>\n",
       "    <tr>\n",
       "      <th>2016-03-08</th>\n",
       "      <td>-0.008246</td>\n",
       "      <td>-0.007593</td>\n",
       "      <td>0.001024</td>\n",
       "      <td>-0.004872</td>\n",
       "    </tr>\n",
       "    <tr>\n",
       "      <th>2016-03-09</th>\n",
       "      <td>0.000891</td>\n",
       "      <td>-0.000333</td>\n",
       "      <td>0.016650</td>\n",
       "      <td>0.005837</td>\n",
       "    </tr>\n",
       "    <tr>\n",
       "      <th>2016-03-10</th>\n",
       "      <td>0.000494</td>\n",
       "      <td>-0.003661</td>\n",
       "      <td>0.009319</td>\n",
       "      <td>0.002808</td>\n",
       "    </tr>\n",
       "    <tr>\n",
       "      <th>2016-03-11</th>\n",
       "      <td>0.010774</td>\n",
       "      <td>0.013360</td>\n",
       "      <td>0.017346</td>\n",
       "      <td>0.005320</td>\n",
       "    </tr>\n",
       "  </tbody>\n",
       "</table>\n",
       "<p>252 rows × 4 columns</p>\n",
       "</div>"
      ],
      "text/plain": [
       "                AAPL        GE     GOOGL       JNJ\n",
       "Date                                              \n",
       "2015-03-13 -0.006910 -0.014173 -0.014559 -0.006211\n",
       "2015-03-16  0.011004  0.016374  0.015624  0.018647\n",
       "2015-03-17  0.016727 -0.005501 -0.007175 -0.011577\n",
       "2015-03-18  0.011256  0.013038  0.015333  0.015717\n",
       "2015-03-19 -0.007589 -0.012090 -0.004398  0.002267\n",
       "...              ...       ...       ...       ...\n",
       "2016-03-07 -0.011067 -0.005581 -0.023856  0.002254\n",
       "2016-03-08 -0.008246 -0.007593  0.001024 -0.004872\n",
       "2016-03-09  0.000891 -0.000333  0.016650  0.005837\n",
       "2016-03-10  0.000494 -0.003661  0.009319  0.002808\n",
       "2016-03-11  0.010774  0.013360  0.017346  0.005320\n",
       "\n",
       "[252 rows x 4 columns]"
      ]
     },
     "execution_count": 6,
     "metadata": {},
     "output_type": "execute_result"
    }
   ],
   "source": [
    "#We only want Adjusted Close\n",
    "#If someone knows a better way to do this please email me\n",
    "port_close = portfolio[list(portfolio.columns[portfolio.columns.str.\\\n",
    "                                              contains('Adj. Close')])]\n",
    "port_close = port_close.rename(columns={\"WIKI/AAPL - Adj. Close\":\"AAPL\",\\\n",
    "                                       \"WIKI/GE - Adj. Close\":\"GE\",\\\n",
    "                                       \"WIKI/GOOGL - Adj. Close\":\"GOOGL\",\\\n",
    "                                       \"WIKI/JNJ - Adj. Close\":\"JNJ\"})\n",
    "port_close\n"
   ]
  },
  {
   "cell_type": "code",
   "execution_count": 7,
   "metadata": {},
   "outputs": [
    {
     "name": "stdout",
     "output_type": "stream",
     "text": [
      "252\n"
     ]
    }
   ],
   "source": [
    "#confirm number of trading days\n",
    "print(len(port_close))"
   ]
  },
  {
   "cell_type": "code",
   "execution_count": 8,
   "metadata": {},
   "outputs": [
    {
     "data": {
      "text/plain": [
       "array([-9.57415965e-03,  1.61342784e-02, -3.65341038e-03,  1.39830022e-02,\n",
       "       -4.67805290e-03,  1.34688243e-03,  5.24775620e-03, -4.98262010e-03,\n",
       "       -1.76796110e-02, -1.32058387e-03, -1.14947852e-03,  1.36670421e-02,\n",
       "       -1.16613601e-02, -6.63121634e-03,  3.41821318e-03,  4.68740376e-03,\n",
       "       -5.15650722e-05,  1.99577030e-04,  1.46883257e-02,  3.62434360e-02,\n",
       "       -1.55531570e-02, -1.51563553e-03, -1.60915611e-03, -5.69109310e-03,\n",
       "       -5.40597870e-03,  6.78074388e-03, -5.45816342e-03,  7.63357998e-03,\n",
       "        2.59100881e-03,  5.75687297e-03,  1.24084168e-03, -1.45390549e-04,\n",
       "       -5.19077338e-03, -1.25262367e-02,  1.28062381e-02,  3.56522479e-04,\n",
       "       -1.35168914e-02, -5.27517867e-03,  7.08271222e-03,  1.58579717e-02,\n",
       "       -9.17382851e-03, -3.00343076e-03,  2.68776140e-03,  1.37632100e-02,\n",
       "       -4.58696194e-04,  7.05774076e-03,  2.82106052e-03,  2.36850526e-03,\n",
       "        2.03155150e-03, -3.27252936e-03, -9.55394622e-03,  6.26184948e-03,\n",
       "        8.64226010e-04, -1.17781430e-02,  8.15377381e-04,  2.92017408e-04,\n",
       "        3.12360640e-03, -8.19561397e-03, -3.73894693e-03, -5.52804755e-03,\n",
       "        1.17445584e-03,  1.02391956e-02, -7.59916521e-04, -7.57168687e-03,\n",
       "       -6.67889229e-03,  5.09577465e-03,  1.90302958e-03,  1.28981182e-02,\n",
       "       -5.17869118e-03,  4.88667533e-03, -6.27064101e-05, -4.11701297e-03,\n",
       "       -4.33010016e-03,  6.00307026e-04, -1.84900654e-02, -4.75341130e-04,\n",
       "        7.63876269e-03,  1.71931235e-03, -7.25056592e-03,  5.07338293e-03,\n",
       "       -1.77027601e-02,  5.49131119e-04,  1.49268786e-02,  1.19278778e-02,\n",
       "        2.29668043e-03,  5.69239245e-03,  1.14910052e-02,  1.61300902e-02,\n",
       "        2.86893447e-03, -4.96182118e-03, -1.15907761e-02, -7.11471999e-03,\n",
       "       -1.40308390e-02, -3.42431412e-03,  5.95079472e-03,  4.34331473e-03,\n",
       "       -1.69319442e-03, -1.55848893e-03, -7.01956785e-03, -7.46619295e-03,\n",
       "        8.34443829e-03, -6.60768481e-03, -3.83631407e-03,  1.61216557e-02,\n",
       "       -1.54979687e-02,  3.79175661e-03, -2.61759622e-03,  6.53723474e-03,\n",
       "        8.54372595e-03, -5.50680288e-03, -5.94102038e-03, -1.45924568e-02,\n",
       "       -3.46369986e-02, -2.92703855e-02, -1.62575022e-02,  4.80391355e-02,\n",
       "        2.42983425e-02, -3.14848348e-03, -1.17906120e-02, -3.11640941e-02,\n",
       "        2.51572537e-02, -8.50089957e-03, -1.52482211e-02,  3.14575603e-02,\n",
       "       -1.61711996e-02,  9.34341575e-03,  7.74985953e-03,  1.00876711e-03,\n",
       "        1.46618326e-02,  8.65144650e-03, -6.43084416e-03, -1.50500676e-02,\n",
       "        6.41404704e-03, -4.49652037e-03,  9.22275145e-04, -3.50079561e-03,\n",
       "       -9.03904314e-03, -1.21587251e-02,  4.24467912e-03,  1.32447582e-02,\n",
       "       -1.04788800e-03,  1.03925209e-02,  2.23963309e-02,  5.51771791e-04,\n",
       "        1.07596962e-02,  4.71280117e-04,  7.06920827e-03,  2.65976806e-03,\n",
       "       -3.26291560e-03, -9.99250029e-03,  2.06079186e-02,  1.35213452e-02,\n",
       "        7.90697144e-04, -2.80115309e-03, -3.29837071e-04,  1.98248468e-02,\n",
       "        1.42307052e-02, -5.81202318e-03, -9.47066864e-04,  9.24539459e-03,\n",
       "        6.22156967e-03, -8.34676033e-03,  1.37080786e-02,  3.55515953e-03,\n",
       "       -6.48773992e-04,  2.33749367e-03,  1.58516872e-03, -7.64947614e-03,\n",
       "        3.09767466e-04,  6.88606758e-03, -1.30437260e-02, -8.37957559e-03,\n",
       "        1.08244269e-02, -7.29997915e-04,  1.48034876e-02, -6.27180260e-04,\n",
       "        9.87378207e-03, -2.19010456e-03, -1.14573801e-03, -4.72711176e-03,\n",
       "        1.58797394e-03, -8.91509886e-03,  7.85171476e-03, -5.76471282e-03,\n",
       "       -7.43633914e-03,  2.12502097e-02, -1.80155481e-03, -5.06879544e-03,\n",
       "       -4.31144906e-03,  4.31321567e-03, -1.39718748e-02,  2.22706573e-03,\n",
       "        4.48844720e-03,  1.45420538e-02, -1.31652375e-02, -1.62738933e-02,\n",
       "        2.71124773e-03,  5.98353045e-03,  1.03175509e-02, -1.68965877e-03,\n",
       "       -1.34579272e-03,  1.19213408e-02, -6.23985834e-03, -8.51347391e-03,\n",
       "       -1.51761553e-02, -2.77162376e-03, -1.10066712e-02, -2.82109176e-02,\n",
       "       -9.96234355e-03,  2.50055890e-03,  7.95300908e-03, -1.77569102e-02,\n",
       "        2.24376121e-02, -2.11898623e-02,  2.30310528e-03, -1.21425229e-02,\n",
       "        7.23130714e-03,  1.29237030e-02, -9.06451069e-03,  2.38521227e-02,\n",
       "       -1.47611679e-02,  8.39613508e-03,  2.66042985e-02, -5.64282361e-03,\n",
       "       -1.05979793e-02,  7.31261268e-03,  3.43095760e-03, -2.84554613e-02,\n",
       "        4.08212764e-03,  5.65789727e-04, -1.41359303e-03, -1.04071741e-02,\n",
       "        1.00184648e-02,  1.54933209e-02,  1.07530166e-02, -1.63500959e-03,\n",
       "        2.13601859e-03,  9.00779083e-03, -1.06307039e-02,  4.19403170e-03,\n",
       "        1.31049539e-02, -7.85500903e-04, -6.31650427e-03,  2.66818729e-02,\n",
       "        2.41576133e-03, -6.37917018e-04,  4.60804632e-03, -5.37187830e-03,\n",
       "       -5.77338750e-03,  4.07810291e-03,  1.05578432e-03,  1.00254316e-02])"
      ]
     },
     "execution_count": 8,
     "metadata": {},
     "output_type": "execute_result"
    }
   ],
   "source": [
    "#Convert returns into P/L\n",
    "weights = [0.2, 0.3, 0.1, 0.4]\n",
    "returns = (weights * port_close.values).sum(axis=1)\n",
    "returns #array representing daily P&Ls\n"
   ]
  },
  {
   "cell_type": "code",
   "execution_count": 9,
   "metadata": {},
   "outputs": [
    {
     "name": "stdout",
     "output_type": "stream",
     "text": [
      "Volatility is 0.011148145358035322\n"
     ]
    }
   ],
   "source": [
    "#Calculate daily volatility over this period\n",
    "vol = np.std(returns)\n",
    "print(f\"Volatility is {vol}\")"
   ]
  },
  {
   "cell_type": "markdown",
   "metadata": {},
   "source": [
    "### Simple Historical VaR"
   ]
  },
  {
   "cell_type": "code",
   "execution_count": 10,
   "metadata": {},
   "outputs": [
    {
     "data": {
      "text/plain": [
       "array([-3.46369986e-02, -3.11640941e-02, -2.92703855e-02, -2.84554613e-02,\n",
       "       -2.82109176e-02, -2.11898623e-02, -1.84900654e-02, -1.77569102e-02,\n",
       "       -1.77027601e-02, -1.76796110e-02, -1.62738933e-02, -1.62575022e-02,\n",
       "       -1.61711996e-02, -1.55531570e-02, -1.54979687e-02, -1.52482211e-02,\n",
       "       -1.51761553e-02, -1.50500676e-02, -1.47611679e-02, -1.45924568e-02,\n",
       "       -1.40308390e-02, -1.39718748e-02, -1.35168914e-02, -1.31652375e-02,\n",
       "       -1.30437260e-02, -1.25262367e-02, -1.21587251e-02, -1.21425229e-02,\n",
       "       -1.17906120e-02, -1.17781430e-02, -1.16613601e-02, -1.15907761e-02,\n",
       "       -1.10066712e-02, -1.06307039e-02, -1.05979793e-02, -1.04071741e-02,\n",
       "       -9.99250029e-03, -9.96234355e-03, -9.57415965e-03, -9.55394622e-03,\n",
       "       -9.17382851e-03, -9.06451069e-03, -9.03904314e-03, -8.91509886e-03,\n",
       "       -8.51347391e-03, -8.50089957e-03, -8.37957559e-03, -8.34676033e-03,\n",
       "       -8.19561397e-03, -7.64947614e-03, -7.57168687e-03, -7.46619295e-03,\n",
       "       -7.43633914e-03, -7.25056592e-03, -7.11471999e-03, -7.01956785e-03,\n",
       "       -6.67889229e-03, -6.63121634e-03, -6.60768481e-03, -6.43084416e-03,\n",
       "       -6.31650427e-03, -6.23985834e-03, -5.94102038e-03, -5.81202318e-03,\n",
       "       -5.77338750e-03, -5.76471282e-03, -5.69109310e-03, -5.64282361e-03,\n",
       "       -5.52804755e-03, -5.50680288e-03, -5.45816342e-03, -5.40597870e-03,\n",
       "       -5.37187830e-03, -5.27517867e-03, -5.19077338e-03, -5.17869118e-03,\n",
       "       -5.06879544e-03, -4.98262010e-03, -4.96182118e-03, -4.72711176e-03,\n",
       "       -4.67805290e-03, -4.49652037e-03, -4.33010016e-03, -4.31144906e-03,\n",
       "       -4.11701297e-03, -3.83631407e-03, -3.73894693e-03, -3.65341038e-03,\n",
       "       -3.50079561e-03, -3.42431412e-03, -3.27252936e-03, -3.26291560e-03,\n",
       "       -3.14848348e-03, -3.00343076e-03, -2.80115309e-03, -2.77162376e-03,\n",
       "       -2.61759622e-03, -2.19010456e-03, -1.80155481e-03, -1.69319442e-03,\n",
       "       -1.68965877e-03, -1.63500959e-03, -1.60915611e-03, -1.55848893e-03,\n",
       "       -1.51563553e-03, -1.41359303e-03, -1.34579272e-03, -1.32058387e-03,\n",
       "       -1.14947852e-03, -1.14573801e-03, -1.04788800e-03, -9.47066864e-04,\n",
       "       -7.85500903e-04, -7.59916521e-04, -7.29997915e-04, -6.48773992e-04,\n",
       "       -6.37917018e-04, -6.27180260e-04, -4.75341130e-04, -4.58696194e-04,\n",
       "       -3.29837071e-04, -1.45390549e-04, -6.27064101e-05, -5.15650722e-05,\n",
       "        1.99577030e-04,  2.92017408e-04,  3.09767466e-04,  3.56522479e-04,\n",
       "        4.71280117e-04,  5.49131119e-04,  5.51771791e-04,  5.65789727e-04,\n",
       "        6.00307026e-04,  7.90697144e-04,  8.15377381e-04,  8.64226010e-04,\n",
       "        9.22275145e-04,  1.00876711e-03,  1.05578432e-03,  1.17445584e-03,\n",
       "        1.24084168e-03,  1.34688243e-03,  1.58516872e-03,  1.58797394e-03,\n",
       "        1.71931235e-03,  1.90302958e-03,  2.03155150e-03,  2.13601859e-03,\n",
       "        2.22706573e-03,  2.29668043e-03,  2.30310528e-03,  2.33749367e-03,\n",
       "        2.36850526e-03,  2.41576133e-03,  2.50055890e-03,  2.59100881e-03,\n",
       "        2.65976806e-03,  2.68776140e-03,  2.71124773e-03,  2.82106052e-03,\n",
       "        2.86893447e-03,  3.12360640e-03,  3.41821318e-03,  3.43095760e-03,\n",
       "        3.55515953e-03,  3.79175661e-03,  4.07810291e-03,  4.08212764e-03,\n",
       "        4.19403170e-03,  4.24467912e-03,  4.31321567e-03,  4.34331473e-03,\n",
       "        4.48844720e-03,  4.60804632e-03,  4.68740376e-03,  4.88667533e-03,\n",
       "        5.07338293e-03,  5.09577465e-03,  5.24775620e-03,  5.69239245e-03,\n",
       "        5.75687297e-03,  5.95079472e-03,  5.98353045e-03,  6.22156967e-03,\n",
       "        6.26184948e-03,  6.41404704e-03,  6.53723474e-03,  6.78074388e-03,\n",
       "        6.88606758e-03,  7.05774076e-03,  7.06920827e-03,  7.08271222e-03,\n",
       "        7.23130714e-03,  7.31261268e-03,  7.63357998e-03,  7.63876269e-03,\n",
       "        7.74985953e-03,  7.85171476e-03,  7.95300908e-03,  8.34443829e-03,\n",
       "        8.39613508e-03,  8.54372595e-03,  8.65144650e-03,  9.00779083e-03,\n",
       "        9.24539459e-03,  9.34341575e-03,  9.87378207e-03,  1.00184648e-02,\n",
       "        1.00254316e-02,  1.02391956e-02,  1.03175509e-02,  1.03925209e-02,\n",
       "        1.07530166e-02,  1.07596962e-02,  1.08244269e-02,  1.14910052e-02,\n",
       "        1.19213408e-02,  1.19278778e-02,  1.28062381e-02,  1.28981182e-02,\n",
       "        1.29237030e-02,  1.31049539e-02,  1.32447582e-02,  1.35213452e-02,\n",
       "        1.36670421e-02,  1.37080786e-02,  1.37632100e-02,  1.39830022e-02,\n",
       "        1.42307052e-02,  1.45420538e-02,  1.46618326e-02,  1.46883257e-02,\n",
       "        1.48034876e-02,  1.49268786e-02,  1.54933209e-02,  1.58579717e-02,\n",
       "        1.61216557e-02,  1.61300902e-02,  1.61342784e-02,  1.98248468e-02,\n",
       "        2.06079186e-02,  2.12502097e-02,  2.23963309e-02,  2.24376121e-02,\n",
       "        2.38521227e-02,  2.42983425e-02,  2.51572537e-02,  2.66042985e-02,\n",
       "        2.66818729e-02,  3.14575603e-02,  3.62434360e-02,  4.80391355e-02])"
      ]
     },
     "execution_count": 10,
     "metadata": {},
     "output_type": "execute_result"
    }
   ],
   "source": [
    "#To compute simple historic VaR, we simply sort the P&Ls and pick the one at the \n",
    "#percentile we need, in our case 5%\n",
    "np.sort(returns)"
   ]
  },
  {
   "cell_type": "code",
   "execution_count": 11,
   "metadata": {},
   "outputs": [
    {
     "name": "stdout",
     "output_type": "stream",
     "text": [
      "The simple historical VaR is -0.016171199605525266\n"
     ]
    }
   ],
   "source": [
    "historic_var = np.percentile(returns, 5, interpolation=\"lower\")\n",
    "print(f'The simple historical VaR is {historic_var}')\n"
   ]
  },
  {
   "cell_type": "markdown",
   "metadata": {},
   "source": [
    "Note that this VaR is in percentage terms. It can be converted to dollar terms by multiplying it by the total position value."
   ]
  },
  {
   "cell_type": "code",
   "execution_count": 12,
   "metadata": {},
   "outputs": [],
   "source": [
    "port_close['P&L'] = returns #put it back in our dataframe"
   ]
  },
  {
   "cell_type": "code",
   "execution_count": 13,
   "metadata": {},
   "outputs": [
    {
     "data": {
      "text/plain": [
       "<matplotlib.axes._subplots.AxesSubplot at 0x11ad6e110>"
      ]
     },
     "execution_count": 13,
     "metadata": {},
     "output_type": "execute_result"
    },
    {
     "data": {
      "image/png": "[encoded data removed]",
      "text/plain": [
       "<Figure size 432x288 with 1 Axes>"
      ]
     },
     "metadata": {},
     "output_type": "display_data"
    }
   ],
   "source": [
    "port_close['P&L'].plot(kind='hist', title=\"Histogram of P&Ls\")"
   ]
  },
  {
   "cell_type": "code",
   "execution_count": 14,
   "metadata": {},
   "outputs": [],
   "source": [
    "from scipy.stats import kurtosis, skew"
   ]
  },
  {
   "cell_type": "code",
   "execution_count": 15,
   "metadata": {},
   "outputs": [
    {
     "name": "stdout",
     "output_type": "stream",
     "text": [
      "Skew is 0.30275810677546766\n",
      "\n",
      "Kurtosis is 1.6703628605029026\n"
     ]
    }
   ],
   "source": [
    "print(f\"Skew is {skew(returns)}\\n\")\n",
    "print(f\"Kurtosis is {kurtosis(returns)}\")"
   ]
  },
  {
   "cell_type": "markdown",
   "metadata": {},
   "source": [
    "### Bootstrap VaR"
   ]
  },
  {
   "cell_type": "code",
   "execution_count": 16,
   "metadata": {},
   "outputs": [],
   "source": [
    "#This function returns historical VaR at 95% confidence. We will use it to feed bootstrap function\n",
    "def VaR_95(data):\n",
    "    return np.percentile(data, 5, interpolation=\"lower\")"
   ]
  },
  {
   "cell_type": "code",
   "execution_count": 17,
   "metadata": {},
   "outputs": [],
   "source": [
    "#This function will generate random samples with replacement\n",
    "def bootstrap(data, func):\n",
    "    sample = np.random.choice(data, len(data))\n",
    "    return func(sample)"
   ]
  },
  {
   "cell_type": "code",
   "execution_count": 18,
   "metadata": {},
   "outputs": [],
   "source": [
    "def draw_bs_reps(data, func, size):\n",
    "    \"\"\"Draw bootstrap replicates.\"\"\"\n",
    "\n",
    "    # Initialize array of replicates: bs_replicates\n",
    "    bs_replicates = np.empty(size)\n",
    "\n",
    "    # Generate replicates\n",
    "    for i in range(size):\n",
    "        bs_replicates[i] = bootstrap(data, func)\n",
    "\n",
    "    return bs_replicates\n"
   ]
  },
  {
   "cell_type": "markdown",
   "metadata": {},
   "source": [
    "We take 10000 resampled VaR of our data with replacement, then the mean of that is our bootstrap VaR measure"
   ]
  },
  {
   "cell_type": "code",
   "execution_count": 20,
   "metadata": {},
   "outputs": [
    {
     "name": "stdout",
     "output_type": "stream",
     "text": [
      "The Bootstrap VaR measure is -0.016086695958983245\n"
     ]
    }
   ],
   "source": [
    "#Take 10000 bootstrap replicates of portfolio returns\n",
    "bootstrap_VaR = draw_bs_reps(returns, VaR_95, 10000)\n",
    "print(f\"The Bootstrap VaR measure is {np.mean(bootstrap_VaR)}\")"
   ]
  },
  {
   "cell_type": "markdown",
   "metadata": {},
   "source": [
    "This measure is quite close to our simple historical VaR, but slightly lower (higher number, lower VaR)"
   ]
  },
  {
   "cell_type": "code",
   "execution_count": 23,
   "metadata": {},
   "outputs": [
    {
     "data": {
      "text/plain": [
       "Text(0, 0.5, 'PDF')"
      ]
     },
     "execution_count": 23,
     "metadata": {},
     "output_type": "execute_result"
    },
    {
     "data": {
      "image/png": "[encoded data removed]",
      "text/plain": [
       "<Figure size 432x288 with 1 Axes>"
      ]
     },
     "metadata": {},
     "output_type": "display_data"
    }
   ],
   "source": [
    "plt.hist(bootstrap_returns, bins=50, density=True)\n",
    "plt.xlabel('VaR Distribution of 10000 Samples')\n",
    "plt.ylabel('PDF')"
   ]
  },
  {
   "cell_type": "markdown",
   "metadata": {},
   "source": [
    "### Confidence Intervals"
   ]
  },
  {
   "cell_type": "markdown",
   "metadata": {},
   "source": [
    "One of the advantages of bootstrapping is that it allows us to get a fairly good measure of our VaR confidence intervals, which is better than just presenting one number as the VaR. "
   ]
  },
  {
   "cell_type": "code",
   "execution_count": 22,
   "metadata": {},
   "outputs": [
    {
     "name": "stdout",
     "output_type": "stream",
     "text": [
      "The 95% VaR Confidence Interval is [-0.01627389 -0.01403084]\n"
     ]
    }
   ],
   "source": [
    "conf_intervals = np.percentile(bootstrap_returns, [25, 97.5])\n",
    "print(f\"The 95% VaR Confidence Interval is {conf_intervals}\")"
   ]
  },
  {
   "cell_type": "markdown",
   "metadata": {},
   "source": [
    "That's quite a tight interval, so we can be reasonably confident of our measure."
   ]
  },
  {
   "cell_type": "markdown",
   "metadata": {},
   "source": [
    "### Age-weighted Historical Simulation"
   ]
  },
  {
   "cell_type": "markdown",
   "metadata": {},
   "source": [
    "Simple historical simulation suffers from an obvious problem: it weights all days as being equally important, no matter how recent or far back. If you own shares in stocks that are highly seasonal, this is a problem. Another problem are \"ghost effects\", when you get a cluster of volatility somewhere in your date range that has an outsize effect on the VaR calculation. One way to address these problems is to weight recent days more heavily than those further in the past. We use a decay factor $\\lambda$, which is between 0 and 1. A lambda close to one indicates slow decay (values far in the past will still have weight), and close to zero is fast decay. The sum of the weights is 1, and the formula for the weight on day _w(i)_ is $\\frac{\\lambda^{i-1}(1-\\lambda)}{1-\\lambda^{n}}$"
   ]
  },
  {
   "cell_type": "markdown",
   "metadata": {},
   "source": [
    "To calculate VaR, we simply create an array of weights of the same length as our array of returns:"
   ]
  },
  {
   "cell_type": "code",
   "execution_count": 17,
   "metadata": {},
   "outputs": [],
   "source": [
    "lam = 0.5 #we're picking this arbitrarily\n",
    "n = len(returns)\n",
    "wts = [(lam**(i-1) * (1-lam))/(1-lam**n) for i in range(1, n+1)]#want to start on day 1, not day 0"
   ]
  },
  {
   "cell_type": "code",
   "execution_count": 18,
   "metadata": {},
   "outputs": [
    {
     "data": {
      "text/plain": [
       "[0.5,\n",
       " 0.25,\n",
       " 0.125,\n",
       " 0.0625,\n",
       " 0.03125,\n",
       " 0.015625,\n",
       " 0.0078125,\n",
       " 0.00390625,\n",
       " 0.001953125,\n",
       " 0.0009765625,\n",
       " 0.00048828125,\n",
       " 0.000244140625,\n",
       " 0.0001220703125,\n",
       " 6.103515625e-05,\n",
       " 3.0517578125e-05]"
      ]
     },
     "execution_count": 18,
     "metadata": {},
     "output_type": "execute_result"
    }
   ],
   "source": [
    "wts[:15] #We can see how they get smaller and smaller"
   ]
  },
  {
   "cell_type": "markdown",
   "metadata": {},
   "source": [
    "Now we sort the returns and look at the corresponding weights, we want the figure where the sum of the weights is .05 "
   ]
  },
  {
   "cell_type": "code",
   "execution_count": 19,
   "metadata": {},
   "outputs": [],
   "source": [
    "weights_dict = {'Returns':returns, 'Weights':wts}\n",
    "wts_returns = pd.DataFrame(weights_dict)"
   ]
  },
  {
   "cell_type": "code",
   "execution_count": 20,
   "metadata": {},
   "outputs": [],
   "source": [
    "sort_wts = wts_returns.sort_values(by='Returns')"
   ]
  },
  {
   "cell_type": "code",
   "execution_count": 21,
   "metadata": {},
   "outputs": [],
   "source": [
    "sort_wts['Cumulative'] = sort_wts.Weights.cumsum()"
   ]
  },
  {
   "cell_type": "code",
   "execution_count": 22,
   "metadata": {},
   "outputs": [
    {
     "data": {
      "text/html": [
       "<div>\n",
       "<style scoped>\n",
       "    .dataframe tbody tr th:only-of-type {\n",
       "        vertical-align: middle;\n",
       "    }\n",
       "\n",
       "    .dataframe tbody tr th {\n",
       "        vertical-align: top;\n",
       "    }\n",
       "\n",
       "    .dataframe thead th {\n",
       "        text-align: right;\n",
       "    }\n",
       "</style>\n",
       "<table border=\"1\" class=\"dataframe\">\n",
       "  <thead>\n",
       "    <tr style=\"text-align: right;\">\n",
       "      <th></th>\n",
       "      <th>Returns</th>\n",
       "      <th>Weights</th>\n",
       "      <th>Cumulative</th>\n",
       "    </tr>\n",
       "  </thead>\n",
       "  <tbody>\n",
       "    <tr>\n",
       "      <th>112</th>\n",
       "      <td>-0.034637</td>\n",
       "      <td>9.629650e-35</td>\n",
       "      <td>9.629650e-35</td>\n",
       "    </tr>\n",
       "    <tr>\n",
       "      <th>119</th>\n",
       "      <td>-0.031164</td>\n",
       "      <td>7.523164e-37</td>\n",
       "      <td>9.704881e-35</td>\n",
       "    </tr>\n",
       "    <tr>\n",
       "      <th>113</th>\n",
       "      <td>-0.029270</td>\n",
       "      <td>4.814825e-35</td>\n",
       "      <td>1.451971e-34</td>\n",
       "    </tr>\n",
       "    <tr>\n",
       "      <th>227</th>\n",
       "      <td>-0.028455</td>\n",
       "      <td>2.318254e-69</td>\n",
       "      <td>1.451971e-34</td>\n",
       "    </tr>\n",
       "    <tr>\n",
       "      <th>207</th>\n",
       "      <td>-0.028211</td>\n",
       "      <td>2.430865e-63</td>\n",
       "      <td>1.451971e-34</td>\n",
       "    </tr>\n",
       "    <tr>\n",
       "      <th>...</th>\n",
       "      <td>...</td>\n",
       "      <td>...</td>\n",
       "      <td>...</td>\n",
       "    </tr>\n",
       "    <tr>\n",
       "      <th>222</th>\n",
       "      <td>0.026604</td>\n",
       "      <td>7.418412e-68</td>\n",
       "      <td>9.999990e-01</td>\n",
       "    </tr>\n",
       "    <tr>\n",
       "      <th>243</th>\n",
       "      <td>0.026682</td>\n",
       "      <td>3.537375e-74</td>\n",
       "      <td>9.999990e-01</td>\n",
       "    </tr>\n",
       "    <tr>\n",
       "      <th>123</th>\n",
       "      <td>0.031458</td>\n",
       "      <td>4.701977e-38</td>\n",
       "      <td>9.999990e-01</td>\n",
       "    </tr>\n",
       "    <tr>\n",
       "      <th>19</th>\n",
       "      <td>0.036243</td>\n",
       "      <td>9.536743e-07</td>\n",
       "      <td>1.000000e+00</td>\n",
       "    </tr>\n",
       "    <tr>\n",
       "      <th>115</th>\n",
       "      <td>0.048039</td>\n",
       "      <td>1.203706e-35</td>\n",
       "      <td>1.000000e+00</td>\n",
       "    </tr>\n",
       "  </tbody>\n",
       "</table>\n",
       "<p>252 rows × 3 columns</p>\n",
       "</div>"
      ],
      "text/plain": [
       "      Returns       Weights    Cumulative\n",
       "112 -0.034637  9.629650e-35  9.629650e-35\n",
       "119 -0.031164  7.523164e-37  9.704881e-35\n",
       "113 -0.029270  4.814825e-35  1.451971e-34\n",
       "227 -0.028455  2.318254e-69  1.451971e-34\n",
       "207 -0.028211  2.430865e-63  1.451971e-34\n",
       "..        ...           ...           ...\n",
       "222  0.026604  7.418412e-68  9.999990e-01\n",
       "243  0.026682  3.537375e-74  9.999990e-01\n",
       "123  0.031458  4.701977e-38  9.999990e-01\n",
       "19   0.036243  9.536743e-07  1.000000e+00\n",
       "115  0.048039  1.203706e-35  1.000000e+00\n",
       "\n",
       "[252 rows x 3 columns]"
      ]
     },
     "execution_count": 22,
     "metadata": {},
     "output_type": "execute_result"
    }
   ],
   "source": [
    "sort_wts"
   ]
  },
  {
   "cell_type": "code",
   "execution_count": 23,
   "metadata": {},
   "outputs": [
    {
     "data": {
      "text/plain": [
       "37"
      ]
     },
     "execution_count": 23,
     "metadata": {},
     "output_type": "execute_result"
    }
   ],
   "source": [
    "#Find where cumulative (percentile) hits 0.05\n",
    "sort_wts = sort_wts.reset_index().drop(columns=['index'])\n",
    "sort_wts[sort_wts.Cumulative <= 0.05].Returns.idxmax()"
   ]
  },
  {
   "cell_type": "code",
   "execution_count": 31,
   "metadata": {},
   "outputs": [
    {
     "data": {
      "text/html": [
       "<div>\n",
       "<style scoped>\n",
       "    .dataframe tbody tr th:only-of-type {\n",
       "        vertical-align: middle;\n",
       "    }\n",
       "\n",
       "    .dataframe tbody tr th {\n",
       "        vertical-align: top;\n",
       "    }\n",
       "\n",
       "    .dataframe thead th {\n",
       "        text-align: right;\n",
       "    }\n",
       "</style>\n",
       "<table border=\"1\" class=\"dataframe\">\n",
       "  <thead>\n",
       "    <tr style=\"text-align: right;\">\n",
       "      <th></th>\n",
       "      <th>Returns</th>\n",
       "      <th>Weights</th>\n",
       "      <th>Cumulative</th>\n",
       "    </tr>\n",
       "  </thead>\n",
       "  <tbody>\n",
       "    <tr>\n",
       "      <th>37</th>\n",
       "      <td>-0.009962</td>\n",
       "      <td>1.215433e-63</td>\n",
       "      <td>0.002076</td>\n",
       "    </tr>\n",
       "    <tr>\n",
       "      <th>38</th>\n",
       "      <td>-0.009574</td>\n",
       "      <td>5.000000e-01</td>\n",
       "      <td>0.502076</td>\n",
       "    </tr>\n",
       "  </tbody>\n",
       "</table>\n",
       "</div>"
      ],
      "text/plain": [
       "     Returns       Weights  Cumulative\n",
       "37 -0.009962  1.215433e-63    0.002076\n",
       "38 -0.009574  5.000000e-01    0.502076"
      ]
     },
     "execution_count": 31,
     "metadata": {},
     "output_type": "execute_result"
    }
   ],
   "source": [
    "sort_wts.loc[37:38]"
   ]
  },
  {
   "cell_type": "markdown",
   "metadata": {},
   "source": [
    "The reason for the big jump is because the return at index 39 is yesterday's return, so it has a large weight attached to it."
   ]
  },
  {
   "cell_type": "markdown",
   "metadata": {},
   "source": [
    "We can use simple linear interpolation to find the correct return values"
   ]
  },
  {
   "cell_type": "code",
   "execution_count": 32,
   "metadata": {},
   "outputs": [],
   "source": [
    "xp = sort_wts.loc[37:38, 'Cumulative'].values\n",
    "fp = sort_wts.loc[37:38, 'Returns'].values\n",
    "VaR_weighted = np.interp(0.5, xp, fp) #numpy's standard linear interpolation"
   ]
  },
  {
   "cell_type": "code",
   "execution_count": 34,
   "metadata": {},
   "outputs": [
    {
     "name": "stdout",
     "output_type": "stream",
     "text": [
      "-0.00957577113342102\n"
     ]
    }
   ],
   "source": [
    "print(VaR_weighted)"
   ]
  },
  {
   "cell_type": "markdown",
   "metadata": {},
   "source": [
    "We can see that the age-weighted VaR is less than standard HS, indicating that more recent returns weren't as bad. "
   ]
  },
  {
   "cell_type": "markdown",
   "metadata": {},
   "source": [
    "### Volatility-Weighted Historical Simulation"
   ]
  },
  {
   "cell_type": "markdown",
   "metadata": {},
   "source": [
    "This method places more weight on recent changes in volatility. To implement this, we will change the returns by the following formula: $r'_{t,i}=(\\frac{\\sigma_{T,i}}{\\sigma_{t,i}})r_{t,i}$, where $r'$ is the adjusted return of asset _i_ at time _t_, and $\\sigma_{t,i}$ is the forecasted volatility at time _t_ taken at time _t-1_. $\\sigma_{T,i}$ is the most recent forecasted volatility. So if volatility one month ago was only 2%, and today it's 10%, the model will weigh more recent returns more heavily. This makes intuitive sense, and in many ways does a better job than age-weighted VaR at capturing market conditions most likely to result in a loss we are trying to quantify. "
   ]
  },
  {
   "cell_type": "markdown",
   "metadata": {},
   "source": [
    "To implement this, we need to go back to our first dataframe and look at individual asset returns. Then, we'll use a GARCH(1,1) process to forecast volatility, adjust each return, and finally come up with a new P&L based on these adjusted returns."
   ]
  },
  {
   "cell_type": "code",
   "execution_count": 14,
   "metadata": {},
   "outputs": [],
   "source": [
    "from arch import arch_model"
   ]
  },
  {
   "cell_type": "code",
   "execution_count": 15,
   "metadata": {},
   "outputs": [],
   "source": [
    "#need to make the numbers bigger to prevent convergence problems\n",
    "port_close_100 = port_close[-100:].drop(columns='P&L') * 100 #only using 100 days for simplicity"
   ]
  },
  {
   "cell_type": "code",
   "execution_count": 16,
   "metadata": {},
   "outputs": [],
   "source": [
    "port_close = port_close * 100"
   ]
  },
  {
   "cell_type": "code",
   "execution_count": 17,
   "metadata": {},
   "outputs": [],
   "source": [
    "index = port_close.index\n",
    "start_loc = 0\n",
    "end_loc = np.where(index >= '2015-10-20')[0].min()"
   ]
  },
  {
   "cell_type": "code",
   "execution_count": 35,
   "metadata": {},
   "outputs": [],
   "source": [
    "vols = pd.DataFrame(index=port_close_100.index)\n",
    "for asset in port_close.drop(columns='P&L'):\n",
    "    forecasts = {}\n",
    "    am = arch_model(port_close[asset])\n",
    "    for i in range(100):\n",
    "        res = am.fit(first_obs=i, last_obs=i + end_loc, disp='off')\n",
    "        temp = res.forecast(horizon=1).variance\n",
    "        fcast = temp.iloc[i + end_loc - 1]\n",
    "        forecasts[fcast.name] = fcast\n",
    "    vols[asset+'_vol'] = forecasts.values()"
   ]
  },
  {
   "cell_type": "code",
   "execution_count": 36,
   "metadata": {},
   "outputs": [],
   "source": [
    "#Need to clean up the cells and cast them as floats\n",
    "vols2 = vols.applymap(lambda x: re.sub(r'[\\(\\),]', '', str(x)))\n",
    "\n",
    "vols2 = vols2.astype('float')"
   ]
  },
  {
   "cell_type": "code",
   "execution_count": 37,
   "metadata": {},
   "outputs": [
    {
     "data": {
      "text/html": [
       "<div>\n",
       "<style scoped>\n",
       "    .dataframe tbody tr th:only-of-type {\n",
       "        vertical-align: middle;\n",
       "    }\n",
       "\n",
       "    .dataframe tbody tr th {\n",
       "        vertical-align: top;\n",
       "    }\n",
       "\n",
       "    .dataframe thead th {\n",
       "        text-align: right;\n",
       "    }\n",
       "</style>\n",
       "<table border=\"1\" class=\"dataframe\">\n",
       "  <thead>\n",
       "    <tr style=\"text-align: right;\">\n",
       "      <th></th>\n",
       "      <th>AAPL_vol</th>\n",
       "      <th>GE_vol</th>\n",
       "      <th>GOOGL_vol</th>\n",
       "      <th>JNJ_vol</th>\n",
       "    </tr>\n",
       "    <tr>\n",
       "      <th>Date</th>\n",
       "      <th></th>\n",
       "      <th></th>\n",
       "      <th></th>\n",
       "      <th></th>\n",
       "    </tr>\n",
       "  </thead>\n",
       "  <tbody>\n",
       "    <tr>\n",
       "      <th>2015-10-19</th>\n",
       "      <td>0.012839</td>\n",
       "      <td>0.010546</td>\n",
       "      <td>0.012329</td>\n",
       "      <td>0.008059</td>\n",
       "    </tr>\n",
       "    <tr>\n",
       "      <th>2015-10-20</th>\n",
       "      <td>0.014049</td>\n",
       "      <td>0.011077</td>\n",
       "      <td>0.027546</td>\n",
       "      <td>0.008061</td>\n",
       "    </tr>\n",
       "    <tr>\n",
       "      <th>2015-10-21</th>\n",
       "      <td>0.013124</td>\n",
       "      <td>0.009422</td>\n",
       "      <td>0.020051</td>\n",
       "      <td>0.007503</td>\n",
       "    </tr>\n",
       "    <tr>\n",
       "      <th>2015-10-22</th>\n",
       "      <td>0.013759</td>\n",
       "      <td>0.026324</td>\n",
       "      <td>0.018013</td>\n",
       "      <td>0.011611</td>\n",
       "    </tr>\n",
       "    <tr>\n",
       "      <th>2015-10-23</th>\n",
       "      <td>0.017869</td>\n",
       "      <td>0.009632</td>\n",
       "      <td>0.049171</td>\n",
       "      <td>0.010904</td>\n",
       "    </tr>\n",
       "    <tr>\n",
       "      <th>...</th>\n",
       "      <td>...</td>\n",
       "      <td>...</td>\n",
       "      <td>...</td>\n",
       "      <td>...</td>\n",
       "    </tr>\n",
       "    <tr>\n",
       "      <th>2016-03-07</th>\n",
       "      <td>0.018492</td>\n",
       "      <td>0.012745</td>\n",
       "      <td>0.018508</td>\n",
       "      <td>0.010205</td>\n",
       "    </tr>\n",
       "    <tr>\n",
       "      <th>2016-03-08</th>\n",
       "      <td>0.018088</td>\n",
       "      <td>0.012594</td>\n",
       "      <td>0.016597</td>\n",
       "      <td>0.010165</td>\n",
       "    </tr>\n",
       "    <tr>\n",
       "      <th>2016-03-09</th>\n",
       "      <td>0.017680</td>\n",
       "      <td>0.011935</td>\n",
       "      <td>0.016714</td>\n",
       "      <td>0.010033</td>\n",
       "    </tr>\n",
       "    <tr>\n",
       "      <th>2016-03-10</th>\n",
       "      <td>0.017295</td>\n",
       "      <td>0.011521</td>\n",
       "      <td>0.015874</td>\n",
       "      <td>0.009774</td>\n",
       "    </tr>\n",
       "    <tr>\n",
       "      <th>2016-03-11</th>\n",
       "      <td>0.017090</td>\n",
       "      <td>0.011899</td>\n",
       "      <td>0.016367</td>\n",
       "      <td>0.009611</td>\n",
       "    </tr>\n",
       "  </tbody>\n",
       "</table>\n",
       "<p>100 rows × 4 columns</p>\n",
       "</div>"
      ],
      "text/plain": [
       "            AAPL_vol    GE_vol  GOOGL_vol   JNJ_vol\n",
       "Date                                               \n",
       "2015-10-19  0.012839  0.010546   0.012329  0.008059\n",
       "2015-10-20  0.014049  0.011077   0.027546  0.008061\n",
       "2015-10-21  0.013124  0.009422   0.020051  0.007503\n",
       "2015-10-22  0.013759  0.026324   0.018013  0.011611\n",
       "2015-10-23  0.017869  0.009632   0.049171  0.010904\n",
       "...              ...       ...        ...       ...\n",
       "2016-03-07  0.018492  0.012745   0.018508  0.010205\n",
       "2016-03-08  0.018088  0.012594   0.016597  0.010165\n",
       "2016-03-09  0.017680  0.011935   0.016714  0.010033\n",
       "2016-03-10  0.017295  0.011521   0.015874  0.009774\n",
       "2016-03-11  0.017090  0.011899   0.016367  0.009611\n",
       "\n",
       "[100 rows x 4 columns]"
      ]
     },
     "execution_count": 37,
     "metadata": {},
     "output_type": "execute_result"
    }
   ],
   "source": [
    "vols2 = vols2 / 10000 #adjust them back down\n",
    "vols2 = np.sqrt(vols2) #turn from variance to volatility\n",
    "vols2"
   ]
  },
  {
   "cell_type": "markdown",
   "metadata": {},
   "source": [
    "Now for each stock, we need to take the forecasted volatility from our last day, on 3/11/2016, and divide by the volatility on each given day, then multiply that by the return for that day."
   ]
  },
  {
   "cell_type": "code",
   "execution_count": 38,
   "metadata": {},
   "outputs": [],
   "source": [
    "#Save these values for FHS\n",
    "vol_tomorrow = vols2.iloc[-1].copy().values \n",
    "vols_fhs = vols2.copy().values"
   ]
  },
  {
   "cell_type": "code",
   "execution_count": 39,
   "metadata": {},
   "outputs": [],
   "source": [
    "vols2['AAPL_vol'] = vols2['AAPL_vol'].apply(lambda x: vols2.AAPL_vol[-1] / x)\n",
    "vols2['GE_vol'] = vols2['GE_vol'].apply(lambda x: vols2.GE_vol[-1] / x)\n",
    "vols2['GOOGL_vol'] = vols2['GOOGL_vol'].apply(lambda x: vols2.GOOGL_vol[-1] / x)\n",
    "vols2['JNJ_vol'] = vols2['JNJ_vol'].apply(lambda x: vols2.JNJ_vol[-1] / x)"
   ]
  },
  {
   "cell_type": "markdown",
   "metadata": {},
   "source": [
    "Finally, we multiply each individual return by it's corresponding volatility adjustment, then calculate the new VaR."
   ]
  },
  {
   "cell_type": "code",
   "execution_count": 40,
   "metadata": {},
   "outputs": [],
   "source": [
    "vol_adj_portfolio = pd.DataFrame(port_close_100.values / 100 * vols2.values, columns=port_close_100.columns,\\\n",
    "                                 index=port_close_100.index)"
   ]
  },
  {
   "cell_type": "code",
   "execution_count": 41,
   "metadata": {},
   "outputs": [
    {
     "data": {
      "text/html": [
       "<div>\n",
       "<style scoped>\n",
       "    .dataframe tbody tr th:only-of-type {\n",
       "        vertical-align: middle;\n",
       "    }\n",
       "\n",
       "    .dataframe tbody tr th {\n",
       "        vertical-align: top;\n",
       "    }\n",
       "\n",
       "    .dataframe thead th {\n",
       "        text-align: right;\n",
       "    }\n",
       "</style>\n",
       "<table border=\"1\" class=\"dataframe\">\n",
       "  <thead>\n",
       "    <tr style=\"text-align: right;\">\n",
       "      <th></th>\n",
       "      <th>AAPL</th>\n",
       "      <th>GE</th>\n",
       "      <th>GOOGL</th>\n",
       "      <th>JNJ</th>\n",
       "    </tr>\n",
       "    <tr>\n",
       "      <th>Date</th>\n",
       "      <th></th>\n",
       "      <th></th>\n",
       "      <th></th>\n",
       "      <th></th>\n",
       "    </tr>\n",
       "  </thead>\n",
       "  <tbody>\n",
       "    <tr>\n",
       "      <th>2015-10-19</th>\n",
       "      <td>0.008272</td>\n",
       "      <td>0.000389</td>\n",
       "      <td>0.008839</td>\n",
       "      <td>-0.003642</td>\n",
       "    </tr>\n",
       "    <tr>\n",
       "      <th>2015-10-20</th>\n",
       "      <td>0.022211</td>\n",
       "      <td>-0.007782</td>\n",
       "      <td>-0.016935</td>\n",
       "      <td>-0.004261</td>\n",
       "    </tr>\n",
       "    <tr>\n",
       "      <th>2015-10-21</th>\n",
       "      <td>-0.000114</td>\n",
       "      <td>0.003072</td>\n",
       "      <td>-0.009843</td>\n",
       "      <td>0.000525</td>\n",
       "    </tr>\n",
       "    <tr>\n",
       "      <th>2015-10-22</th>\n",
       "      <td>0.018999</td>\n",
       "      <td>0.011438</td>\n",
       "      <td>0.012632</td>\n",
       "      <td>0.016109</td>\n",
       "    </tr>\n",
       "    <tr>\n",
       "      <th>2015-10-23</th>\n",
       "      <td>0.029644</td>\n",
       "      <td>-0.002924</td>\n",
       "      <td>0.018663</td>\n",
       "      <td>0.006908</td>\n",
       "    </tr>\n",
       "    <tr>\n",
       "      <th>...</th>\n",
       "      <td>...</td>\n",
       "      <td>...</td>\n",
       "      <td>...</td>\n",
       "      <td>...</td>\n",
       "    </tr>\n",
       "    <tr>\n",
       "      <th>2016-03-07</th>\n",
       "      <td>-0.010228</td>\n",
       "      <td>-0.005211</td>\n",
       "      <td>-0.021096</td>\n",
       "      <td>0.002122</td>\n",
       "    </tr>\n",
       "    <tr>\n",
       "      <th>2016-03-08</th>\n",
       "      <td>-0.007791</td>\n",
       "      <td>-0.007174</td>\n",
       "      <td>0.001010</td>\n",
       "      <td>-0.004606</td>\n",
       "    </tr>\n",
       "    <tr>\n",
       "      <th>2016-03-09</th>\n",
       "      <td>0.000861</td>\n",
       "      <td>-0.000332</td>\n",
       "      <td>0.016304</td>\n",
       "      <td>0.005592</td>\n",
       "    </tr>\n",
       "    <tr>\n",
       "      <th>2016-03-10</th>\n",
       "      <td>0.000489</td>\n",
       "      <td>-0.003781</td>\n",
       "      <td>0.009608</td>\n",
       "      <td>0.002761</td>\n",
       "    </tr>\n",
       "    <tr>\n",
       "      <th>2016-03-11</th>\n",
       "      <td>0.010774</td>\n",
       "      <td>0.013360</td>\n",
       "      <td>0.017346</td>\n",
       "      <td>0.005320</td>\n",
       "    </tr>\n",
       "  </tbody>\n",
       "</table>\n",
       "<p>100 rows × 4 columns</p>\n",
       "</div>"
      ],
      "text/plain": [
       "                AAPL        GE     GOOGL       JNJ\n",
       "Date                                              \n",
       "2015-10-19  0.008272  0.000389  0.008839 -0.003642\n",
       "2015-10-20  0.022211 -0.007782 -0.016935 -0.004261\n",
       "2015-10-21 -0.000114  0.003072 -0.009843  0.000525\n",
       "2015-10-22  0.018999  0.011438  0.012632  0.016109\n",
       "2015-10-23  0.029644 -0.002924  0.018663  0.006908\n",
       "...              ...       ...       ...       ...\n",
       "2016-03-07 -0.010228 -0.005211 -0.021096  0.002122\n",
       "2016-03-08 -0.007791 -0.007174  0.001010 -0.004606\n",
       "2016-03-09  0.000861 -0.000332  0.016304  0.005592\n",
       "2016-03-10  0.000489 -0.003781  0.009608  0.002761\n",
       "2016-03-11  0.010774  0.013360  0.017346  0.005320\n",
       "\n",
       "[100 rows x 4 columns]"
      ]
     },
     "execution_count": 41,
     "metadata": {},
     "output_type": "execute_result"
    }
   ],
   "source": [
    "vol_adj_portfolio #These are the returns adjusted for volatility"
   ]
  },
  {
   "cell_type": "code",
   "execution_count": 42,
   "metadata": {},
   "outputs": [],
   "source": [
    "#Convert volatility-adjusted returns back into P/L\n",
    "weights = [0.2, 0.3, 0.1, 0.4] #same weights as before\n",
    "vol_adjusted_returns = (weights * vol_adj_portfolio.values).sum(axis=1)"
   ]
  },
  {
   "cell_type": "code",
   "execution_count": 43,
   "metadata": {},
   "outputs": [
    {
     "name": "stdout",
     "output_type": "stream",
     "text": [
      "The volitility weighted historical VaR is -0.013894333058865\n"
     ]
    }
   ],
   "source": [
    "VaR_Vol_Weighted = np.percentile(vol_adjusted_returns, 5, interpolation=\"lower\") \n",
    "print(f'The volitility weighted historical VaR is {VaR_Vol_Weighted}')"
   ]
  },
  {
   "cell_type": "markdown",
   "metadata": {},
   "source": [
    "This VaR is hard to compare with the other because we only looked at the last 100 days, but we can see it's not very far off."
   ]
  },
  {
   "cell_type": "markdown",
   "metadata": {},
   "source": [
    "### Filtered Historical Simulation"
   ]
  },
  {
   "cell_type": "markdown",
   "metadata": {},
   "source": [
    "One way to think about this method is a combination of of volatility-weighted and bootstrap VaR. We are going to make a volatility adjustment (though not quite the same way), then generate bootstrap samples for each set of returns."
   ]
  },
  {
   "cell_type": "markdown",
   "metadata": {},
   "source": [
    "I'm going to use the same volatilities as the previous model, using the last 100 days as our sample period from which we will bootstrap. For this method, we're not doing the same volatility adjustment, but rather dividing each return from the last 100 days by its respective forecasted volatility."
   ]
  },
  {
   "cell_type": "code",
   "execution_count": 44,
   "metadata": {},
   "outputs": [],
   "source": [
    "standardized_returns = pd.DataFrame(port_close_100.values / 100 / vols_fhs, columns=port_close_100.columns,\\\n",
    "                                 index=port_close_100.index)"
   ]
  },
  {
   "cell_type": "code",
   "execution_count": 45,
   "metadata": {},
   "outputs": [
    {
     "data": {
      "text/html": [
       "<div>\n",
       "<style scoped>\n",
       "    .dataframe tbody tr th:only-of-type {\n",
       "        vertical-align: middle;\n",
       "    }\n",
       "\n",
       "    .dataframe tbody tr th {\n",
       "        vertical-align: top;\n",
       "    }\n",
       "\n",
       "    .dataframe thead th {\n",
       "        text-align: right;\n",
       "    }\n",
       "</style>\n",
       "<table border=\"1\" class=\"dataframe\">\n",
       "  <thead>\n",
       "    <tr style=\"text-align: right;\">\n",
       "      <th></th>\n",
       "      <th>AAPL</th>\n",
       "      <th>GE</th>\n",
       "      <th>GOOGL</th>\n",
       "      <th>JNJ</th>\n",
       "    </tr>\n",
       "    <tr>\n",
       "      <th>Date</th>\n",
       "      <th></th>\n",
       "      <th></th>\n",
       "      <th></th>\n",
       "      <th></th>\n",
       "    </tr>\n",
       "  </thead>\n",
       "  <tbody>\n",
       "    <tr>\n",
       "      <th>2015-10-19</th>\n",
       "      <td>0.483999</td>\n",
       "      <td>0.032719</td>\n",
       "      <td>0.540081</td>\n",
       "      <td>-0.378920</td>\n",
       "    </tr>\n",
       "    <tr>\n",
       "      <th>2015-10-20</th>\n",
       "      <td>1.299645</td>\n",
       "      <td>-0.653973</td>\n",
       "      <td>-1.034688</td>\n",
       "      <td>-0.443328</td>\n",
       "    </tr>\n",
       "    <tr>\n",
       "      <th>2015-10-21</th>\n",
       "      <td>-0.006697</td>\n",
       "      <td>0.258146</td>\n",
       "      <td>-0.601420</td>\n",
       "      <td>0.054630</td>\n",
       "    </tr>\n",
       "    <tr>\n",
       "      <th>2015-10-22</th>\n",
       "      <td>1.111699</td>\n",
       "      <td>0.961221</td>\n",
       "      <td>0.771822</td>\n",
       "      <td>1.676116</td>\n",
       "    </tr>\n",
       "    <tr>\n",
       "      <th>2015-10-23</th>\n",
       "      <td>1.734575</td>\n",
       "      <td>-0.245694</td>\n",
       "      <td>1.140264</td>\n",
       "      <td>0.718708</td>\n",
       "    </tr>\n",
       "    <tr>\n",
       "      <th>...</th>\n",
       "      <td>...</td>\n",
       "      <td>...</td>\n",
       "      <td>...</td>\n",
       "      <td>...</td>\n",
       "    </tr>\n",
       "    <tr>\n",
       "      <th>2016-03-07</th>\n",
       "      <td>-0.598484</td>\n",
       "      <td>-0.437891</td>\n",
       "      <td>-1.288945</td>\n",
       "      <td>0.220832</td>\n",
       "    </tr>\n",
       "    <tr>\n",
       "      <th>2016-03-08</th>\n",
       "      <td>-0.455879</td>\n",
       "      <td>-0.602931</td>\n",
       "      <td>0.061706</td>\n",
       "      <td>-0.479257</td>\n",
       "    </tr>\n",
       "    <tr>\n",
       "      <th>2016-03-09</th>\n",
       "      <td>0.050385</td>\n",
       "      <td>-0.027874</td>\n",
       "      <td>0.996141</td>\n",
       "      <td>0.581797</td>\n",
       "    </tr>\n",
       "    <tr>\n",
       "      <th>2016-03-10</th>\n",
       "      <td>0.028590</td>\n",
       "      <td>-0.317742</td>\n",
       "      <td>0.587061</td>\n",
       "      <td>0.287273</td>\n",
       "    </tr>\n",
       "    <tr>\n",
       "      <th>2016-03-11</th>\n",
       "      <td>0.630420</td>\n",
       "      <td>1.122771</td>\n",
       "      <td>1.059799</td>\n",
       "      <td>0.553540</td>\n",
       "    </tr>\n",
       "  </tbody>\n",
       "</table>\n",
       "<p>100 rows × 4 columns</p>\n",
       "</div>"
      ],
      "text/plain": [
       "                AAPL        GE     GOOGL       JNJ\n",
       "Date                                              \n",
       "2015-10-19  0.483999  0.032719  0.540081 -0.378920\n",
       "2015-10-20  1.299645 -0.653973 -1.034688 -0.443328\n",
       "2015-10-21 -0.006697  0.258146 -0.601420  0.054630\n",
       "2015-10-22  1.111699  0.961221  0.771822  1.676116\n",
       "2015-10-23  1.734575 -0.245694  1.140264  0.718708\n",
       "...              ...       ...       ...       ...\n",
       "2016-03-07 -0.598484 -0.437891 -1.288945  0.220832\n",
       "2016-03-08 -0.455879 -0.602931  0.061706 -0.479257\n",
       "2016-03-09  0.050385 -0.027874  0.996141  0.581797\n",
       "2016-03-10  0.028590 -0.317742  0.587061  0.287273\n",
       "2016-03-11  0.630420  1.122771  1.059799  0.553540\n",
       "\n",
       "[100 rows x 4 columns]"
      ]
     },
     "execution_count": 45,
     "metadata": {},
     "output_type": "execute_result"
    }
   ],
   "source": [
    "standardized_returns"
   ]
  },
  {
   "cell_type": "code",
   "execution_count": 46,
   "metadata": {},
   "outputs": [],
   "source": [
    "nrows = standardized_returns.shape[0]\n",
    "def bootstrap_fhs(data):\n",
    "    '''Draws a random vector of returns and multiplies it \n",
    "       by updated volatility forecast'''\n",
    "    idx = np.random.choice(nrows, 1)\n",
    "    sample = data.iloc[idx, :].values\n",
    "    return sample * vol_tomorrow\n",
    "\n",
    "def draw_bs_reps_fhs(data, size):\n",
    "    \"\"\"Draw bootstrap replicates\"\"\"\n",
    "\n",
    "    # Initialize array of replicates: bs_replicates\n",
    "    bs_replicates = np.empty([size, 4])\n",
    "\n",
    "    # Generate replicates\n",
    "    for i in range(size):\n",
    "        bs_replicates[i] = bootstrap_fhs(data)\n",
    "\n",
    "    return bs_replicates"
   ]
  },
  {
   "cell_type": "markdown",
   "metadata": {},
   "source": [
    "Unlike in regular bootstrap HS, we're going to run a bootstrap on each asset separately, then compute a simulated P&L at the end. This way it preserves correlations between them."
   ]
  },
  {
   "cell_type": "code",
   "execution_count": 47,
   "metadata": {},
   "outputs": [],
   "source": [
    "bootstrap_std_returns = draw_bs_reps_fhs(standardized_returns, 10000)\n",
    "    "
   ]
  },
  {
   "cell_type": "code",
   "execution_count": 48,
   "metadata": {},
   "outputs": [],
   "source": [
    "simulated_PnL = (weights * bootstrap_std_returns).sum(axis=1)"
   ]
  },
  {
   "cell_type": "code",
   "execution_count": 49,
   "metadata": {},
   "outputs": [
    {
     "name": "stdout",
     "output_type": "stream",
     "text": [
      "The filtered historical simulated VaR is -0.013894333058864998\n"
     ]
    }
   ],
   "source": [
    "VaR_FHS = np.percentile(simulated_PnL, 5, interpolation=\"lower\") \n",
    "print(f'The filtered historical simulated VaR is {VaR_FHS}')"
   ]
  },
  {
   "cell_type": "code",
   "execution_count": null,
   "metadata": {},
   "outputs": [],
   "source": []
  }
 ],
 "metadata": {
  "kernelspec": {
   "display_name": "Python 3",
   "language": "python",
   "name": "python3"
  },
  "language_info": {
   "codemirror_mode": {
    "name": "ipython",
    "version": 3
   },
   "file_extension": ".py",
   "mimetype": "text/x-python",
   "name": "python",
   "nbconvert_exporter": "python",
   "pygments_lexer": "ipython3",
   "version": "3.7.7"
  }
 },
 "nbformat": 4,
 "nbformat_minor": 4
}
