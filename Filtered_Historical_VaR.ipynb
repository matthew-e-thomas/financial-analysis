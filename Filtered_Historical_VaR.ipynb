{
 "cells": [
  {
   "cell_type": "markdown",
   "metadata": {},
   "source": [
    "## Various Examples of Taking Historical VaR"
   ]
  },
  {
   "cell_type": "code",
   "execution_count": 23,
   "metadata": {},
   "outputs": [],
   "source": [
    "import pandas as pd\n",
    "import numpy as np\n",
    "\n",
    "import re\n",
    "import quandl\n",
    "import matplotlib.pyplot as plt\n",
    "%matplotlib inline\n",
    "\n",
    "import seaborn as sns\n",
    "sns.set_style('darkgrid')"
   ]
  },
  {
   "cell_type": "code",
   "execution_count": 2,
   "metadata": {},
   "outputs": [
    {
     "data": {
      "text/html": [
       "<div>\n",
       "<style scoped>\n",
       "    .dataframe tbody tr th:only-of-type {\n",
       "        vertical-align: middle;\n",
       "    }\n",
       "\n",
       "    .dataframe tbody tr th {\n",
       "        vertical-align: top;\n",
       "    }\n",
       "\n",
       "    .dataframe thead th {\n",
       "        text-align: right;\n",
       "    }\n",
       "</style>\n",
       "<table border=\"1\" class=\"dataframe\">\n",
       "  <thead>\n",
       "    <tr style=\"text-align: right;\">\n",
       "      <th></th>\n",
       "      <th>WIKI/AAPL - Open</th>\n",
       "      <th>WIKI/AAPL - High</th>\n",
       "      <th>WIKI/AAPL - Low</th>\n",
       "      <th>WIKI/AAPL - Close</th>\n",
       "      <th>WIKI/AAPL - Volume</th>\n",
       "      <th>WIKI/AAPL - Ex-Dividend</th>\n",
       "      <th>WIKI/AAPL - Split Ratio</th>\n",
       "      <th>WIKI/AAPL - Adj. Open</th>\n",
       "      <th>WIKI/AAPL - Adj. High</th>\n",
       "      <th>WIKI/AAPL - Adj. Low</th>\n",
       "      <th>...</th>\n",
       "      <th>WIKI/JNJ - Low</th>\n",
       "      <th>WIKI/JNJ - Close</th>\n",
       "      <th>WIKI/JNJ - Volume</th>\n",
       "      <th>WIKI/JNJ - Ex-Dividend</th>\n",
       "      <th>WIKI/JNJ - Split Ratio</th>\n",
       "      <th>WIKI/JNJ - Adj. Open</th>\n",
       "      <th>WIKI/JNJ - Adj. High</th>\n",
       "      <th>WIKI/JNJ - Adj. Low</th>\n",
       "      <th>WIKI/JNJ - Adj. Close</th>\n",
       "      <th>WIKI/JNJ - Adj. Volume</th>\n",
       "    </tr>\n",
       "    <tr>\n",
       "      <th>Date</th>\n",
       "      <th></th>\n",
       "      <th></th>\n",
       "      <th></th>\n",
       "      <th></th>\n",
       "      <th></th>\n",
       "      <th></th>\n",
       "      <th></th>\n",
       "      <th></th>\n",
       "      <th></th>\n",
       "      <th></th>\n",
       "      <th></th>\n",
       "      <th></th>\n",
       "      <th></th>\n",
       "      <th></th>\n",
       "      <th></th>\n",
       "      <th></th>\n",
       "      <th></th>\n",
       "      <th></th>\n",
       "      <th></th>\n",
       "      <th></th>\n",
       "      <th></th>\n",
       "    </tr>\n",
       "  </thead>\n",
       "  <tbody>\n",
       "    <tr>\n",
       "      <th>2015-03-13</th>\n",
       "      <td>0.017088</td>\n",
       "      <td>0.003964</td>\n",
       "      <td>0.007811</td>\n",
       "      <td>-0.006910</td>\n",
       "      <td>0.071637</td>\n",
       "      <td>NaN</td>\n",
       "      <td>0.0</td>\n",
       "      <td>0.017088</td>\n",
       "      <td>0.003964</td>\n",
       "      <td>0.007811</td>\n",
       "      <td>...</td>\n",
       "      <td>-0.001930</td>\n",
       "      <td>-0.006211</td>\n",
       "      <td>-0.059654</td>\n",
       "      <td>NaN</td>\n",
       "      <td>0.0</td>\n",
       "      <td>0.008994</td>\n",
       "      <td>-0.001895</td>\n",
       "      <td>-0.001930</td>\n",
       "      <td>-0.006211</td>\n",
       "      <td>-0.059654</td>\n",
       "    </tr>\n",
       "    <tr>\n",
       "      <th>2015-03-16</th>\n",
       "      <td>-0.004180</td>\n",
       "      <td>-0.003550</td>\n",
       "      <td>0.002366</td>\n",
       "      <td>0.011004</td>\n",
       "      <td>-0.307811</td>\n",
       "      <td>NaN</td>\n",
       "      <td>0.0</td>\n",
       "      <td>-0.004180</td>\n",
       "      <td>-0.003550</td>\n",
       "      <td>0.002366</td>\n",
       "      <td>...</td>\n",
       "      <td>0.011159</td>\n",
       "      <td>0.018647</td>\n",
       "      <td>-0.012184</td>\n",
       "      <td>NaN</td>\n",
       "      <td>0.0</td>\n",
       "      <td>-0.001102</td>\n",
       "      <td>0.010195</td>\n",
       "      <td>0.011159</td>\n",
       "      <td>0.018647</td>\n",
       "      <td>-0.012184</td>\n",
       "    </tr>\n",
       "    <tr>\n",
       "      <th>2015-03-17</th>\n",
       "      <td>0.016306</td>\n",
       "      <td>0.018968</td>\n",
       "      <td>0.022626</td>\n",
       "      <td>0.016727</td>\n",
       "      <td>0.422275</td>\n",
       "      <td>NaN</td>\n",
       "      <td>0.0</td>\n",
       "      <td>0.016306</td>\n",
       "      <td>0.018968</td>\n",
       "      <td>0.022626</td>\n",
       "      <td>...</td>\n",
       "      <td>-0.003309</td>\n",
       "      <td>-0.011577</td>\n",
       "      <td>-0.055001</td>\n",
       "      <td>NaN</td>\n",
       "      <td>0.0</td>\n",
       "      <td>0.003710</td>\n",
       "      <td>-0.005442</td>\n",
       "      <td>-0.003309</td>\n",
       "      <td>-0.011577</td>\n",
       "      <td>-0.055001</td>\n",
       "    </tr>\n",
       "    <tr>\n",
       "      <th>2015-03-18</th>\n",
       "      <td>0.008737</td>\n",
       "      <td>0.014452</td>\n",
       "      <td>0.005730</td>\n",
       "      <td>0.011256</td>\n",
       "      <td>0.279243</td>\n",
       "      <td>NaN</td>\n",
       "      <td>0.0</td>\n",
       "      <td>0.008737</td>\n",
       "      <td>0.014452</td>\n",
       "      <td>0.005730</td>\n",
       "      <td>...</td>\n",
       "      <td>-0.002817</td>\n",
       "      <td>0.015717</td>\n",
       "      <td>0.091848</td>\n",
       "      <td>NaN</td>\n",
       "      <td>0.0</td>\n",
       "      <td>-0.002198</td>\n",
       "      <td>0.012137</td>\n",
       "      <td>-0.002817</td>\n",
       "      <td>0.015717</td>\n",
       "      <td>0.091848</td>\n",
       "    </tr>\n",
       "    <tr>\n",
       "      <th>2015-03-19</th>\n",
       "      <td>0.013780</td>\n",
       "      <td>0.000659</td>\n",
       "      <td>0.008151</td>\n",
       "      <td>-0.007589</td>\n",
       "      <td>-0.298164</td>\n",
       "      <td>NaN</td>\n",
       "      <td>0.0</td>\n",
       "      <td>0.013780</td>\n",
       "      <td>0.000659</td>\n",
       "      <td>0.008151</td>\n",
       "      <td>...</td>\n",
       "      <td>0.017956</td>\n",
       "      <td>0.002267</td>\n",
       "      <td>-0.139118</td>\n",
       "      <td>NaN</td>\n",
       "      <td>0.0</td>\n",
       "      <td>0.011513</td>\n",
       "      <td>0.002113</td>\n",
       "      <td>0.017956</td>\n",
       "      <td>0.002267</td>\n",
       "      <td>-0.139118</td>\n",
       "    </tr>\n",
       "  </tbody>\n",
       "</table>\n",
       "<p>5 rows × 48 columns</p>\n",
       "</div>"
      ],
      "text/plain": [
       "            WIKI/AAPL - Open  WIKI/AAPL - High  WIKI/AAPL - Low  \\\n",
       "Date                                                              \n",
       "2015-03-13          0.017088          0.003964         0.007811   \n",
       "2015-03-16         -0.004180         -0.003550         0.002366   \n",
       "2015-03-17          0.016306          0.018968         0.022626   \n",
       "2015-03-18          0.008737          0.014452         0.005730   \n",
       "2015-03-19          0.013780          0.000659         0.008151   \n",
       "\n",
       "            WIKI/AAPL - Close  WIKI/AAPL - Volume  WIKI/AAPL - Ex-Dividend  \\\n",
       "Date                                                                         \n",
       "2015-03-13          -0.006910            0.071637                      NaN   \n",
       "2015-03-16           0.011004           -0.307811                      NaN   \n",
       "2015-03-17           0.016727            0.422275                      NaN   \n",
       "2015-03-18           0.011256            0.279243                      NaN   \n",
       "2015-03-19          -0.007589           -0.298164                      NaN   \n",
       "\n",
       "            WIKI/AAPL - Split Ratio  WIKI/AAPL - Adj. Open  \\\n",
       "Date                                                         \n",
       "2015-03-13                      0.0               0.017088   \n",
       "2015-03-16                      0.0              -0.004180   \n",
       "2015-03-17                      0.0               0.016306   \n",
       "2015-03-18                      0.0               0.008737   \n",
       "2015-03-19                      0.0               0.013780   \n",
       "\n",
       "            WIKI/AAPL - Adj. High  WIKI/AAPL - Adj. Low  ...  WIKI/JNJ - Low  \\\n",
       "Date                                                     ...                   \n",
       "2015-03-13               0.003964              0.007811  ...       -0.001930   \n",
       "2015-03-16              -0.003550              0.002366  ...        0.011159   \n",
       "2015-03-17               0.018968              0.022626  ...       -0.003309   \n",
       "2015-03-18               0.014452              0.005730  ...       -0.002817   \n",
       "2015-03-19               0.000659              0.008151  ...        0.017956   \n",
       "\n",
       "            WIKI/JNJ - Close  WIKI/JNJ - Volume  WIKI/JNJ - Ex-Dividend  \\\n",
       "Date                                                                      \n",
       "2015-03-13         -0.006211          -0.059654                     NaN   \n",
       "2015-03-16          0.018647          -0.012184                     NaN   \n",
       "2015-03-17         -0.011577          -0.055001                     NaN   \n",
       "2015-03-18          0.015717           0.091848                     NaN   \n",
       "2015-03-19          0.002267          -0.139118                     NaN   \n",
       "\n",
       "            WIKI/JNJ - Split Ratio  WIKI/JNJ - Adj. Open  \\\n",
       "Date                                                       \n",
       "2015-03-13                     0.0              0.008994   \n",
       "2015-03-16                     0.0             -0.001102   \n",
       "2015-03-17                     0.0              0.003710   \n",
       "2015-03-18                     0.0             -0.002198   \n",
       "2015-03-19                     0.0              0.011513   \n",
       "\n",
       "            WIKI/JNJ - Adj. High  WIKI/JNJ - Adj. Low  WIKI/JNJ - Adj. Close  \\\n",
       "Date                                                                           \n",
       "2015-03-13             -0.001895            -0.001930              -0.006211   \n",
       "2015-03-16              0.010195             0.011159               0.018647   \n",
       "2015-03-17             -0.005442            -0.003309              -0.011577   \n",
       "2015-03-18              0.012137            -0.002817               0.015717   \n",
       "2015-03-19              0.002113             0.017956               0.002267   \n",
       "\n",
       "            WIKI/JNJ - Adj. Volume  \n",
       "Date                                \n",
       "2015-03-13               -0.059654  \n",
       "2015-03-16               -0.012184  \n",
       "2015-03-17               -0.055001  \n",
       "2015-03-18                0.091848  \n",
       "2015-03-19               -0.139118  \n",
       "\n",
       "[5 rows x 48 columns]"
      ]
     },
     "execution_count": 2,
     "metadata": {},
     "output_type": "execute_result"
    }
   ],
   "source": [
    "quandl.ApiConfig.api_key = \"vtreWrvk7v_uQiCNFaEH\"\n",
    "portfolio = quandl.get([\"WIKI/AAPL\", \"WIKI/GE\", \"WIKI/GOOGL\", \"WIKI/JNJ\"],\\\n",
    "                       start_date=\"2015-03-12\", end_date=\"2016-03-12\",\\\n",
    "                       transformation=\"rdiff\")\n",
    "\n",
    "portfolio.head()"
   ]
  },
  {
   "cell_type": "code",
   "execution_count": 4,
   "metadata": {},
   "outputs": [
    {
     "data": {
      "text/html": [
       "<div>\n",
       "<style scoped>\n",
       "    .dataframe tbody tr th:only-of-type {\n",
       "        vertical-align: middle;\n",
       "    }\n",
       "\n",
       "    .dataframe tbody tr th {\n",
       "        vertical-align: top;\n",
       "    }\n",
       "\n",
       "    .dataframe thead th {\n",
       "        text-align: right;\n",
       "    }\n",
       "</style>\n",
       "<table border=\"1\" class=\"dataframe\">\n",
       "  <thead>\n",
       "    <tr style=\"text-align: right;\">\n",
       "      <th></th>\n",
       "      <th>AAPL</th>\n",
       "      <th>GE</th>\n",
       "      <th>GOOGL</th>\n",
       "      <th>JNJ</th>\n",
       "    </tr>\n",
       "    <tr>\n",
       "      <th>Date</th>\n",
       "      <th></th>\n",
       "      <th></th>\n",
       "      <th></th>\n",
       "      <th></th>\n",
       "    </tr>\n",
       "  </thead>\n",
       "  <tbody>\n",
       "    <tr>\n",
       "      <th>2015-03-13</th>\n",
       "      <td>-0.691041</td>\n",
       "      <td>-1.417323</td>\n",
       "      <td>-1.455887</td>\n",
       "      <td>-0.621056</td>\n",
       "    </tr>\n",
       "    <tr>\n",
       "      <th>2015-03-16</th>\n",
       "      <td>1.100413</td>\n",
       "      <td>1.637380</td>\n",
       "      <td>1.562387</td>\n",
       "      <td>1.864731</td>\n",
       "    </tr>\n",
       "    <tr>\n",
       "      <th>2015-03-17</th>\n",
       "      <td>1.672669</td>\n",
       "      <td>-0.550098</td>\n",
       "      <td>-0.717541</td>\n",
       "      <td>-1.157728</td>\n",
       "    </tr>\n",
       "    <tr>\n",
       "      <th>2015-03-18</th>\n",
       "      <td>1.125630</td>\n",
       "      <td>1.303832</td>\n",
       "      <td>1.533330</td>\n",
       "      <td>1.571729</td>\n",
       "    </tr>\n",
       "    <tr>\n",
       "      <th>2015-03-19</th>\n",
       "      <td>-0.758932</td>\n",
       "      <td>-1.209048</td>\n",
       "      <td>-0.439805</td>\n",
       "      <td>0.226690</td>\n",
       "    </tr>\n",
       "  </tbody>\n",
       "</table>\n",
       "</div>"
      ],
      "text/plain": [
       "                AAPL        GE     GOOGL       JNJ\n",
       "Date                                              \n",
       "2015-03-13 -0.691041 -1.417323 -1.455887 -0.621056\n",
       "2015-03-16  1.100413  1.637380  1.562387  1.864731\n",
       "2015-03-17  1.672669 -0.550098 -0.717541 -1.157728\n",
       "2015-03-18  1.125630  1.303832  1.533330  1.571729\n",
       "2015-03-19 -0.758932 -1.209048 -0.439805  0.226690"
      ]
     },
     "execution_count": 4,
     "metadata": {},
     "output_type": "execute_result"
    }
   ],
   "source": [
    "#We only want Adjusted Close\n",
    "#If someone knows a better way to do this please email me\n",
    "returns = portfolio[list(portfolio.columns[portfolio.columns.str.\\\n",
    "                                              contains('Adj. Close')])]\n",
    "returns = returns.rename(columns={\"WIKI/AAPL - Adj. Close\":\"AAPL\",\\\n",
    "                                       \"WIKI/GE - Adj. Close\":\"GE\",\\\n",
    "                                       \"WIKI/GOOGL - Adj. Close\":\"GOOGL\",\\\n",
    "                                       \"WIKI/JNJ - Adj. Close\":\"JNJ\"})\n",
    "returns = returns * 100 #convert to percentages\n",
    "returns.head()"
   ]
  },
  {
   "cell_type": "code",
   "execution_count": 5,
   "metadata": {},
   "outputs": [
    {
     "name": "stdout",
     "output_type": "stream",
     "text": [
      "252\n"
     ]
    }
   ],
   "source": [
    "#confirm number of trading days\n",
    "print(len(returns))"
   ]
  },
  {
   "cell_type": "code",
   "execution_count": 6,
   "metadata": {},
   "outputs": [
    {
     "data": {
      "text/plain": [
       "array([-0.95741596,  1.61342784, -0.36534104,  1.39830022, -0.46780529,\n",
       "        0.13468824,  0.52477562, -0.49826201, -1.7679611 , -0.13205839,\n",
       "       -0.11494785,  1.36670421, -1.16613601, -0.66312163,  0.34182132,\n",
       "        0.46874038, -0.00515651,  0.0199577 ,  1.46883257,  3.6243436 ,\n",
       "       -1.5553157 , -0.15156355, -0.16091561, -0.56910931, -0.54059787,\n",
       "        0.67807439, -0.54581634,  0.763358  ,  0.25910088,  0.5756873 ,\n",
       "        0.12408417, -0.01453905, -0.51907734, -1.25262367,  1.28062381,\n",
       "        0.03565225, -1.35168914, -0.52751787,  0.70827122,  1.58579717,\n",
       "       -0.91738285, -0.30034308,  0.26877614,  1.376321  , -0.04586962,\n",
       "        0.70577408,  0.28210605,  0.23685053,  0.20315515, -0.32725294,\n",
       "       -0.95539462,  0.62618495,  0.0864226 , -1.1778143 ,  0.08153774,\n",
       "        0.02920174,  0.31236064, -0.8195614 , -0.37389469, -0.55280475,\n",
       "        0.11744558,  1.02391956, -0.07599165, -0.75716869, -0.66788923,\n",
       "        0.50957747,  0.19030296,  1.28981182, -0.51786912,  0.48866753,\n",
       "       -0.00627064, -0.4117013 , -0.43301002,  0.0600307 , -1.84900654,\n",
       "       -0.04753411,  0.76387627,  0.17193123, -0.72505659,  0.50733829,\n",
       "       -1.77027601,  0.05491311,  1.49268786,  1.19278778,  0.22966804,\n",
       "        0.56923924,  1.14910052,  1.61300902,  0.28689345, -0.49618212,\n",
       "       -1.15907761, -0.711472  , -1.4030839 , -0.34243141,  0.59507947,\n",
       "        0.43433147, -0.16931944, -0.15584889, -0.70195678, -0.7466193 ,\n",
       "        0.83444383, -0.66076848, -0.38363141,  1.61216557, -1.54979687,\n",
       "        0.37917566, -0.26175962,  0.65372347,  0.85437259, -0.55068029,\n",
       "       -0.59410204, -1.45924568, -3.46369986, -2.92703855, -1.62575022,\n",
       "        4.80391355,  2.42983425, -0.31484835, -1.1790612 , -3.11640941,\n",
       "        2.51572537, -0.85008996, -1.52482211,  3.14575603, -1.61711996,\n",
       "        0.93434157,  0.77498595,  0.10087671,  1.46618326,  0.86514465,\n",
       "       -0.64308442, -1.50500676,  0.6414047 , -0.44965204,  0.09222751,\n",
       "       -0.35007956, -0.90390431, -1.21587251,  0.42446791,  1.32447582,\n",
       "       -0.1047888 ,  1.03925209,  2.23963309,  0.05517718,  1.07596962,\n",
       "        0.04712801,  0.70692083,  0.26597681, -0.32629156, -0.99925003,\n",
       "        2.06079186,  1.35213452,  0.07906971, -0.28011531, -0.03298371,\n",
       "        1.98248468,  1.42307052, -0.58120232, -0.09470669,  0.92453946,\n",
       "        0.62215697, -0.83467603,  1.37080786,  0.35551595, -0.0648774 ,\n",
       "        0.23374937,  0.15851687, -0.76494761,  0.03097675,  0.68860676,\n",
       "       -1.3043726 , -0.83795756,  1.08244269, -0.07299979,  1.48034876,\n",
       "       -0.06271803,  0.98737821, -0.21901046, -0.1145738 , -0.47271118,\n",
       "        0.15879739, -0.89150989,  0.78517148, -0.57647128, -0.74363391,\n",
       "        2.12502097, -0.18015548, -0.50687954, -0.43114491,  0.43132157,\n",
       "       -1.39718748,  0.22270657,  0.44884472,  1.45420538, -1.31652375,\n",
       "       -1.62738933,  0.27112477,  0.59835305,  1.03175509, -0.16896588,\n",
       "       -0.13457927,  1.19213408, -0.62398583, -0.85134739, -1.51761553,\n",
       "       -0.27716238, -1.10066712, -2.82109176, -0.99623435,  0.25005589,\n",
       "        0.79530091, -1.77569102,  2.24376121, -2.11898623,  0.23031053,\n",
       "       -1.21425229,  0.72313071,  1.2923703 , -0.90645107,  2.38521227,\n",
       "       -1.47611679,  0.83961351,  2.66042985, -0.56428236, -1.05979793,\n",
       "        0.73126127,  0.34309576, -2.84554613,  0.40821276,  0.05657897,\n",
       "       -0.1413593 , -1.04071741,  1.00184648,  1.54933209,  1.07530166,\n",
       "       -0.16350096,  0.21360186,  0.90077908, -1.06307039,  0.41940317,\n",
       "        1.31049539, -0.07855009, -0.63165043,  2.66818729,  0.24157613,\n",
       "       -0.0637917 ,  0.46080463, -0.53718783, -0.57733875,  0.40781029,\n",
       "        0.10557843,  1.00254316])"
      ]
     },
     "execution_count": 6,
     "metadata": {},
     "output_type": "execute_result"
    }
   ],
   "source": [
    "#Convert returns into P/L\n",
    "weights = [0.2, 0.3, 0.1, 0.4]\n",
    "PnL = (weights * returns.values).sum(axis=1)\n",
    "PnL #array representing daily P&Ls\n"
   ]
  },
  {
   "cell_type": "code",
   "execution_count": 7,
   "metadata": {},
   "outputs": [
    {
     "name": "stdout",
     "output_type": "stream",
     "text": [
      "Volatility is 1.1148145358035322\n"
     ]
    }
   ],
   "source": [
    "#Calculate daily volatility over this period\n",
    "vol = np.std(PnL)\n",
    "print(f\"Volatility is {vol}\")"
   ]
  },
  {
   "cell_type": "markdown",
   "metadata": {},
   "source": [
    "### Simple Historical VaR"
   ]
  },
  {
   "cell_type": "code",
   "execution_count": 8,
   "metadata": {},
   "outputs": [
    {
     "data": {
      "text/plain": [
       "array([-3.46369986, -3.11640941, -2.92703855, -2.84554613, -2.82109176,\n",
       "       -2.11898623, -1.84900654, -1.77569102, -1.77027601, -1.7679611 ,\n",
       "       -1.62738933, -1.62575022, -1.61711996, -1.5553157 , -1.54979687,\n",
       "       -1.52482211, -1.51761553, -1.50500676, -1.47611679, -1.45924568,\n",
       "       -1.4030839 , -1.39718748, -1.35168914, -1.31652375, -1.3043726 ,\n",
       "       -1.25262367, -1.21587251, -1.21425229, -1.1790612 , -1.1778143 ,\n",
       "       -1.16613601, -1.15907761, -1.10066712, -1.06307039, -1.05979793,\n",
       "       -1.04071741, -0.99925003, -0.99623435, -0.95741596, -0.95539462,\n",
       "       -0.91738285, -0.90645107, -0.90390431, -0.89150989, -0.85134739,\n",
       "       -0.85008996, -0.83795756, -0.83467603, -0.8195614 , -0.76494761,\n",
       "       -0.75716869, -0.7466193 , -0.74363391, -0.72505659, -0.711472  ,\n",
       "       -0.70195678, -0.66788923, -0.66312163, -0.66076848, -0.64308442,\n",
       "       -0.63165043, -0.62398583, -0.59410204, -0.58120232, -0.57733875,\n",
       "       -0.57647128, -0.56910931, -0.56428236, -0.55280475, -0.55068029,\n",
       "       -0.54581634, -0.54059787, -0.53718783, -0.52751787, -0.51907734,\n",
       "       -0.51786912, -0.50687954, -0.49826201, -0.49618212, -0.47271118,\n",
       "       -0.46780529, -0.44965204, -0.43301002, -0.43114491, -0.4117013 ,\n",
       "       -0.38363141, -0.37389469, -0.36534104, -0.35007956, -0.34243141,\n",
       "       -0.32725294, -0.32629156, -0.31484835, -0.30034308, -0.28011531,\n",
       "       -0.27716238, -0.26175962, -0.21901046, -0.18015548, -0.16931944,\n",
       "       -0.16896588, -0.16350096, -0.16091561, -0.15584889, -0.15156355,\n",
       "       -0.1413593 , -0.13457927, -0.13205839, -0.11494785, -0.1145738 ,\n",
       "       -0.1047888 , -0.09470669, -0.07855009, -0.07599165, -0.07299979,\n",
       "       -0.0648774 , -0.0637917 , -0.06271803, -0.04753411, -0.04586962,\n",
       "       -0.03298371, -0.01453905, -0.00627064, -0.00515651,  0.0199577 ,\n",
       "        0.02920174,  0.03097675,  0.03565225,  0.04712801,  0.05491311,\n",
       "        0.05517718,  0.05657897,  0.0600307 ,  0.07906971,  0.08153774,\n",
       "        0.0864226 ,  0.09222751,  0.10087671,  0.10557843,  0.11744558,\n",
       "        0.12408417,  0.13468824,  0.15851687,  0.15879739,  0.17193123,\n",
       "        0.19030296,  0.20315515,  0.21360186,  0.22270657,  0.22966804,\n",
       "        0.23031053,  0.23374937,  0.23685053,  0.24157613,  0.25005589,\n",
       "        0.25910088,  0.26597681,  0.26877614,  0.27112477,  0.28210605,\n",
       "        0.28689345,  0.31236064,  0.34182132,  0.34309576,  0.35551595,\n",
       "        0.37917566,  0.40781029,  0.40821276,  0.41940317,  0.42446791,\n",
       "        0.43132157,  0.43433147,  0.44884472,  0.46080463,  0.46874038,\n",
       "        0.48866753,  0.50733829,  0.50957747,  0.52477562,  0.56923924,\n",
       "        0.5756873 ,  0.59507947,  0.59835305,  0.62215697,  0.62618495,\n",
       "        0.6414047 ,  0.65372347,  0.67807439,  0.68860676,  0.70577408,\n",
       "        0.70692083,  0.70827122,  0.72313071,  0.73126127,  0.763358  ,\n",
       "        0.76387627,  0.77498595,  0.78517148,  0.79530091,  0.83444383,\n",
       "        0.83961351,  0.85437259,  0.86514465,  0.90077908,  0.92453946,\n",
       "        0.93434157,  0.98737821,  1.00184648,  1.00254316,  1.02391956,\n",
       "        1.03175509,  1.03925209,  1.07530166,  1.07596962,  1.08244269,\n",
       "        1.14910052,  1.19213408,  1.19278778,  1.28062381,  1.28981182,\n",
       "        1.2923703 ,  1.31049539,  1.32447582,  1.35213452,  1.36670421,\n",
       "        1.37080786,  1.376321  ,  1.39830022,  1.42307052,  1.45420538,\n",
       "        1.46618326,  1.46883257,  1.48034876,  1.49268786,  1.54933209,\n",
       "        1.58579717,  1.61216557,  1.61300902,  1.61342784,  1.98248468,\n",
       "        2.06079186,  2.12502097,  2.23963309,  2.24376121,  2.38521227,\n",
       "        2.42983425,  2.51572537,  2.66042985,  2.66818729,  3.14575603,\n",
       "        3.6243436 ,  4.80391355])"
      ]
     },
     "execution_count": 8,
     "metadata": {},
     "output_type": "execute_result"
    }
   ],
   "source": [
    "#To compute simple historic VaR, we simply sort the P&Ls and pick the one at the \n",
    "#percentile we need, in our case 5%\n",
    "np.sort(PnL)"
   ]
  },
  {
   "cell_type": "code",
   "execution_count": 9,
   "metadata": {},
   "outputs": [
    {
     "name": "stdout",
     "output_type": "stream",
     "text": [
      "The simple historical VaR is -1.6171199605525266\n"
     ]
    }
   ],
   "source": [
    "historic_var = np.percentile(PnL, 5, interpolation=\"lower\")\n",
    "print(f'The simple historical VaR is {historic_var}')\n"
   ]
  },
  {
   "cell_type": "markdown",
   "metadata": {},
   "source": [
    "Note that this VaR is in percentage terms. It can be converted to dollar terms by multiplying it by the total position value."
   ]
  },
  {
   "cell_type": "code",
   "execution_count": 12,
   "metadata": {},
   "outputs": [
    {
     "data": {
      "text/plain": [
       "<matplotlib.axes._subplots.AxesSubplot at 0x1a18cc1810>"
      ]
     },
     "execution_count": 12,
     "metadata": {},
     "output_type": "execute_result"
    },
    {
     "data": {
      "image/png": "[encoded data removed]",
      "text/plain": [
       "<Figure size 432x288 with 1 Axes>"
      ]
     },
     "metadata": {},
     "output_type": "display_data"
    }
   ],
   "source": [
    "returns['P&L'] = PnL #put it back in our dataframe\n",
    "\n",
    "returns['P&L'].plot(kind='hist', title=\"Histogram of P&Ls\")"
   ]
  },
  {
   "cell_type": "code",
   "execution_count": 14,
   "metadata": {},
   "outputs": [
    {
     "name": "stdout",
     "output_type": "stream",
     "text": [
      "Skew is 0.30275810677546755\n",
      "\n",
      "Kurtosis is 1.6703628605029035\n"
     ]
    }
   ],
   "source": [
    "from scipy.stats import kurtosis, skew\n",
    "\n",
    "print(f\"Skew is {skew(PnL)}\\n\")\n",
    "print(f\"Kurtosis is {kurtosis(PnL)}\")"
   ]
  },
  {
   "cell_type": "markdown",
   "metadata": {},
   "source": [
    "### Bootstrap VaR"
   ]
  },
  {
   "cell_type": "code",
   "execution_count": 15,
   "metadata": {},
   "outputs": [],
   "source": [
    "#This function returns historical VaR at 95% confidence. We will use it to feed bootstrap function\n",
    "def VaR_95(data):\n",
    "    return np.percentile(data, 5, interpolation=\"lower\")"
   ]
  },
  {
   "cell_type": "code",
   "execution_count": 16,
   "metadata": {},
   "outputs": [],
   "source": [
    "#This function will generate random samples with replacement\n",
    "def bootstrap(data, func):\n",
    "    sample = np.random.choice(data, len(data))\n",
    "    return func(sample)"
   ]
  },
  {
   "cell_type": "code",
   "execution_count": 17,
   "metadata": {},
   "outputs": [],
   "source": [
    "def draw_bs_reps(data, func, size):\n",
    "    \"\"\"Draw bootstrap replicates.\"\"\"\n",
    "\n",
    "    # Initialize array of replicates\n",
    "    bs_replicates = np.empty(size)\n",
    "\n",
    "    # Generate replicates\n",
    "    for i in range(size):\n",
    "        bs_replicates[i] = bootstrap(data, func)\n",
    "\n",
    "    return bs_replicates\n"
   ]
  },
  {
   "cell_type": "markdown",
   "metadata": {},
   "source": [
    "We take 10000 resampled VaR of our data with replacement, then the mean of that is our bootstrap VaR measure"
   ]
  },
  {
   "cell_type": "code",
   "execution_count": 19,
   "metadata": {},
   "outputs": [
    {
     "name": "stdout",
     "output_type": "stream",
     "text": [
      "The Bootstrap VaR measure is -1.610661905478375\n"
     ]
    }
   ],
   "source": [
    "#Take 10000 bootstrap replicates of portfolio returns\n",
    "bootstrap_VaR = draw_bs_reps(PnL, VaR_95, 10000)\n",
    "print(f\"The Bootstrap VaR measure is {np.mean(bootstrap_VaR)}\")"
   ]
  },
  {
   "cell_type": "markdown",
   "metadata": {},
   "source": [
    "This measure is quite close to our simple historical VaR, but slightly lower (higher number, lower VaR)"
   ]
  },
  {
   "cell_type": "code",
   "execution_count": 24,
   "metadata": {},
   "outputs": [
    {
     "data": {
      "text/plain": [
       "Text(0, 0.5, 'PDF')"
      ]
     },
     "execution_count": 24,
     "metadata": {},
     "output_type": "execute_result"
    },
    {
     "data": {
      "image/png": "[encoded data removed]",
      "text/plain": [
       "<Figure size 432x288 with 1 Axes>"
      ]
     },
     "metadata": {},
     "output_type": "display_data"
    }
   ],
   "source": [
    "plt.hist(bootstrap_VaR, bins=50, density=True)\n",
    "plt.xlabel('VaR Distribution of 10000 Samples')\n",
    "plt.ylabel('PDF')"
   ]
  },
  {
   "cell_type": "markdown",
   "metadata": {},
   "source": [
    "### Confidence Intervals"
   ]
  },
  {
   "cell_type": "markdown",
   "metadata": {},
   "source": [
    "One of the advantages of bootstrapping is that it allows us to get a fairly good measure of our VaR confidence intervals, which is better than just presenting one number as the VaR. "
   ]
  },
  {
   "cell_type": "code",
   "execution_count": 26,
   "metadata": {},
   "outputs": [
    {
     "name": "stdout",
     "output_type": "stream",
     "text": [
      "The 95% VaR Confidence Interval is [-1.84900654 -1.4030839 ]\n"
     ]
    }
   ],
   "source": [
    "conf_intervals = np.percentile(bootstrap_VaR, [2.5, 97.5])\n",
    "print(f\"The 95% VaR Confidence Interval is {conf_intervals}\")"
   ]
  },
  {
   "cell_type": "markdown",
   "metadata": {},
   "source": [
    "That's quite a tight interval, so we can be reasonably confident of our measure."
   ]
  },
  {
   "cell_type": "markdown",
   "metadata": {},
   "source": [
    "### Age-weighted Historical Simulation"
   ]
  },
  {
   "cell_type": "markdown",
   "metadata": {},
   "source": [
    "Simple historical simulation suffers from an obvious problem: it weights all days as being equally important, no matter how recent or far back. If you own shares in stocks that are highly seasonal, this is a problem. Another problem are \"ghost effects\", when you get a cluster of volatility somewhere in your date range that has an outsize effect on the VaR calculation. One way to address these problems is to weight recent days more heavily than those further in the past. We use a decay factor $\\lambda$, which is between 0 and 1. A lambda close to one indicates slow decay (values far in the past will still have weight), and close to zero is fast decay. The sum of the weights is 1, and the formula for the weight on day _w(i)_ is $\\frac{\\lambda^{i-1}(1-\\lambda)}{1-\\lambda^{n}}$"
   ]
  },
  {
   "cell_type": "markdown",
   "metadata": {},
   "source": [
    "To calculate VaR, we simply create an array of weights of the same length as our array of returns:"
   ]
  },
  {
   "cell_type": "code",
   "execution_count": 27,
   "metadata": {},
   "outputs": [],
   "source": [
    "lam = 0.5 #we're picking this arbitrarily\n",
    "n = len(returns)\n",
    "wts = [(lam**(i-1) * (1-lam))/(1-lam**n) for i in range(1, n+1)]#want to start on day 1, not day 0"
   ]
  },
  {
   "cell_type": "code",
   "execution_count": 28,
   "metadata": {},
   "outputs": [
    {
     "data": {
      "text/plain": [
       "[0.5,\n",
       " 0.25,\n",
       " 0.125,\n",
       " 0.0625,\n",
       " 0.03125,\n",
       " 0.015625,\n",
       " 0.0078125,\n",
       " 0.00390625,\n",
       " 0.001953125,\n",
       " 0.0009765625,\n",
       " 0.00048828125,\n",
       " 0.000244140625,\n",
       " 0.0001220703125,\n",
       " 6.103515625e-05,\n",
       " 3.0517578125e-05]"
      ]
     },
     "execution_count": 28,
     "metadata": {},
     "output_type": "execute_result"
    }
   ],
   "source": [
    "wts[:15] #We can see how they get smaller and smaller"
   ]
  },
  {
   "cell_type": "markdown",
   "metadata": {},
   "source": [
    "Now we sort the returns and look at the corresponding weights, we want the figure where the sum of the weights is .05 "
   ]
  },
  {
   "cell_type": "code",
   "execution_count": 30,
   "metadata": {},
   "outputs": [],
   "source": [
    "weights_dict = {'Returns':PnL, 'Weights':wts}\n",
    "wts_returns = pd.DataFrame(weights_dict)"
   ]
  },
  {
   "cell_type": "code",
   "execution_count": 40,
   "metadata": {},
   "outputs": [],
   "source": [
    "sort_wts = wts_returns.sort_values(by='Returns')"
   ]
  },
  {
   "cell_type": "code",
   "execution_count": 41,
   "metadata": {},
   "outputs": [],
   "source": [
    "sort_wts['Cumulative'] = sort_wts.Weights.cumsum()"
   ]
  },
  {
   "cell_type": "code",
   "execution_count": 42,
   "metadata": {},
   "outputs": [
    {
     "data": {
      "text/html": [
       "<div>\n",
       "<style scoped>\n",
       "    .dataframe tbody tr th:only-of-type {\n",
       "        vertical-align: middle;\n",
       "    }\n",
       "\n",
       "    .dataframe tbody tr th {\n",
       "        vertical-align: top;\n",
       "    }\n",
       "\n",
       "    .dataframe thead th {\n",
       "        text-align: right;\n",
       "    }\n",
       "</style>\n",
       "<table border=\"1\" class=\"dataframe\">\n",
       "  <thead>\n",
       "    <tr style=\"text-align: right;\">\n",
       "      <th></th>\n",
       "      <th>Returns</th>\n",
       "      <th>Weights</th>\n",
       "      <th>Cumulative</th>\n",
       "    </tr>\n",
       "  </thead>\n",
       "  <tbody>\n",
       "    <tr>\n",
       "      <th>112</th>\n",
       "      <td>-3.463700</td>\n",
       "      <td>9.629650e-35</td>\n",
       "      <td>9.629650e-35</td>\n",
       "    </tr>\n",
       "    <tr>\n",
       "      <th>119</th>\n",
       "      <td>-3.116409</td>\n",
       "      <td>7.523164e-37</td>\n",
       "      <td>9.704881e-35</td>\n",
       "    </tr>\n",
       "    <tr>\n",
       "      <th>113</th>\n",
       "      <td>-2.927039</td>\n",
       "      <td>4.814825e-35</td>\n",
       "      <td>1.451971e-34</td>\n",
       "    </tr>\n",
       "    <tr>\n",
       "      <th>227</th>\n",
       "      <td>-2.845546</td>\n",
       "      <td>2.318254e-69</td>\n",
       "      <td>1.451971e-34</td>\n",
       "    </tr>\n",
       "    <tr>\n",
       "      <th>207</th>\n",
       "      <td>-2.821092</td>\n",
       "      <td>2.430865e-63</td>\n",
       "      <td>1.451971e-34</td>\n",
       "    </tr>\n",
       "    <tr>\n",
       "      <th>...</th>\n",
       "      <td>...</td>\n",
       "      <td>...</td>\n",
       "      <td>...</td>\n",
       "    </tr>\n",
       "    <tr>\n",
       "      <th>222</th>\n",
       "      <td>2.660430</td>\n",
       "      <td>7.418412e-68</td>\n",
       "      <td>9.999990e-01</td>\n",
       "    </tr>\n",
       "    <tr>\n",
       "      <th>243</th>\n",
       "      <td>2.668187</td>\n",
       "      <td>3.537375e-74</td>\n",
       "      <td>9.999990e-01</td>\n",
       "    </tr>\n",
       "    <tr>\n",
       "      <th>123</th>\n",
       "      <td>3.145756</td>\n",
       "      <td>4.701977e-38</td>\n",
       "      <td>9.999990e-01</td>\n",
       "    </tr>\n",
       "    <tr>\n",
       "      <th>19</th>\n",
       "      <td>3.624344</td>\n",
       "      <td>9.536743e-07</td>\n",
       "      <td>1.000000e+00</td>\n",
       "    </tr>\n",
       "    <tr>\n",
       "      <th>115</th>\n",
       "      <td>4.803914</td>\n",
       "      <td>1.203706e-35</td>\n",
       "      <td>1.000000e+00</td>\n",
       "    </tr>\n",
       "  </tbody>\n",
       "</table>\n",
       "<p>252 rows × 3 columns</p>\n",
       "</div>"
      ],
      "text/plain": [
       "      Returns       Weights    Cumulative\n",
       "112 -3.463700  9.629650e-35  9.629650e-35\n",
       "119 -3.116409  7.523164e-37  9.704881e-35\n",
       "113 -2.927039  4.814825e-35  1.451971e-34\n",
       "227 -2.845546  2.318254e-69  1.451971e-34\n",
       "207 -2.821092  2.430865e-63  1.451971e-34\n",
       "..        ...           ...           ...\n",
       "222  2.660430  7.418412e-68  9.999990e-01\n",
       "243  2.668187  3.537375e-74  9.999990e-01\n",
       "123  3.145756  4.701977e-38  9.999990e-01\n",
       "19   3.624344  9.536743e-07  1.000000e+00\n",
       "115  4.803914  1.203706e-35  1.000000e+00\n",
       "\n",
       "[252 rows x 3 columns]"
      ]
     },
     "execution_count": 42,
     "metadata": {},
     "output_type": "execute_result"
    }
   ],
   "source": [
    "sort_wts"
   ]
  },
  {
   "cell_type": "code",
   "execution_count": 44,
   "metadata": {},
   "outputs": [
    {
     "data": {
      "text/plain": [
       "37"
      ]
     },
     "execution_count": 44,
     "metadata": {},
     "output_type": "execute_result"
    }
   ],
   "source": [
    "#Find where cumulative (percentile) hits 0.05\n",
    "sort_wts = sort_wts.reset_index().drop(columns=['index'])\n",
    "sort_wts[sort_wts.Cumulative <= 0.05].Returns.idxmax()"
   ]
  },
  {
   "cell_type": "code",
   "execution_count": 39,
   "metadata": {},
   "outputs": [
    {
     "data": {
      "text/html": [
       "<div>\n",
       "<style scoped>\n",
       "    .dataframe tbody tr th:only-of-type {\n",
       "        vertical-align: middle;\n",
       "    }\n",
       "\n",
       "    .dataframe tbody tr th {\n",
       "        vertical-align: top;\n",
       "    }\n",
       "\n",
       "    .dataframe thead th {\n",
       "        text-align: right;\n",
       "    }\n",
       "</style>\n",
       "<table border=\"1\" class=\"dataframe\">\n",
       "  <thead>\n",
       "    <tr style=\"text-align: right;\">\n",
       "      <th></th>\n",
       "      <th>Returns</th>\n",
       "      <th>Weights</th>\n",
       "      <th>Cumulative</th>\n",
       "    </tr>\n",
       "  </thead>\n",
       "  <tbody>\n",
       "    <tr>\n",
       "      <th>37</th>\n",
       "      <td>-0.996234</td>\n",
       "      <td>1.215433e-63</td>\n",
       "      <td>0.002076</td>\n",
       "    </tr>\n",
       "    <tr>\n",
       "      <th>38</th>\n",
       "      <td>-0.957416</td>\n",
       "      <td>5.000000e-01</td>\n",
       "      <td>0.502076</td>\n",
       "    </tr>\n",
       "  </tbody>\n",
       "</table>\n",
       "</div>"
      ],
      "text/plain": [
       "     Returns       Weights  Cumulative\n",
       "37 -0.996234  1.215433e-63    0.002076\n",
       "38 -0.957416  5.000000e-01    0.502076"
      ]
     },
     "execution_count": 39,
     "metadata": {},
     "output_type": "execute_result"
    }
   ],
   "source": [
    "sort_wts.loc[37:38]"
   ]
  },
  {
   "cell_type": "markdown",
   "metadata": {},
   "source": [
    "The reason for the big jump is because the return at index 39 is yesterday's return, so it has a large weight attached to it."
   ]
  },
  {
   "cell_type": "markdown",
   "metadata": {},
   "source": [
    "We can use simple linear interpolation to find the correct return values"
   ]
  },
  {
   "cell_type": "code",
   "execution_count": 38,
   "metadata": {},
   "outputs": [],
   "source": [
    "xp = sort_wts.loc[37:38, 'Cumulative'].values\n",
    "fp = sort_wts.loc[37:38, 'Returns'].values\n",
    "VaR_weighted = np.interp(0.5, xp, fp) #numpy's standard linear interpolation"
   ]
  },
  {
   "cell_type": "code",
   "execution_count": 39,
   "metadata": {},
   "outputs": [
    {
     "name": "stdout",
     "output_type": "stream",
     "text": [
      "Age-weighted VaR is -0.9575771133421019\n"
     ]
    }
   ],
   "source": [
    "print(f'Age-weighted VaR is {VaR_weighted}')"
   ]
  },
  {
   "cell_type": "markdown",
   "metadata": {},
   "source": [
    "We can see that the age-weighted VaR is less than standard HS, indicating that more recent returns weren't as bad. "
   ]
  },
  {
   "cell_type": "markdown",
   "metadata": {},
   "source": [
    "### Volatility-Weighted Historical Simulation"
   ]
  },
  {
   "cell_type": "markdown",
   "metadata": {},
   "source": [
    "This method places more weight on recent changes in volatility. To implement this, we will change the returns by the following formula: $r'_{t,i}=(\\frac{\\sigma_{T,i}}{\\sigma_{t,i}})r_{t,i}$, where $r'$ is the adjusted return of asset _i_ at time _t_, and $\\sigma_{t,i}$ is the forecasted volatility at time _t_ taken at time _t-1_. $\\sigma_{T,i}$ is the most recent forecasted volatility. So if volatility one month ago was only 2%, and today it's 10%, the model will weigh more recent returns more heavily. This makes intuitive sense, and in many ways does a better job than age-weighted VaR at capturing market conditions most likely to result in a loss we are trying to quantify. "
   ]
  },
  {
   "cell_type": "markdown",
   "metadata": {},
   "source": [
    "To implement this, we need to go back to our first dataframe and look at individual asset returns. Then, we'll use a GARCH(1,1) process to model volatility, adjust each return, and finally come up with a new P&L based on these adjusted returns."
   ]
  },
  {
   "cell_type": "code",
   "execution_count": 45,
   "metadata": {},
   "outputs": [],
   "source": [
    "from arch import arch_model"
   ]
  },
  {
   "cell_type": "code",
   "execution_count": 47,
   "metadata": {},
   "outputs": [],
   "source": [
    "#The default is a GARCH(1,1) model\n",
    "vols = pd.DataFrame(index=returns.index)\n",
    "for asset in returns.drop(columns='P&L'):\n",
    "    am = arch_model(returns[asset])\n",
    "    res = am.fit(disp='off')\n",
    "    vols[asset+'_vol'] = res.conditional_volatility"
   ]
  },
  {
   "cell_type": "code",
   "execution_count": 48,
   "metadata": {},
   "outputs": [
    {
     "data": {
      "text/html": [
       "<div>\n",
       "<style scoped>\n",
       "    .dataframe tbody tr th:only-of-type {\n",
       "        vertical-align: middle;\n",
       "    }\n",
       "\n",
       "    .dataframe tbody tr th {\n",
       "        vertical-align: top;\n",
       "    }\n",
       "\n",
       "    .dataframe thead th {\n",
       "        text-align: right;\n",
       "    }\n",
       "</style>\n",
       "<table border=\"1\" class=\"dataframe\">\n",
       "  <thead>\n",
       "    <tr style=\"text-align: right;\">\n",
       "      <th></th>\n",
       "      <th>AAPL_vol</th>\n",
       "      <th>GE_vol</th>\n",
       "      <th>GOOGL_vol</th>\n",
       "      <th>JNJ_vol</th>\n",
       "    </tr>\n",
       "    <tr>\n",
       "      <th>Date</th>\n",
       "      <th></th>\n",
       "      <th></th>\n",
       "      <th></th>\n",
       "      <th></th>\n",
       "    </tr>\n",
       "  </thead>\n",
       "  <tbody>\n",
       "    <tr>\n",
       "      <th>2015-03-13</th>\n",
       "      <td>1.297379</td>\n",
       "      <td>1.793020</td>\n",
       "      <td>1.495111</td>\n",
       "      <td>0.967023</td>\n",
       "    </tr>\n",
       "    <tr>\n",
       "      <th>2015-03-16</th>\n",
       "      <td>1.275132</td>\n",
       "      <td>1.530521</td>\n",
       "      <td>1.750867</td>\n",
       "      <td>0.948289</td>\n",
       "    </tr>\n",
       "    <tr>\n",
       "      <th>2015-03-17</th>\n",
       "      <td>1.288651</td>\n",
       "      <td>1.670491</td>\n",
       "      <td>1.791512</td>\n",
       "      <td>1.078877</td>\n",
       "    </tr>\n",
       "    <tr>\n",
       "      <th>2015-03-18</th>\n",
       "      <td>1.361983</td>\n",
       "      <td>1.102210</td>\n",
       "      <td>1.493387</td>\n",
       "      <td>1.093510</td>\n",
       "    </tr>\n",
       "    <tr>\n",
       "      <th>2015-03-19</th>\n",
       "      <td>1.364794</td>\n",
       "      <td>1.463300</td>\n",
       "      <td>1.707347</td>\n",
       "      <td>1.141917</td>\n",
       "    </tr>\n",
       "  </tbody>\n",
       "</table>\n",
       "</div>"
      ],
      "text/plain": [
       "            AAPL_vol    GE_vol  GOOGL_vol   JNJ_vol\n",
       "Date                                               \n",
       "2015-03-13  1.297379  1.793020   1.495111  0.967023\n",
       "2015-03-16  1.275132  1.530521   1.750867  0.948289\n",
       "2015-03-17  1.288651  1.670491   1.791512  1.078877\n",
       "2015-03-18  1.361983  1.102210   1.493387  1.093510\n",
       "2015-03-19  1.364794  1.463300   1.707347  1.141917"
      ]
     },
     "execution_count": 48,
     "metadata": {},
     "output_type": "execute_result"
    }
   ],
   "source": [
    "vols.head()"
   ]
  },
  {
   "cell_type": "code",
   "execution_count": 69,
   "metadata": {},
   "outputs": [
    {
     "data": {
      "image/png": "[encoded data removed]",
      "text/plain": [
       "<Figure size 432x288 with 2 Axes>"
      ]
     },
     "metadata": {
      "needs_background": "light"
     },
     "output_type": "display_data"
    }
   ],
   "source": [
    "fig = res.plot()"
   ]
  },
  {
   "cell_type": "markdown",
   "metadata": {},
   "source": [
    "Now for each stock, we need to take the conditional volatility from our last day, on 3/11/2016, and divide by the volatility on each given day, then multiply that by the return for that day."
   ]
  },
  {
   "cell_type": "markdown",
   "metadata": {},
   "source": [
    "Finally, we multiply each individual return by it's corresponding volatility adjustment, then calculate the new VaR."
   ]
  },
  {
   "cell_type": "code",
   "execution_count": 49,
   "metadata": {},
   "outputs": [],
   "source": [
    "vols2 = vols.copy()\n",
    "vols2['AAPL_vol'] = vols2['AAPL_vol'].apply(lambda x: vols2.AAPL_vol[-1] / x)\n",
    "vols2['GE_vol'] = vols2['GE_vol'].apply(lambda x: vols2.GE_vol[-1] / x)\n",
    "vols2['GOOGL_vol'] = vols2['GOOGL_vol'].apply(lambda x: vols2.GOOGL_vol[-1] / x)\n",
    "vols2['JNJ_vol'] = vols2['JNJ_vol'].apply(lambda x: vols2.JNJ_vol[-1] / x)"
   ]
  },
  {
   "cell_type": "code",
   "execution_count": 51,
   "metadata": {},
   "outputs": [
    {
     "ename": "KeyError",
     "evalue": "\"['P&L'] not found in axis\"",
     "output_type": "error",
     "traceback": [
      "\u001b[0;31m---------------------------------------------------------------------------\u001b[0m",
      "\u001b[0;31mKeyError\u001b[0m                                  Traceback (most recent call last)",
      "\u001b[0;32m<ipython-input-51-cd9a4e5beee3>\u001b[0m in \u001b[0;36m<module>\u001b[0;34m\u001b[0m\n\u001b[0;32m----> 1\u001b[0;31m \u001b[0mreturns\u001b[0m \u001b[0;34m=\u001b[0m \u001b[0mreturns\u001b[0m\u001b[0;34m.\u001b[0m\u001b[0mdrop\u001b[0m\u001b[0;34m(\u001b[0m\u001b[0mcolumns\u001b[0m\u001b[0;34m=\u001b[0m\u001b[0;34m'P&L'\u001b[0m\u001b[0;34m)\u001b[0m \u001b[0;31m#won't need that column anymore\u001b[0m\u001b[0;34m\u001b[0m\u001b[0;34m\u001b[0m\u001b[0m\n\u001b[0m",
      "\u001b[0;32m/opt/anaconda3/envs/Quant/lib/python3.7/site-packages/pandas/core/frame.py\u001b[0m in \u001b[0;36mdrop\u001b[0;34m(self, labels, axis, index, columns, level, inplace, errors)\u001b[0m\n\u001b[1;32m   3995\u001b[0m             \u001b[0mlevel\u001b[0m\u001b[0;34m=\u001b[0m\u001b[0mlevel\u001b[0m\u001b[0;34m,\u001b[0m\u001b[0;34m\u001b[0m\u001b[0;34m\u001b[0m\u001b[0m\n\u001b[1;32m   3996\u001b[0m             \u001b[0minplace\u001b[0m\u001b[0;34m=\u001b[0m\u001b[0minplace\u001b[0m\u001b[0;34m,\u001b[0m\u001b[0;34m\u001b[0m\u001b[0;34m\u001b[0m\u001b[0m\n\u001b[0;32m-> 3997\u001b[0;31m             \u001b[0merrors\u001b[0m\u001b[0;34m=\u001b[0m\u001b[0merrors\u001b[0m\u001b[0;34m,\u001b[0m\u001b[0;34m\u001b[0m\u001b[0;34m\u001b[0m\u001b[0m\n\u001b[0m\u001b[1;32m   3998\u001b[0m         )\n\u001b[1;32m   3999\u001b[0m \u001b[0;34m\u001b[0m\u001b[0m\n",
      "\u001b[0;32m/opt/anaconda3/envs/Quant/lib/python3.7/site-packages/pandas/core/generic.py\u001b[0m in \u001b[0;36mdrop\u001b[0;34m(self, labels, axis, index, columns, level, inplace, errors)\u001b[0m\n\u001b[1;32m   3934\u001b[0m         \u001b[0;32mfor\u001b[0m \u001b[0maxis\u001b[0m\u001b[0;34m,\u001b[0m \u001b[0mlabels\u001b[0m \u001b[0;32min\u001b[0m \u001b[0maxes\u001b[0m\u001b[0;34m.\u001b[0m\u001b[0mitems\u001b[0m\u001b[0;34m(\u001b[0m\u001b[0;34m)\u001b[0m\u001b[0;34m:\u001b[0m\u001b[0;34m\u001b[0m\u001b[0;34m\u001b[0m\u001b[0m\n\u001b[1;32m   3935\u001b[0m             \u001b[0;32mif\u001b[0m \u001b[0mlabels\u001b[0m \u001b[0;32mis\u001b[0m \u001b[0;32mnot\u001b[0m \u001b[0;32mNone\u001b[0m\u001b[0;34m:\u001b[0m\u001b[0;34m\u001b[0m\u001b[0;34m\u001b[0m\u001b[0m\n\u001b[0;32m-> 3936\u001b[0;31m                 \u001b[0mobj\u001b[0m \u001b[0;34m=\u001b[0m \u001b[0mobj\u001b[0m\u001b[0;34m.\u001b[0m\u001b[0m_drop_axis\u001b[0m\u001b[0;34m(\u001b[0m\u001b[0mlabels\u001b[0m\u001b[0;34m,\u001b[0m \u001b[0maxis\u001b[0m\u001b[0;34m,\u001b[0m \u001b[0mlevel\u001b[0m\u001b[0;34m=\u001b[0m\u001b[0mlevel\u001b[0m\u001b[0;34m,\u001b[0m \u001b[0merrors\u001b[0m\u001b[0;34m=\u001b[0m\u001b[0merrors\u001b[0m\u001b[0;34m)\u001b[0m\u001b[0;34m\u001b[0m\u001b[0;34m\u001b[0m\u001b[0m\n\u001b[0m\u001b[1;32m   3937\u001b[0m \u001b[0;34m\u001b[0m\u001b[0m\n\u001b[1;32m   3938\u001b[0m         \u001b[0;32mif\u001b[0m \u001b[0minplace\u001b[0m\u001b[0;34m:\u001b[0m\u001b[0;34m\u001b[0m\u001b[0;34m\u001b[0m\u001b[0m\n",
      "\u001b[0;32m/opt/anaconda3/envs/Quant/lib/python3.7/site-packages/pandas/core/generic.py\u001b[0m in \u001b[0;36m_drop_axis\u001b[0;34m(self, labels, axis, level, errors)\u001b[0m\n\u001b[1;32m   3968\u001b[0m                 \u001b[0mnew_axis\u001b[0m \u001b[0;34m=\u001b[0m \u001b[0maxis\u001b[0m\u001b[0;34m.\u001b[0m\u001b[0mdrop\u001b[0m\u001b[0;34m(\u001b[0m\u001b[0mlabels\u001b[0m\u001b[0;34m,\u001b[0m \u001b[0mlevel\u001b[0m\u001b[0;34m=\u001b[0m\u001b[0mlevel\u001b[0m\u001b[0;34m,\u001b[0m \u001b[0merrors\u001b[0m\u001b[0;34m=\u001b[0m\u001b[0merrors\u001b[0m\u001b[0;34m)\u001b[0m\u001b[0;34m\u001b[0m\u001b[0;34m\u001b[0m\u001b[0m\n\u001b[1;32m   3969\u001b[0m             \u001b[0;32melse\u001b[0m\u001b[0;34m:\u001b[0m\u001b[0;34m\u001b[0m\u001b[0;34m\u001b[0m\u001b[0m\n\u001b[0;32m-> 3970\u001b[0;31m                 \u001b[0mnew_axis\u001b[0m \u001b[0;34m=\u001b[0m \u001b[0maxis\u001b[0m\u001b[0;34m.\u001b[0m\u001b[0mdrop\u001b[0m\u001b[0;34m(\u001b[0m\u001b[0mlabels\u001b[0m\u001b[0;34m,\u001b[0m \u001b[0merrors\u001b[0m\u001b[0;34m=\u001b[0m\u001b[0merrors\u001b[0m\u001b[0;34m)\u001b[0m\u001b[0;34m\u001b[0m\u001b[0;34m\u001b[0m\u001b[0m\n\u001b[0m\u001b[1;32m   3971\u001b[0m             \u001b[0mresult\u001b[0m \u001b[0;34m=\u001b[0m \u001b[0mself\u001b[0m\u001b[0;34m.\u001b[0m\u001b[0mreindex\u001b[0m\u001b[0;34m(\u001b[0m\u001b[0;34m**\u001b[0m\u001b[0;34m{\u001b[0m\u001b[0maxis_name\u001b[0m\u001b[0;34m:\u001b[0m \u001b[0mnew_axis\u001b[0m\u001b[0;34m}\u001b[0m\u001b[0;34m)\u001b[0m\u001b[0;34m\u001b[0m\u001b[0;34m\u001b[0m\u001b[0m\n\u001b[1;32m   3972\u001b[0m \u001b[0;34m\u001b[0m\u001b[0m\n",
      "\u001b[0;32m/opt/anaconda3/envs/Quant/lib/python3.7/site-packages/pandas/core/indexes/base.py\u001b[0m in \u001b[0;36mdrop\u001b[0;34m(self, labels, errors)\u001b[0m\n\u001b[1;32m   5015\u001b[0m         \u001b[0;32mif\u001b[0m \u001b[0mmask\u001b[0m\u001b[0;34m.\u001b[0m\u001b[0many\u001b[0m\u001b[0;34m(\u001b[0m\u001b[0;34m)\u001b[0m\u001b[0;34m:\u001b[0m\u001b[0;34m\u001b[0m\u001b[0;34m\u001b[0m\u001b[0m\n\u001b[1;32m   5016\u001b[0m             \u001b[0;32mif\u001b[0m \u001b[0merrors\u001b[0m \u001b[0;34m!=\u001b[0m \u001b[0;34m\"ignore\"\u001b[0m\u001b[0;34m:\u001b[0m\u001b[0;34m\u001b[0m\u001b[0;34m\u001b[0m\u001b[0m\n\u001b[0;32m-> 5017\u001b[0;31m                 \u001b[0;32mraise\u001b[0m \u001b[0mKeyError\u001b[0m\u001b[0;34m(\u001b[0m\u001b[0;34mf\"{labels[mask]} not found in axis\"\u001b[0m\u001b[0;34m)\u001b[0m\u001b[0;34m\u001b[0m\u001b[0;34m\u001b[0m\u001b[0m\n\u001b[0m\u001b[1;32m   5018\u001b[0m             \u001b[0mindexer\u001b[0m \u001b[0;34m=\u001b[0m \u001b[0mindexer\u001b[0m\u001b[0;34m[\u001b[0m\u001b[0;34m~\u001b[0m\u001b[0mmask\u001b[0m\u001b[0;34m]\u001b[0m\u001b[0;34m\u001b[0m\u001b[0;34m\u001b[0m\u001b[0m\n\u001b[1;32m   5019\u001b[0m         \u001b[0;32mreturn\u001b[0m \u001b[0mself\u001b[0m\u001b[0;34m.\u001b[0m\u001b[0mdelete\u001b[0m\u001b[0;34m(\u001b[0m\u001b[0mindexer\u001b[0m\u001b[0;34m)\u001b[0m\u001b[0;34m\u001b[0m\u001b[0;34m\u001b[0m\u001b[0m\n",
      "\u001b[0;31mKeyError\u001b[0m: \"['P&L'] not found in axis\""
     ]
    }
   ],
   "source": [
    "returns = returns.drop(columns='P&L') #won't need that column anymore"
   ]
  },
  {
   "cell_type": "code",
   "execution_count": 52,
   "metadata": {},
   "outputs": [],
   "source": [
    "vol_adj_portfolio = pd.DataFrame(returns.values * vols2.values, columns=returns.columns,\\\n",
    "                                 index=returns.index)"
   ]
  },
  {
   "cell_type": "code",
   "execution_count": 53,
   "metadata": {},
   "outputs": [
    {
     "data": {
      "text/html": [
       "<div>\n",
       "<style scoped>\n",
       "    .dataframe tbody tr th:only-of-type {\n",
       "        vertical-align: middle;\n",
       "    }\n",
       "\n",
       "    .dataframe tbody tr th {\n",
       "        vertical-align: top;\n",
       "    }\n",
       "\n",
       "    .dataframe thead th {\n",
       "        text-align: right;\n",
       "    }\n",
       "</style>\n",
       "<table border=\"1\" class=\"dataframe\">\n",
       "  <thead>\n",
       "    <tr style=\"text-align: right;\">\n",
       "      <th></th>\n",
       "      <th>AAPL</th>\n",
       "      <th>GE</th>\n",
       "      <th>GOOGL</th>\n",
       "      <th>JNJ</th>\n",
       "    </tr>\n",
       "    <tr>\n",
       "      <th>Date</th>\n",
       "      <th></th>\n",
       "      <th></th>\n",
       "      <th></th>\n",
       "      <th></th>\n",
       "    </tr>\n",
       "  </thead>\n",
       "  <tbody>\n",
       "    <tr>\n",
       "      <th>2015-03-13</th>\n",
       "      <td>-0.789898</td>\n",
       "      <td>-0.830382</td>\n",
       "      <td>-1.477012</td>\n",
       "      <td>-0.539493</td>\n",
       "    </tr>\n",
       "    <tr>\n",
       "      <th>2015-03-16</th>\n",
       "      <td>1.279779</td>\n",
       "      <td>1.123840</td>\n",
       "      <td>1.353522</td>\n",
       "      <td>1.651839</td>\n",
       "    </tr>\n",
       "    <tr>\n",
       "      <th>2015-03-17</th>\n",
       "      <td>1.924905</td>\n",
       "      <td>-0.345932</td>\n",
       "      <td>-0.607515</td>\n",
       "      <td>-0.901420</td>\n",
       "    </tr>\n",
       "    <tr>\n",
       "      <th>2015-03-18</th>\n",
       "      <td>1.225627</td>\n",
       "      <td>1.242658</td>\n",
       "      <td>1.557374</td>\n",
       "      <td>1.207389</td>\n",
       "    </tr>\n",
       "    <tr>\n",
       "      <th>2015-03-19</th>\n",
       "      <td>-0.824651</td>\n",
       "      <td>-0.867970</td>\n",
       "      <td>-0.390722</td>\n",
       "      <td>0.166760</td>\n",
       "    </tr>\n",
       "    <tr>\n",
       "      <th>...</th>\n",
       "      <td>...</td>\n",
       "      <td>...</td>\n",
       "      <td>...</td>\n",
       "      <td>...</td>\n",
       "    </tr>\n",
       "    <tr>\n",
       "      <th>2016-03-07</th>\n",
       "      <td>-0.943898</td>\n",
       "      <td>-0.489700</td>\n",
       "      <td>-2.739301</td>\n",
       "      <td>0.200467</td>\n",
       "    </tr>\n",
       "    <tr>\n",
       "      <th>2016-03-08</th>\n",
       "      <td>-0.724602</td>\n",
       "      <td>-0.721960</td>\n",
       "      <td>0.067265</td>\n",
       "      <td>-0.452951</td>\n",
       "    </tr>\n",
       "    <tr>\n",
       "      <th>2016-03-09</th>\n",
       "      <td>0.081250</td>\n",
       "      <td>-0.029579</td>\n",
       "      <td>1.620373</td>\n",
       "      <td>0.553685</td>\n",
       "    </tr>\n",
       "    <tr>\n",
       "      <th>2016-03-10</th>\n",
       "      <td>0.047287</td>\n",
       "      <td>-0.381499</td>\n",
       "      <td>0.786282</td>\n",
       "      <td>0.271638</td>\n",
       "    </tr>\n",
       "    <tr>\n",
       "      <th>2016-03-11</th>\n",
       "      <td>1.077394</td>\n",
       "      <td>1.336005</td>\n",
       "      <td>1.734570</td>\n",
       "      <td>0.532014</td>\n",
       "    </tr>\n",
       "  </tbody>\n",
       "</table>\n",
       "<p>252 rows × 4 columns</p>\n",
       "</div>"
      ],
      "text/plain": [
       "                AAPL        GE     GOOGL       JNJ\n",
       "Date                                              \n",
       "2015-03-13 -0.789898 -0.830382 -1.477012 -0.539493\n",
       "2015-03-16  1.279779  1.123840  1.353522  1.651839\n",
       "2015-03-17  1.924905 -0.345932 -0.607515 -0.901420\n",
       "2015-03-18  1.225627  1.242658  1.557374  1.207389\n",
       "2015-03-19 -0.824651 -0.867970 -0.390722  0.166760\n",
       "...              ...       ...       ...       ...\n",
       "2016-03-07 -0.943898 -0.489700 -2.739301  0.200467\n",
       "2016-03-08 -0.724602 -0.721960  0.067265 -0.452951\n",
       "2016-03-09  0.081250 -0.029579  1.620373  0.553685\n",
       "2016-03-10  0.047287 -0.381499  0.786282  0.271638\n",
       "2016-03-11  1.077394  1.336005  1.734570  0.532014\n",
       "\n",
       "[252 rows x 4 columns]"
      ]
     },
     "execution_count": 53,
     "metadata": {},
     "output_type": "execute_result"
    }
   ],
   "source": [
    "vol_adj_portfolio #These are the returns adjusted for volatility"
   ]
  },
  {
   "cell_type": "code",
   "execution_count": 57,
   "metadata": {},
   "outputs": [],
   "source": [
    "#Convert volatility-adjusted returns back into P/L\n",
    "weights = [0.2, 0.3, 0.1, 0.4] #same weights as before\n",
    "vol_adjusted_returns = (weights * vol_adj_portfolio.values).sum(axis=1)"
   ]
  },
  {
   "cell_type": "code",
   "execution_count": 58,
   "metadata": {},
   "outputs": [
    {
     "name": "stdout",
     "output_type": "stream",
     "text": [
      "The volitility weighted historical VaR is -1.3324319104468239\n"
     ]
    }
   ],
   "source": [
    "VaR_Vol_Weighted = np.percentile(vol_adjusted_returns, 5, interpolation=\"lower\") \n",
    "print(f'The volitility weighted historical VaR is {VaR_Vol_Weighted}')"
   ]
  },
  {
   "cell_type": "markdown",
   "metadata": {},
   "source": [
    "### Filtered Historical Simulation"
   ]
  },
  {
   "cell_type": "markdown",
   "metadata": {},
   "source": [
    "One way to think about this method is a combination of of volatility-weighted and bootstrap VaR. We are going to make a volatility adjustment (though not quite the same way), then generate bootstrap samples for each set of returns."
   ]
  },
  {
   "cell_type": "markdown",
   "metadata": {},
   "source": [
    "I'm going to use the same volatilities as the previous model, using the last 100 days as our sample period from which we will bootstrap. For this method, we're not doing the same volatility adjustment, but rather dividing each return from the last 100 days by its respective forecasted volatility."
   ]
  },
  {
   "cell_type": "code",
   "execution_count": 54,
   "metadata": {},
   "outputs": [],
   "source": [
    "returns_100 = returns[-100:] #only using 100 days as our sample"
   ]
  },
  {
   "cell_type": "code",
   "execution_count": 55,
   "metadata": {},
   "outputs": [],
   "source": [
    "index = returns.index\n",
    "start_loc = 0\n",
    "end_loc = np.where(index >= '2015-10-20')[0].min()"
   ]
  },
  {
   "cell_type": "code",
   "execution_count": 56,
   "metadata": {},
   "outputs": [],
   "source": [
    "vols = pd.DataFrame(index=returns_100.index)\n",
    "for asset in returns:\n",
    "    forecasts = {}\n",
    "    am = arch_model(returns[asset])\n",
    "    for i in range(100):\n",
    "        res = am.fit(first_obs=i, last_obs=i + end_loc, disp='off')\n",
    "        temp = res.forecast(horizon=1).variance\n",
    "        fcast = temp.iloc[i + end_loc - 1]\n",
    "        forecasts[fcast.name] = fcast\n",
    "    vols[asset+'_vol'] = forecasts.values()"
   ]
  },
  {
   "cell_type": "code",
   "execution_count": 57,
   "metadata": {},
   "outputs": [],
   "source": [
    "#Need to clean up the cells and cast them as floats\n",
    "vols2 = vols.applymap(lambda x: re.sub(r'[\\(\\),]', '', str(x)))\n",
    "\n",
    "vols2 = vols2.astype('float')"
   ]
  },
  {
   "cell_type": "code",
   "execution_count": 58,
   "metadata": {},
   "outputs": [
    {
     "data": {
      "text/html": [
       "<div>\n",
       "<style scoped>\n",
       "    .dataframe tbody tr th:only-of-type {\n",
       "        vertical-align: middle;\n",
       "    }\n",
       "\n",
       "    .dataframe tbody tr th {\n",
       "        vertical-align: top;\n",
       "    }\n",
       "\n",
       "    .dataframe thead th {\n",
       "        text-align: right;\n",
       "    }\n",
       "</style>\n",
       "<table border=\"1\" class=\"dataframe\">\n",
       "  <thead>\n",
       "    <tr style=\"text-align: right;\">\n",
       "      <th></th>\n",
       "      <th>AAPL_vol</th>\n",
       "      <th>GE_vol</th>\n",
       "      <th>GOOGL_vol</th>\n",
       "      <th>JNJ_vol</th>\n",
       "    </tr>\n",
       "    <tr>\n",
       "      <th>Date</th>\n",
       "      <th></th>\n",
       "      <th></th>\n",
       "      <th></th>\n",
       "      <th></th>\n",
       "    </tr>\n",
       "  </thead>\n",
       "  <tbody>\n",
       "    <tr>\n",
       "      <th>2015-10-19</th>\n",
       "      <td>1.283881</td>\n",
       "      <td>1.054642</td>\n",
       "      <td>1.232927</td>\n",
       "      <td>0.805907</td>\n",
       "    </tr>\n",
       "    <tr>\n",
       "      <th>2015-10-20</th>\n",
       "      <td>1.404868</td>\n",
       "      <td>1.107672</td>\n",
       "      <td>2.754650</td>\n",
       "      <td>0.806089</td>\n",
       "    </tr>\n",
       "    <tr>\n",
       "      <th>2015-10-21</th>\n",
       "      <td>1.312444</td>\n",
       "      <td>0.942198</td>\n",
       "      <td>2.005059</td>\n",
       "      <td>0.750278</td>\n",
       "    </tr>\n",
       "    <tr>\n",
       "      <th>2015-10-22</th>\n",
       "      <td>1.375855</td>\n",
       "      <td>2.632411</td>\n",
       "      <td>1.801315</td>\n",
       "      <td>1.161091</td>\n",
       "    </tr>\n",
       "    <tr>\n",
       "      <th>2015-10-23</th>\n",
       "      <td>1.786932</td>\n",
       "      <td>0.963176</td>\n",
       "      <td>4.917086</td>\n",
       "      <td>1.090406</td>\n",
       "    </tr>\n",
       "    <tr>\n",
       "      <th>...</th>\n",
       "      <td>...</td>\n",
       "      <td>...</td>\n",
       "      <td>...</td>\n",
       "      <td>...</td>\n",
       "    </tr>\n",
       "    <tr>\n",
       "      <th>2016-03-07</th>\n",
       "      <td>1.849155</td>\n",
       "      <td>1.274540</td>\n",
       "      <td>1.850802</td>\n",
       "      <td>1.020471</td>\n",
       "    </tr>\n",
       "    <tr>\n",
       "      <th>2016-03-08</th>\n",
       "      <td>1.808772</td>\n",
       "      <td>1.259393</td>\n",
       "      <td>1.659704</td>\n",
       "      <td>1.016501</td>\n",
       "    </tr>\n",
       "    <tr>\n",
       "      <th>2016-03-09</th>\n",
       "      <td>1.768046</td>\n",
       "      <td>1.193461</td>\n",
       "      <td>1.671411</td>\n",
       "      <td>1.003260</td>\n",
       "    </tr>\n",
       "    <tr>\n",
       "      <th>2016-03-10</th>\n",
       "      <td>1.729472</td>\n",
       "      <td>1.152055</td>\n",
       "      <td>1.587377</td>\n",
       "      <td>0.977446</td>\n",
       "    </tr>\n",
       "    <tr>\n",
       "      <th>2016-03-11</th>\n",
       "      <td>1.709011</td>\n",
       "      <td>1.189918</td>\n",
       "      <td>1.636696</td>\n",
       "      <td>0.961113</td>\n",
       "    </tr>\n",
       "  </tbody>\n",
       "</table>\n",
       "<p>100 rows × 4 columns</p>\n",
       "</div>"
      ],
      "text/plain": [
       "            AAPL_vol    GE_vol  GOOGL_vol   JNJ_vol\n",
       "Date                                               \n",
       "2015-10-19  1.283881  1.054642   1.232927  0.805907\n",
       "2015-10-20  1.404868  1.107672   2.754650  0.806089\n",
       "2015-10-21  1.312444  0.942198   2.005059  0.750278\n",
       "2015-10-22  1.375855  2.632411   1.801315  1.161091\n",
       "2015-10-23  1.786932  0.963176   4.917086  1.090406\n",
       "...              ...       ...        ...       ...\n",
       "2016-03-07  1.849155  1.274540   1.850802  1.020471\n",
       "2016-03-08  1.808772  1.259393   1.659704  1.016501\n",
       "2016-03-09  1.768046  1.193461   1.671411  1.003260\n",
       "2016-03-10  1.729472  1.152055   1.587377  0.977446\n",
       "2016-03-11  1.709011  1.189918   1.636696  0.961113\n",
       "\n",
       "[100 rows x 4 columns]"
      ]
     },
     "execution_count": 58,
     "metadata": {},
     "output_type": "execute_result"
    }
   ],
   "source": [
    "\n",
    "vols2 = np.sqrt(vols2) #turn from variance to volatility\n",
    "vols2"
   ]
  },
  {
   "cell_type": "code",
   "execution_count": 71,
   "metadata": {},
   "outputs": [
    {
     "data": {
      "text/plain": [
       "array([[1.28388096, 1.0546425 , 1.23292748, 0.80590722],\n",
       "       [1.40486817, 1.10767169, 2.75464978, 0.80608944],\n",
       "       [1.31244366, 0.94219788, 2.00505882, 0.75027822],\n",
       "       [1.37585473, 2.63241137, 1.80131472, 1.16109108],\n",
       "       [1.78693206, 0.96317573, 4.91708584, 1.09040619],\n",
       "       [2.11975844, 0.95864494, 3.08744589, 0.99854582],\n",
       "       [1.92610665, 0.96773766, 1.89266251, 0.91783056],\n",
       "       [2.53470794, 0.95097604, 1.40271373, 0.79046458],\n",
       "       [2.32205057, 0.93401135, 1.49307849, 0.95106171],\n",
       "       [2.10638312, 1.60496955, 1.51183596, 0.80790578],\n",
       "       [2.00134408, 1.8867208 , 1.68904742, 1.03444453],\n",
       "       [1.87542893, 1.15436464, 1.28180317, 0.79107201],\n",
       "       [1.74104115, 0.94438218, 1.3392967 , 0.76778099],\n",
       "       [1.59584734, 1.00486044, 1.28039854, 0.79357103],\n",
       "       [1.44518284, 1.32932992, 1.14338066, 0.81403792],\n",
       "       [1.31585198, 1.05848073, 1.4010181 , 1.05335124],\n",
       "       [1.82559163, 1.54274435, 1.22015962, 0.8407746 ],\n",
       "       [1.69296642, 1.58194999, 1.33232076, 0.79176252],\n",
       "       [1.56782927, 1.62772684, 1.5810549 , 1.30193271],\n",
       "       [1.84973466, 1.2653161 , 2.3262157 , 0.9217892 ],\n",
       "       [1.83172331, 1.13383499, 1.89384928, 1.00209127],\n",
       "       [1.69669523, 1.08665516, 1.47824577, 0.92121091],\n",
       "       [2.02215837, 1.04164062, 1.9544809 , 0.9602598 ],\n",
       "       [1.93074173, 1.02346733, 1.37944737, 0.89593992],\n",
       "       [1.79034015, 1.07190264, 2.17019964, 0.87848636],\n",
       "       [1.7285398 , 1.00361012, 1.4629717 , 0.83249439],\n",
       "       [1.65539748, 0.94147224, 1.50918292, 0.84742002],\n",
       "       [1.55856938, 0.9716983 , 1.22993612, 0.80845635],\n",
       "       [1.45143854, 0.91039783, 1.14355123, 0.79024124],\n",
       "       [1.36382552, 1.01518956, 1.5772967 , 0.88874884],\n",
       "       [1.30244763, 0.99306568, 2.58207604, 0.93730137],\n",
       "       [1.26225202, 0.96576994, 1.78987003, 0.88238787],\n",
       "       [1.22934493, 0.90878315, 1.76470143, 0.97213132],\n",
       "       [1.74774927, 1.03055868, 1.71491816, 1.53305041],\n",
       "       [1.6334245 , 0.97785963, 1.51266803, 0.84203797],\n",
       "       [1.54985266, 0.94704674, 1.211716  , 0.98568833],\n",
       "       [1.64492873, 0.95192958, 1.88943471, 0.8304698 ],\n",
       "       [1.5724219 , 0.92076535, 1.39698259, 0.83502977],\n",
       "       [1.72427613, 0.99843602, 1.68552528, 1.00885659],\n",
       "       [1.6377428 , 0.93567379, 1.79359372, 0.83627377],\n",
       "       [1.65226305, 0.88415674, 1.36456098, 1.39190664],\n",
       "       [1.59482691, 1.14555115, 2.09504797, 1.04314528],\n",
       "       [1.66244979, 1.11065331, 1.67433131, 1.2669645 ],\n",
       "       [1.81710147, 1.10143118, 2.02585893, 1.35196577],\n",
       "       [1.7690635 , 1.04982954, 1.43144292, 0.88132929],\n",
       "       [1.66790115, 0.99906386, 1.33021605, 1.04120645],\n",
       "       [1.64937106, 1.0796565 , 1.16149556, 0.92784476],\n",
       "       [1.56630995, 1.03377506, 1.1893662 , 0.81523787],\n",
       "       [1.52024073, 0.98649373, 2.07140041, 0.86510382],\n",
       "       [1.59016384, 1.02735167, 1.83555432, 0.92222335],\n",
       "       [1.55954111, 1.01214022, 1.43797477, 0.82514781],\n",
       "       [1.60966787, 0.96379737, 1.9167715 , 1.04210284],\n",
       "       [1.5297913 , 1.05576029, 2.59136982, 1.65750095],\n",
       "       [1.65916833, 0.99958588, 1.61864779, 0.89593054],\n",
       "       [1.69328392, 1.12031381, 1.31998878, 0.88890631],\n",
       "       [2.127149  , 2.04746593, 2.52775623, 1.13296626],\n",
       "       [1.99094602, 1.99930019, 2.06600977, 1.096787  ],\n",
       "       [1.96178941, 1.79678654, 1.3553521 , 0.92946201],\n",
       "       [1.92335661, 1.65274079, 1.99130953, 0.91634485],\n",
       "       [1.97447415, 1.61486871, 3.90540555, 1.17187963],\n",
       "       [2.0100685 , 1.87343407, 2.37021895, 1.47042713],\n",
       "       [2.02420848, 1.88801772, 3.33848969, 1.5535152 ],\n",
       "       [1.91561315, 1.72049874, 1.72750649, 0.8953313 ],\n",
       "       [1.82156513, 1.71863304, 1.40515285, 1.44003654],\n",
       "       [1.74642981, 1.77492211, 1.66644108, 0.91589472],\n",
       "       [2.27233927, 1.69907765, 2.75843272, 0.97868793],\n",
       "       [2.20153774, 1.58407698, 2.27107761, 0.89348705],\n",
       "       [2.08898286, 1.49740703, 1.40584168, 2.11024667],\n",
       "       [2.82254832, 1.44956531, 2.76741391, 1.91299399],\n",
       "       [2.59131043, 1.3634332 , 4.02811978, 1.70266003],\n",
       "       [2.68286784, 1.7464452 , 2.60457067, 1.72491335],\n",
       "       [2.4795414 , 1.72509824, 1.91131317, 1.549068  ],\n",
       "       [2.3782866 , 1.68313876, 1.76935987, 1.44877311],\n",
       "       [2.31693255, 1.65155853, 3.94188582, 1.32701121],\n",
       "       [2.19582615, 1.65783332, 3.21616273, 1.19795963],\n",
       "       [2.20555926, 1.76259156, 3.8063141 , 1.74963713],\n",
       "       [2.11888395, 1.70457722, 1.64496354, 1.67551793],\n",
       "       [2.02067079, 1.57153017, 1.6323038 , 1.53533723],\n",
       "       [1.94343287, 1.43998055, 1.62274232, 1.40727218],\n",
       "       [1.8728714 , 1.79420254, 1.61203949, 1.29021325],\n",
       "       [1.80943517, 2.01207824, 1.60245619, 1.18961715],\n",
       "       [1.94921819, 2.03263574, 1.60235561, 1.12627973],\n",
       "       [1.93332315, 1.94589424, 1.60841398, 1.05234412],\n",
       "       [1.93298393, 1.81901014, 1.61651083, 1.16551062],\n",
       "       [1.87358703, 1.67041803, 1.61073948, 1.11642042],\n",
       "       [1.84107707, 1.61136522, 1.60719077, 1.07011128],\n",
       "       [1.88050345, 1.50938285, 1.66315431, 1.05570518],\n",
       "       [1.87870609, 1.44533957, 1.52990884, 1.04686947],\n",
       "       [1.83564816, 1.48795721, 1.53317159, 1.09485632],\n",
       "       [1.78640921, 1.38264454, 1.48796039, 1.07404431],\n",
       "       [1.73366716, 1.3425243 , 1.51337869, 1.05591734],\n",
       "       [2.05790623, 1.58161448, 2.10869577, 1.19391465],\n",
       "       [1.96321072, 1.49611653, 1.78646345, 1.13379762],\n",
       "       [1.90534567, 1.38508534, 1.69812565, 1.09345636],\n",
       "       [1.88742398, 1.31841699, 1.55851731, 1.05346188],\n",
       "       [1.84915457, 1.27454   , 1.85080184, 1.02047066],\n",
       "       [1.8087717 , 1.25939295, 1.65970353, 1.01650134],\n",
       "       [1.76804597, 1.19346061, 1.67141076, 1.00326012],\n",
       "       [1.72947176, 1.15205498, 1.58737681, 0.97744594]])"
      ]
     },
     "execution_count": 71,
     "metadata": {},
     "output_type": "execute_result"
    }
   ],
   "source": [
    "#Save tomorrow's forecast volatility as variable \n",
    "vol_tomorrow = vols2.iloc[-1].copy().values \n",
    "\n",
    "#Shift down one, because these numbers are 1 day ahead forecasts\n",
    "vols_fhs = vols2.shift(periods=1).values\n",
    "vols_fhs = np.delete(vols_fhs, 0, 0) #need to delete empty first row\n",
    "vols_fhs"
   ]
  },
  {
   "cell_type": "code",
   "execution_count": 88,
   "metadata": {},
   "outputs": [],
   "source": [
    "returns_100 = returns_100.shift(periods=1).drop(pd.Timestamp('2015-10-29'))"
   ]
  },
  {
   "cell_type": "code",
   "execution_count": 89,
   "metadata": {},
   "outputs": [],
   "source": [
    "standardized_returns = pd.DataFrame(returns_100.values/ vols_fhs, \\\n",
    "                                    columns=returns_100.columns,\\\n",
    "                                    index=returns_100.index)"
   ]
  },
  {
   "cell_type": "code",
   "execution_count": 90,
   "metadata": {},
   "outputs": [
    {
     "data": {
      "text/html": [
       "<div>\n",
       "<style scoped>\n",
       "    .dataframe tbody tr th:only-of-type {\n",
       "        vertical-align: middle;\n",
       "    }\n",
       "\n",
       "    .dataframe tbody tr th {\n",
       "        vertical-align: top;\n",
       "    }\n",
       "\n",
       "    .dataframe thead th {\n",
       "        text-align: right;\n",
       "    }\n",
       "</style>\n",
       "<table border=\"1\" class=\"dataframe\">\n",
       "  <thead>\n",
       "    <tr style=\"text-align: right;\">\n",
       "      <th></th>\n",
       "      <th>AAPL</th>\n",
       "      <th>GE</th>\n",
       "      <th>GOOGL</th>\n",
       "      <th>JNJ</th>\n",
       "    </tr>\n",
       "    <tr>\n",
       "      <th>Date</th>\n",
       "      <th></th>\n",
       "      <th></th>\n",
       "      <th></th>\n",
       "      <th></th>\n",
       "    </tr>\n",
       "  </thead>\n",
       "  <tbody>\n",
       "    <tr>\n",
       "      <th>2015-10-19</th>\n",
       "      <td>NaN</td>\n",
       "      <td>NaN</td>\n",
       "      <td>NaN</td>\n",
       "      <td>NaN</td>\n",
       "    </tr>\n",
       "    <tr>\n",
       "      <th>2015-10-20</th>\n",
       "      <td>NaN</td>\n",
       "      <td>NaN</td>\n",
       "      <td>NaN</td>\n",
       "      <td>NaN</td>\n",
       "    </tr>\n",
       "    <tr>\n",
       "      <th>2015-10-21</th>\n",
       "      <td>0.473466</td>\n",
       "      <td>0.036623</td>\n",
       "      <td>0.332100</td>\n",
       "      <td>-0.407015</td>\n",
       "    </tr>\n",
       "    <tr>\n",
       "      <th>2015-10-22</th>\n",
       "      <td>1.327052</td>\n",
       "      <td>-0.275180</td>\n",
       "      <td>-1.582291</td>\n",
       "      <td>-0.307781</td>\n",
       "    </tr>\n",
       "    <tr>\n",
       "      <th>2015-10-23</th>\n",
       "      <td>-0.004919</td>\n",
       "      <td>0.252523</td>\n",
       "      <td>-0.245243</td>\n",
       "      <td>0.037589</td>\n",
       "    </tr>\n",
       "    <tr>\n",
       "      <th>...</th>\n",
       "      <td>...</td>\n",
       "      <td>...</td>\n",
       "      <td>...</td>\n",
       "      <td>...</td>\n",
       "    </tr>\n",
       "    <tr>\n",
       "      <th>2016-03-07</th>\n",
       "      <td>0.394409</td>\n",
       "      <td>0.100528</td>\n",
       "      <td>-0.684603</td>\n",
       "      <td>-0.345859</td>\n",
       "    </tr>\n",
       "    <tr>\n",
       "      <th>2016-03-08</th>\n",
       "      <td>0.804522</td>\n",
       "      <td>0.623108</td>\n",
       "      <td>-0.101180</td>\n",
       "      <td>-0.137826</td>\n",
       "    </tr>\n",
       "    <tr>\n",
       "      <th>2016-03-09</th>\n",
       "      <td>-0.611845</td>\n",
       "      <td>-0.443157</td>\n",
       "      <td>-1.437355</td>\n",
       "      <td>0.221694</td>\n",
       "    </tr>\n",
       "    <tr>\n",
       "      <th>2016-03-10</th>\n",
       "      <td>-0.466379</td>\n",
       "      <td>-0.636239</td>\n",
       "      <td>0.061273</td>\n",
       "      <td>-0.485582</td>\n",
       "    </tr>\n",
       "    <tr>\n",
       "      <th>2016-03-11</th>\n",
       "      <td>0.051508</td>\n",
       "      <td>-0.028876</td>\n",
       "      <td>1.048876</td>\n",
       "      <td>0.597163</td>\n",
       "    </tr>\n",
       "  </tbody>\n",
       "</table>\n",
       "<p>99 rows × 4 columns</p>\n",
       "</div>"
      ],
      "text/plain": [
       "                AAPL        GE     GOOGL       JNJ\n",
       "Date                                              \n",
       "2015-10-19       NaN       NaN       NaN       NaN\n",
       "2015-10-20       NaN       NaN       NaN       NaN\n",
       "2015-10-21  0.473466  0.036623  0.332100 -0.407015\n",
       "2015-10-22  1.327052 -0.275180 -1.582291 -0.307781\n",
       "2015-10-23 -0.004919  0.252523 -0.245243  0.037589\n",
       "...              ...       ...       ...       ...\n",
       "2016-03-07  0.394409  0.100528 -0.684603 -0.345859\n",
       "2016-03-08  0.804522  0.623108 -0.101180 -0.137826\n",
       "2016-03-09 -0.611845 -0.443157 -1.437355  0.221694\n",
       "2016-03-10 -0.466379 -0.636239  0.061273 -0.485582\n",
       "2016-03-11  0.051508 -0.028876  1.048876  0.597163\n",
       "\n",
       "[99 rows x 4 columns]"
      ]
     },
     "execution_count": 90,
     "metadata": {},
     "output_type": "execute_result"
    }
   ],
   "source": [
    "standardized_returns"
   ]
  },
  {
   "cell_type": "code",
   "execution_count": 80,
   "metadata": {},
   "outputs": [],
   "source": [
    "nrows = standardized_returns.shape[0]\n",
    "def bootstrap_fhs(data):\n",
    "    '''Draws a random vector of returns and multiplies it \n",
    "       by updated volatility forecast'''\n",
    "    idx = np.random.choice(nrows, 1)\n",
    "    sample = data.iloc[idx, :].values\n",
    "    return sample * vol_tomorrow\n",
    "\n",
    "def draw_bs_reps_fhs(data, size):\n",
    "    \"\"\"Draw bootstrap replicates\"\"\"\n",
    "\n",
    "    # Initialize array of replicates: bs_replicates\n",
    "    bs_replicates = np.empty([size, 4])\n",
    "\n",
    "    # Generate replicates\n",
    "    for i in range(size):\n",
    "        bs_replicates[i] = bootstrap_fhs(data)\n",
    "\n",
    "    return bs_replicates"
   ]
  },
  {
   "cell_type": "markdown",
   "metadata": {},
   "source": [
    "Unlike in regular bootstrap HS, we're going to run a bootstrap on each asset separately, then compute a simulated P&L at the end. In other words, each bootstrap draw doesn't draw an individual return, but a vector of returns for a particular day. This way it preserves correlations between them."
   ]
  },
  {
   "cell_type": "code",
   "execution_count": 81,
   "metadata": {},
   "outputs": [],
   "source": [
    "bootstrap_std_returns = draw_bs_reps_fhs(standardized_returns, 10000)\n",
    "    "
   ]
  },
  {
   "cell_type": "code",
   "execution_count": 82,
   "metadata": {},
   "outputs": [],
   "source": [
    "simulated_PnL = (weights * bootstrap_std_returns).sum(axis=1)"
   ]
  },
  {
   "cell_type": "code",
   "execution_count": 83,
   "metadata": {},
   "outputs": [
    {
     "name": "stdout",
     "output_type": "stream",
     "text": [
      "The filtered historical simulated VaR is -1.3894333058864998\n"
     ]
    }
   ],
   "source": [
    "VaR_FHS = np.percentile(simulated_PnL, 5, interpolation=\"lower\") \n",
    "print(f'The filtered historical simulated VaR is {VaR_FHS}')"
   ]
  },
  {
   "cell_type": "code",
   "execution_count": null,
   "metadata": {},
   "outputs": [],
   "source": []
  }
 ],
 "metadata": {
  "kernelspec": {
   "display_name": "Python 3",
   "language": "python",
   "name": "python3"
  },
  "language_info": {
   "codemirror_mode": {
    "name": "ipython",
    "version": 3
   },
   "file_extension": ".py",
   "mimetype": "text/x-python",
   "name": "python",
   "nbconvert_exporter": "python",
   "pygments_lexer": "ipython3",
   "version": "3.7.7"
  }
 },
 "nbformat": 4,
 "nbformat_minor": 4
}
